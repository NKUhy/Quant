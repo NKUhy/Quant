{
 "cells": [
  {
   "cell_type": "markdown",
   "metadata": {},
   "source": [
    "# 5_金融数据获取、清洗、整理和存储"
   ]
  },
  {
   "cell_type": "code",
   "execution_count": 1,
   "metadata": {},
   "outputs": [],
   "source": [
    "%matplotlib inline\n",
    "import matplotlib.pyplot as plt\n",
    "import seaborn as sns\n",
    "import matplotlib as mpl\n",
    "import warnings; warnings.simplefilter('ignore') #忽略可能会出现的警告信息，警告并不是错误，可以忽略；"
   ]
  },
  {
   "cell_type": "markdown",
   "metadata": {},
   "source": [
    "## 1. 从不同数据来源获取——本地"
   ]
  },
  {
   "cell_type": "markdown",
   "metadata": {},
   "source": [
    "### 1.1 常用：本地文件读取"
   ]
  },
  {
   "cell_type": "code",
   "execution_count": null,
   "metadata": {},
   "outputs": [],
   "source": [
    "with open('data/000001.csv', 'r') as f:      #推荐这种方法；\n",
    "    for i in range(5):\n",
    "        print(f.readline())"
   ]
  },
  {
   "cell_type": "code",
   "execution_count": null,
   "metadata": {},
   "outputs": [],
   "source": [
    "f = open('data/000001.csv', 'r')\n",
    "for i in range(5):\n",
    "    print(f.readline())\n",
    "f.close()"
   ]
  },
  {
   "cell_type": "code",
   "execution_count": null,
   "metadata": {},
   "outputs": [],
   "source": [
    "with open('data/000001.csv', 'r') as f:            #未打印，不然会输出大量无用信息；\n",
    "    print(f.read())"
   ]
  },
  {
   "cell_type": "markdown",
   "metadata": {},
   "source": [
    "### 1.2 Python CSV模块读取"
   ]
  },
  {
   "cell_type": "code",
   "execution_count": null,
   "metadata": {
    "collapsed": true
   },
   "outputs": [],
   "source": [
    "import csv"
   ]
  },
  {
   "cell_type": "code",
   "execution_count": null,
   "metadata": {
    "collapsed": true
   },
   "outputs": [],
   "source": [
    "csv_reader = csv.reader(open('data/000001.csv', 'r'))"
   ]
  },
  {
   "cell_type": "code",
   "execution_count": null,
   "metadata": {},
   "outputs": [],
   "source": [
    "csv_reader"
   ]
  },
  {
   "cell_type": "code",
   "execution_count": null,
   "metadata": {
    "collapsed": true
   },
   "outputs": [],
   "source": [
    "data = [i for i in csv_reader]               #从csv_reader中读取出数据，将其解析成list；"
   ]
  },
  {
   "cell_type": "code",
   "execution_count": null,
   "metadata": {},
   "outputs": [],
   "source": [
    "type(data)"
   ]
  },
  {
   "cell_type": "code",
   "execution_count": null,
   "metadata": {
    "scrolled": true
   },
   "outputs": [],
   "source": [
    "data[:5]"
   ]
  },
  {
   "cell_type": "markdown",
   "metadata": {},
   "source": [
    "### 1.3 常用：Pandas读取CSV"
   ]
  },
  {
   "cell_type": "code",
   "execution_count": null,
   "metadata": {
    "collapsed": true
   },
   "outputs": [],
   "source": [
    "import pandas as pd\n",
    "import numpy as np"
   ]
  },
  {
   "cell_type": "code",
   "execution_count": null,
   "metadata": {
    "collapsed": true
   },
   "outputs": [],
   "source": [
    "data = pd.read_csv('data/000001.csv')"
   ]
  },
  {
   "cell_type": "code",
   "execution_count": null,
   "metadata": {},
   "outputs": [],
   "source": [
    "data = pd.read_csv('data/000001.csv', index_col=1,\n",
    "                   parse_dates=True)                #解析日期"
   ]
  },
  {
   "cell_type": "code",
   "execution_count": null,
   "metadata": {},
   "outputs": [],
   "source": [
    "data.info()"
   ]
  },
  {
   "cell_type": "code",
   "execution_count": null,
   "metadata": {},
   "outputs": [],
   "source": [
    "data.head()"
   ]
  },
  {
   "cell_type": "code",
   "execution_count": null,
   "metadata": {},
   "outputs": [],
   "source": [
    "del data['Unnamed: 0']"
   ]
  },
  {
   "cell_type": "code",
   "execution_count": null,
   "metadata": {},
   "outputs": [],
   "source": [
    "data.head()"
   ]
  },
  {
   "cell_type": "code",
   "execution_count": null,
   "metadata": {},
   "outputs": [],
   "source": [
    "data.to_csv('000001.csv')"
   ]
  },
  {
   "cell_type": "code",
   "execution_count": null,
   "metadata": {
    "collapsed": true
   },
   "outputs": [],
   "source": [
    "data.to_excel('000001.xlsx')"
   ]
  },
  {
   "cell_type": "code",
   "execution_count": null,
   "metadata": {
    "collapsed": true
   },
   "outputs": [],
   "source": [
    "data.to_json('000001.json')"
   ]
  },
  {
   "cell_type": "markdown",
   "metadata": {},
   "source": [
    "## 2. 从网络Open Source读取"
   ]
  },
  {
   "cell_type": "markdown",
   "metadata": {},
   "source": [
    "### 2.1 Yahoo"
   ]
  },
  {
   "cell_type": "code",
   "execution_count": 2,
   "metadata": {},
   "outputs": [
    {
     "ename": "ModuleNotFoundError",
     "evalue": "No module named 'fix_yahoo_finance'",
     "output_type": "error",
     "traceback": [
      "\u001b[1;31m---------------------------------------------------------------------------\u001b[0m",
      "\u001b[1;31mModuleNotFoundError\u001b[0m                       Traceback (most recent call last)",
      "\u001b[1;32m<ipython-input-2-4b94715a195d>\u001b[0m in \u001b[0;36m<module>\u001b[1;34m\u001b[0m\n\u001b[0;32m      1\u001b[0m \u001b[1;32mfrom\u001b[0m \u001b[0mpandas_datareader\u001b[0m \u001b[1;32mimport\u001b[0m \u001b[0mdata\u001b[0m \u001b[1;32mas\u001b[0m \u001b[0mweb\u001b[0m\u001b[1;33m\u001b[0m\u001b[1;33m\u001b[0m\u001b[0m\n\u001b[1;32m----> 2\u001b[1;33m \u001b[1;32mimport\u001b[0m \u001b[0mfix_yahoo_finance\u001b[0m \u001b[1;32mas\u001b[0m \u001b[0myf\u001b[0m\u001b[1;33m\u001b[0m\u001b[1;33m\u001b[0m\u001b[0m\n\u001b[0m\u001b[0;32m      3\u001b[0m \u001b[0myf\u001b[0m\u001b[1;33m.\u001b[0m\u001b[0mpdr_override\u001b[0m\u001b[1;33m(\u001b[0m\u001b[1;33m)\u001b[0m\u001b[1;33m\u001b[0m\u001b[1;33m\u001b[0m\u001b[0m\n",
      "\u001b[1;31mModuleNotFoundError\u001b[0m: No module named 'fix_yahoo_finance'"
     ]
    }
   ],
   "source": [
    "from pandas_datareader import data as web\n",
    "import fix_yahoo_finance as yf\n",
    "yf.pdr_override()"
   ]
  },
  {
   "cell_type": "code",
   "execution_count": null,
   "metadata": {},
   "outputs": [],
   "source": [
    "#不翻墙或者网速较慢可能无法从Yahoo读取，属于正常现象；\n",
    "data = web.get_data_yahoo('GS', start = '2010-01-01', end = '2012-01-01')           "
   ]
  },
  {
   "cell_type": "code",
   "execution_count": null,
   "metadata": {},
   "outputs": [],
   "source": [
    "data.head()"
   ]
  },
  {
   "cell_type": "code",
   "execution_count": null,
   "metadata": {},
   "outputs": [],
   "source": [
    "data.round(2).tail()"
   ]
  },
  {
   "cell_type": "code",
   "execution_count": null,
   "metadata": {},
   "outputs": [],
   "source": [
    "data.info()"
   ]
  },
  {
   "cell_type": "code",
   "execution_count": null,
   "metadata": {},
   "outputs": [],
   "source": [
    "data= web.get_data_yahoo('MSFT', start = '2016-01-01', end = '2017-06-30')"
   ]
  },
  {
   "cell_type": "code",
   "execution_count": null,
   "metadata": {},
   "outputs": [],
   "source": [
    "data.head()"
   ]
  },
  {
   "cell_type": "code",
   "execution_count": null,
   "metadata": {},
   "outputs": [],
   "source": [
    "data.round(2).tail()"
   ]
  },
  {
   "cell_type": "code",
   "execution_count": null,
   "metadata": {},
   "outputs": [],
   "source": [
    "data= web.get_data_yahoo('600030.ss', start = '2016-01-01', end = '2017-07-01')    "
   ]
  },
  {
   "cell_type": "code",
   "execution_count": null,
   "metadata": {},
   "outputs": [],
   "source": [
    "data.head()"
   ]
  },
  {
   "cell_type": "code",
   "execution_count": null,
   "metadata": {},
   "outputs": [],
   "source": [
    "data = web.get_data_yahoo(['GS','MSFT'], start = '2016-01-01', end = '2017-07-01') "
   ]
  },
  {
   "cell_type": "code",
   "execution_count": null,
   "metadata": {},
   "outputs": [],
   "source": [
    "data.describe"
   ]
  },
  {
   "cell_type": "code",
   "execution_count": null,
   "metadata": {},
   "outputs": [],
   "source": [
    "data.minor_xs('MSFT').head()"
   ]
  },
  {
   "cell_type": "code",
   "execution_count": null,
   "metadata": {},
   "outputs": [],
   "source": [
    "data.minor_xs('GS').head()"
   ]
  },
  {
   "cell_type": "markdown",
   "metadata": {},
   "source": [
    "### 2.2 Quandl"
   ]
  },
  {
   "cell_type": "code",
   "execution_count": null,
   "metadata": {
    "collapsed": true
   },
   "outputs": [],
   "source": [
    "import quandl"
   ]
  },
  {
   "cell_type": "code",
   "execution_count": null,
   "metadata": {},
   "outputs": [],
   "source": [
    "quandl.    #tab"
   ]
  },
  {
   "cell_type": "code",
   "execution_count": null,
   "metadata": {},
   "outputs": [],
   "source": [
    "data = quandl.get('EOD/KO',start_date='2016-1-1',end_date='2017-06-30')         #api_key =)"
   ]
  },
  {
   "cell_type": "code",
   "execution_count": null,
   "metadata": {},
   "outputs": [],
   "source": [
    "data.head()"
   ]
  },
  {
   "cell_type": "markdown",
   "metadata": {},
   "source": [
    "## 2.3 常用：Tushare"
   ]
  },
  {
   "cell_type": "markdown",
   "metadata": {},
   "source": [
    "#### 获取结构化行情数据"
   ]
  },
  {
   "cell_type": "code",
   "execution_count": 3,
   "metadata": {},
   "outputs": [],
   "source": [
    "import pandas as pd\n",
    "import tushare as ts"
   ]
  },
  {
   "cell_type": "code",
   "execution_count": 4,
   "metadata": {},
   "outputs": [],
   "source": [
    "hs300 = ts.get_k_data('hs300',start ='2015-01-01', end = '2017-06-30')    #get_k_data()"
   ]
  },
  {
   "cell_type": "code",
   "execution_count": 5,
   "metadata": {},
   "outputs": [
    {
     "data": {
      "text/html": [
       "<div>\n",
       "<style scoped>\n",
       "    .dataframe tbody tr th:only-of-type {\n",
       "        vertical-align: middle;\n",
       "    }\n",
       "\n",
       "    .dataframe tbody tr th {\n",
       "        vertical-align: top;\n",
       "    }\n",
       "\n",
       "    .dataframe thead th {\n",
       "        text-align: right;\n",
       "    }\n",
       "</style>\n",
       "<table border=\"1\" class=\"dataframe\">\n",
       "  <thead>\n",
       "    <tr style=\"text-align: right;\">\n",
       "      <th></th>\n",
       "      <th>date</th>\n",
       "      <th>open</th>\n",
       "      <th>close</th>\n",
       "      <th>high</th>\n",
       "      <th>low</th>\n",
       "      <th>volume</th>\n",
       "      <th>code</th>\n",
       "    </tr>\n",
       "  </thead>\n",
       "  <tbody>\n",
       "    <tr>\n",
       "      <th>0</th>\n",
       "      <td>2015-01-05</td>\n",
       "      <td>3566.09</td>\n",
       "      <td>3641.54</td>\n",
       "      <td>3669.04</td>\n",
       "      <td>3551.51</td>\n",
       "      <td>451198098.0</td>\n",
       "      <td>hs300</td>\n",
       "    </tr>\n",
       "    <tr>\n",
       "      <th>1</th>\n",
       "      <td>2015-01-06</td>\n",
       "      <td>3608.43</td>\n",
       "      <td>3641.06</td>\n",
       "      <td>3683.23</td>\n",
       "      <td>3587.23</td>\n",
       "      <td>420962185.0</td>\n",
       "      <td>hs300</td>\n",
       "    </tr>\n",
       "    <tr>\n",
       "      <th>2</th>\n",
       "      <td>2015-01-07</td>\n",
       "      <td>3620.92</td>\n",
       "      <td>3643.79</td>\n",
       "      <td>3671.19</td>\n",
       "      <td>3601.70</td>\n",
       "      <td>320191232.0</td>\n",
       "      <td>hs300</td>\n",
       "    </tr>\n",
       "    <tr>\n",
       "      <th>3</th>\n",
       "      <td>2015-01-08</td>\n",
       "      <td>3650.07</td>\n",
       "      <td>3559.26</td>\n",
       "      <td>3659.95</td>\n",
       "      <td>3552.10</td>\n",
       "      <td>295003045.0</td>\n",
       "      <td>hs300</td>\n",
       "    </tr>\n",
       "    <tr>\n",
       "      <th>4</th>\n",
       "      <td>2015-01-09</td>\n",
       "      <td>3547.57</td>\n",
       "      <td>3546.72</td>\n",
       "      <td>3689.75</td>\n",
       "      <td>3536.40</td>\n",
       "      <td>349982672.0</td>\n",
       "      <td>hs300</td>\n",
       "    </tr>\n",
       "  </tbody>\n",
       "</table>\n",
       "</div>"
      ],
      "text/plain": [
       "         date     open    close     high      low       volume   code\n",
       "0  2015-01-05  3566.09  3641.54  3669.04  3551.51  451198098.0  hs300\n",
       "1  2015-01-06  3608.43  3641.06  3683.23  3587.23  420962185.0  hs300\n",
       "2  2015-01-07  3620.92  3643.79  3671.19  3601.70  320191232.0  hs300\n",
       "3  2015-01-08  3650.07  3559.26  3659.95  3552.10  295003045.0  hs300\n",
       "4  2015-01-09  3547.57  3546.72  3689.75  3536.40  349982672.0  hs300"
      ]
     },
     "execution_count": 5,
     "metadata": {},
     "output_type": "execute_result"
    }
   ],
   "source": [
    "hs300.head()"
   ]
  },
  {
   "cell_type": "code",
   "execution_count": 6,
   "metadata": {},
   "outputs": [
    {
     "data": {
      "text/html": [
       "<div>\n",
       "<style scoped>\n",
       "    .dataframe tbody tr th:only-of-type {\n",
       "        vertical-align: middle;\n",
       "    }\n",
       "\n",
       "    .dataframe tbody tr th {\n",
       "        vertical-align: top;\n",
       "    }\n",
       "\n",
       "    .dataframe thead th {\n",
       "        text-align: right;\n",
       "    }\n",
       "</style>\n",
       "<table border=\"1\" class=\"dataframe\">\n",
       "  <thead>\n",
       "    <tr style=\"text-align: right;\">\n",
       "      <th></th>\n",
       "      <th>open</th>\n",
       "      <th>close</th>\n",
       "      <th>high</th>\n",
       "      <th>low</th>\n",
       "      <th>volume</th>\n",
       "      <th>code</th>\n",
       "    </tr>\n",
       "    <tr>\n",
       "      <th>date</th>\n",
       "      <th></th>\n",
       "      <th></th>\n",
       "      <th></th>\n",
       "      <th></th>\n",
       "      <th></th>\n",
       "      <th></th>\n",
       "    </tr>\n",
       "  </thead>\n",
       "  <tbody>\n",
       "    <tr>\n",
       "      <th>2015-01-05</th>\n",
       "      <td>3566.09</td>\n",
       "      <td>3641.54</td>\n",
       "      <td>3669.04</td>\n",
       "      <td>3551.51</td>\n",
       "      <td>451198098.0</td>\n",
       "      <td>hs300</td>\n",
       "    </tr>\n",
       "    <tr>\n",
       "      <th>2015-01-06</th>\n",
       "      <td>3608.43</td>\n",
       "      <td>3641.06</td>\n",
       "      <td>3683.23</td>\n",
       "      <td>3587.23</td>\n",
       "      <td>420962185.0</td>\n",
       "      <td>hs300</td>\n",
       "    </tr>\n",
       "    <tr>\n",
       "      <th>2015-01-07</th>\n",
       "      <td>3620.92</td>\n",
       "      <td>3643.79</td>\n",
       "      <td>3671.19</td>\n",
       "      <td>3601.70</td>\n",
       "      <td>320191232.0</td>\n",
       "      <td>hs300</td>\n",
       "    </tr>\n",
       "    <tr>\n",
       "      <th>2015-01-08</th>\n",
       "      <td>3650.07</td>\n",
       "      <td>3559.26</td>\n",
       "      <td>3659.95</td>\n",
       "      <td>3552.10</td>\n",
       "      <td>295003045.0</td>\n",
       "      <td>hs300</td>\n",
       "    </tr>\n",
       "    <tr>\n",
       "      <th>2015-01-09</th>\n",
       "      <td>3547.57</td>\n",
       "      <td>3546.72</td>\n",
       "      <td>3689.75</td>\n",
       "      <td>3536.40</td>\n",
       "      <td>349982672.0</td>\n",
       "      <td>hs300</td>\n",
       "    </tr>\n",
       "  </tbody>\n",
       "</table>\n",
       "</div>"
      ],
      "text/plain": [
       "               open    close     high      low       volume   code\n",
       "date                                                              \n",
       "2015-01-05  3566.09  3641.54  3669.04  3551.51  451198098.0  hs300\n",
       "2015-01-06  3608.43  3641.06  3683.23  3587.23  420962185.0  hs300\n",
       "2015-01-07  3620.92  3643.79  3671.19  3601.70  320191232.0  hs300\n",
       "2015-01-08  3650.07  3559.26  3659.95  3552.10  295003045.0  hs300\n",
       "2015-01-09  3547.57  3546.72  3689.75  3536.40  349982672.0  hs300"
      ]
     },
     "execution_count": 6,
     "metadata": {},
     "output_type": "execute_result"
    }
   ],
   "source": [
    "hs300.set_index('date', inplace = True)      #pd.set_index(),将df中的某一列设置成为索引；\n",
    "hs300.head()"
   ]
  },
  {
   "cell_type": "code",
   "execution_count": 7,
   "metadata": {},
   "outputs": [
    {
     "data": {
      "text/plain": [
       "<matplotlib.axes._subplots.AxesSubplot at 0x2c549334c18>"
      ]
     },
     "execution_count": 7,
     "metadata": {},
     "output_type": "execute_result"
    },
    {
     "data": {
      "image/png": "[encoded data removed]",
      "text/plain": [
       "<Figure size 720x432 with 1 Axes>"
      ]
     },
     "metadata": {
      "needs_background": "light"
     },
     "output_type": "display_data"
    }
   ],
   "source": [
    "hs300['close'].plot(figsize=(10, 6))"
   ]
  },
  {
   "cell_type": "code",
   "execution_count": 8,
   "metadata": {},
   "outputs": [
    {
     "data": {
      "text/plain": [
       "<matplotlib.axes._subplots.AxesSubplot at 0x2c54c55a518>"
      ]
     },
     "execution_count": 8,
     "metadata": {},
     "output_type": "execute_result"
    },
    {
     "data": {
      "image/png": "[encoded data removed]",
      "text/plain": [
       "<Figure size 720x432 with 1 Axes>"
      ]
     },
     "metadata": {
      "needs_background": "light"
     },
     "output_type": "display_data"
    }
   ],
   "source": [
    "hs300.close.plot(figsize=(10, 6))     #等价；"
   ]
  },
  {
   "cell_type": "code",
   "execution_count": 9,
   "metadata": {},
   "outputs": [
    {
     "data": {
      "text/html": [
       "<div>\n",
       "<style scoped>\n",
       "    .dataframe tbody tr th:only-of-type {\n",
       "        vertical-align: middle;\n",
       "    }\n",
       "\n",
       "    .dataframe tbody tr th {\n",
       "        vertical-align: top;\n",
       "    }\n",
       "\n",
       "    .dataframe thead th {\n",
       "        text-align: right;\n",
       "    }\n",
       "</style>\n",
       "<table border=\"1\" class=\"dataframe\">\n",
       "  <thead>\n",
       "    <tr style=\"text-align: right;\">\n",
       "      <th></th>\n",
       "      <th>date</th>\n",
       "      <th>open</th>\n",
       "      <th>close</th>\n",
       "      <th>high</th>\n",
       "      <th>low</th>\n",
       "      <th>volume</th>\n",
       "      <th>code</th>\n",
       "    </tr>\n",
       "  </thead>\n",
       "  <tbody>\n",
       "    <tr>\n",
       "      <th>0</th>\n",
       "      <td>2016-10-10</td>\n",
       "      <td>15.565</td>\n",
       "      <td>15.680</td>\n",
       "      <td>15.718</td>\n",
       "      <td>15.479</td>\n",
       "      <td>717306.0</td>\n",
       "      <td>600030</td>\n",
       "    </tr>\n",
       "    <tr>\n",
       "      <th>1</th>\n",
       "      <td>2016-10-11</td>\n",
       "      <td>15.680</td>\n",
       "      <td>15.785</td>\n",
       "      <td>15.842</td>\n",
       "      <td>15.623</td>\n",
       "      <td>781540.0</td>\n",
       "      <td>600030</td>\n",
       "    </tr>\n",
       "    <tr>\n",
       "      <th>2</th>\n",
       "      <td>2016-10-12</td>\n",
       "      <td>15.747</td>\n",
       "      <td>15.699</td>\n",
       "      <td>15.775</td>\n",
       "      <td>15.651</td>\n",
       "      <td>337591.0</td>\n",
       "      <td>600030</td>\n",
       "    </tr>\n",
       "    <tr>\n",
       "      <th>3</th>\n",
       "      <td>2016-10-13</td>\n",
       "      <td>15.680</td>\n",
       "      <td>15.661</td>\n",
       "      <td>15.747</td>\n",
       "      <td>15.623</td>\n",
       "      <td>386022.0</td>\n",
       "      <td>600030</td>\n",
       "    </tr>\n",
       "    <tr>\n",
       "      <th>4</th>\n",
       "      <td>2016-10-14</td>\n",
       "      <td>15.670</td>\n",
       "      <td>15.728</td>\n",
       "      <td>15.747</td>\n",
       "      <td>15.584</td>\n",
       "      <td>430726.0</td>\n",
       "      <td>600030</td>\n",
       "    </tr>\n",
       "  </tbody>\n",
       "</table>\n",
       "</div>"
      ],
      "text/plain": [
       "         date    open   close    high     low    volume    code\n",
       "0  2016-10-10  15.565  15.680  15.718  15.479  717306.0  600030\n",
       "1  2016-10-11  15.680  15.785  15.842  15.623  781540.0  600030\n",
       "2  2016-10-12  15.747  15.699  15.775  15.651  337591.0  600030\n",
       "3  2016-10-13  15.680  15.661  15.747  15.623  386022.0  600030\n",
       "4  2016-10-14  15.670  15.728  15.747  15.584  430726.0  600030"
      ]
     },
     "execution_count": 9,
     "metadata": {},
     "output_type": "execute_result"
    }
   ],
   "source": [
    "data = ts.get_k_data('600030') #默认前复权价格；\n",
    "data.head()"
   ]
  },
  {
   "cell_type": "code",
   "execution_count": 10,
   "metadata": {},
   "outputs": [
    {
     "data": {
      "text/html": [
       "<div>\n",
       "<style scoped>\n",
       "    .dataframe tbody tr th:only-of-type {\n",
       "        vertical-align: middle;\n",
       "    }\n",
       "\n",
       "    .dataframe tbody tr th {\n",
       "        vertical-align: top;\n",
       "    }\n",
       "\n",
       "    .dataframe thead th {\n",
       "        text-align: right;\n",
       "    }\n",
       "</style>\n",
       "<table border=\"1\" class=\"dataframe\">\n",
       "  <thead>\n",
       "    <tr style=\"text-align: right;\">\n",
       "      <th></th>\n",
       "      <th>date</th>\n",
       "      <th>open</th>\n",
       "      <th>close</th>\n",
       "      <th>high</th>\n",
       "      <th>low</th>\n",
       "      <th>volume</th>\n",
       "      <th>code</th>\n",
       "    </tr>\n",
       "  </thead>\n",
       "  <tbody>\n",
       "    <tr>\n",
       "      <th>0</th>\n",
       "      <td>2016-10-10</td>\n",
       "      <td>62.193</td>\n",
       "      <td>62.651</td>\n",
       "      <td>62.803</td>\n",
       "      <td>61.849</td>\n",
       "      <td>717306.0</td>\n",
       "      <td>600030</td>\n",
       "    </tr>\n",
       "    <tr>\n",
       "      <th>1</th>\n",
       "      <td>2016-10-11</td>\n",
       "      <td>62.651</td>\n",
       "      <td>63.071</td>\n",
       "      <td>63.300</td>\n",
       "      <td>62.422</td>\n",
       "      <td>781540.0</td>\n",
       "      <td>600030</td>\n",
       "    </tr>\n",
       "    <tr>\n",
       "      <th>2</th>\n",
       "      <td>2016-10-12</td>\n",
       "      <td>62.918</td>\n",
       "      <td>62.727</td>\n",
       "      <td>63.032</td>\n",
       "      <td>62.536</td>\n",
       "      <td>337591.0</td>\n",
       "      <td>600030</td>\n",
       "    </tr>\n",
       "    <tr>\n",
       "      <th>3</th>\n",
       "      <td>2016-10-13</td>\n",
       "      <td>62.651</td>\n",
       "      <td>62.574</td>\n",
       "      <td>62.918</td>\n",
       "      <td>62.422</td>\n",
       "      <td>386022.0</td>\n",
       "      <td>600030</td>\n",
       "    </tr>\n",
       "    <tr>\n",
       "      <th>4</th>\n",
       "      <td>2016-10-14</td>\n",
       "      <td>62.612</td>\n",
       "      <td>62.842</td>\n",
       "      <td>62.918</td>\n",
       "      <td>62.269</td>\n",
       "      <td>430726.0</td>\n",
       "      <td>600030</td>\n",
       "    </tr>\n",
       "  </tbody>\n",
       "</table>\n",
       "</div>"
      ],
      "text/plain": [
       "         date    open   close    high     low    volume    code\n",
       "0  2016-10-10  62.193  62.651  62.803  61.849  717306.0  600030\n",
       "1  2016-10-11  62.651  63.071  63.300  62.422  781540.0  600030\n",
       "2  2016-10-12  62.918  62.727  63.032  62.536  337591.0  600030\n",
       "3  2016-10-13  62.651  62.574  62.918  62.422  386022.0  600030\n",
       "4  2016-10-14  62.612  62.842  62.918  62.269  430726.0  600030"
      ]
     },
     "execution_count": 10,
     "metadata": {},
     "output_type": "execute_result"
    }
   ],
   "source": [
    "data2 = ts.get_k_data('600030', autype='hfq') #不复权\n",
    "data2.head()"
   ]
  },
  {
   "cell_type": "code",
   "execution_count": 11,
   "metadata": {},
   "outputs": [
    {
     "data": {
      "text/html": [
       "<div>\n",
       "<style scoped>\n",
       "    .dataframe tbody tr th:only-of-type {\n",
       "        vertical-align: middle;\n",
       "    }\n",
       "\n",
       "    .dataframe tbody tr th {\n",
       "        vertical-align: top;\n",
       "    }\n",
       "\n",
       "    .dataframe thead th {\n",
       "        text-align: right;\n",
       "    }\n",
       "</style>\n",
       "<table border=\"1\" class=\"dataframe\">\n",
       "  <thead>\n",
       "    <tr style=\"text-align: right;\">\n",
       "      <th></th>\n",
       "      <th>date</th>\n",
       "      <th>open</th>\n",
       "      <th>close</th>\n",
       "      <th>high</th>\n",
       "      <th>low</th>\n",
       "      <th>volume</th>\n",
       "      <th>amount</th>\n",
       "      <th>turnoverratio</th>\n",
       "      <th>code</th>\n",
       "    </tr>\n",
       "  </thead>\n",
       "  <tbody>\n",
       "    <tr>\n",
       "      <th>0</th>\n",
       "      <td>2019-05-23 14:55</td>\n",
       "      <td>19.99</td>\n",
       "      <td>20.01</td>\n",
       "      <td>20.04</td>\n",
       "      <td>19.98</td>\n",
       "      <td>22271.0</td>\n",
       "      <td>{}</td>\n",
       "      <td>2.2692</td>\n",
       "      <td>600030</td>\n",
       "    </tr>\n",
       "    <tr>\n",
       "      <th>1</th>\n",
       "      <td>2019-05-23 15:00</td>\n",
       "      <td>20.01</td>\n",
       "      <td>20.05</td>\n",
       "      <td>20.05</td>\n",
       "      <td>20.01</td>\n",
       "      <td>12499.0</td>\n",
       "      <td>{}</td>\n",
       "      <td>1.2735</td>\n",
       "      <td>600030</td>\n",
       "    </tr>\n",
       "    <tr>\n",
       "      <th>2</th>\n",
       "      <td>2019-05-24 09:35</td>\n",
       "      <td>20.10</td>\n",
       "      <td>20.18</td>\n",
       "      <td>20.23</td>\n",
       "      <td>20.05</td>\n",
       "      <td>64239.0</td>\n",
       "      <td>{}</td>\n",
       "      <td>6.5452</td>\n",
       "      <td>600030</td>\n",
       "    </tr>\n",
       "    <tr>\n",
       "      <th>3</th>\n",
       "      <td>2019-05-24 09:40</td>\n",
       "      <td>20.18</td>\n",
       "      <td>20.19</td>\n",
       "      <td>20.21</td>\n",
       "      <td>20.13</td>\n",
       "      <td>40776.0</td>\n",
       "      <td>{}</td>\n",
       "      <td>4.1546</td>\n",
       "      <td>600030</td>\n",
       "    </tr>\n",
       "    <tr>\n",
       "      <th>4</th>\n",
       "      <td>2019-05-24 09:45</td>\n",
       "      <td>20.19</td>\n",
       "      <td>20.16</td>\n",
       "      <td>20.21</td>\n",
       "      <td>20.16</td>\n",
       "      <td>28675.0</td>\n",
       "      <td>{}</td>\n",
       "      <td>2.9216</td>\n",
       "      <td>600030</td>\n",
       "    </tr>\n",
       "  </tbody>\n",
       "</table>\n",
       "</div>"
      ],
      "text/plain": [
       "               date   open  close   high    low   volume amount turnoverratio  \\\n",
       "0  2019-05-23 14:55  19.99  20.01  20.04  19.98  22271.0     {}        2.2692   \n",
       "1  2019-05-23 15:00  20.01  20.05  20.05  20.01  12499.0     {}        1.2735   \n",
       "2  2019-05-24 09:35  20.10  20.18  20.23  20.05  64239.0     {}        6.5452   \n",
       "3  2019-05-24 09:40  20.18  20.19  20.21  20.13  40776.0     {}        4.1546   \n",
       "4  2019-05-24 09:45  20.19  20.16  20.21  20.16  28675.0     {}        2.9216   \n",
       "\n",
       "     code  \n",
       "0  600030  \n",
       "1  600030  \n",
       "2  600030  \n",
       "3  600030  \n",
       "4  600030  "
      ]
     },
     "execution_count": 11,
     "metadata": {},
     "output_type": "execute_result"
    }
   ],
   "source": [
    "data3 = ts.get_k_data('600030', ktype = '5') #两个日期之间的前复权数据\n",
    "data3.head()"
   ]
  },
  {
   "cell_type": "code",
   "execution_count": 12,
   "metadata": {},
   "outputs": [
    {
     "data": {
      "text/html": [
       "<div>\n",
       "<style scoped>\n",
       "    .dataframe tbody tr th:only-of-type {\n",
       "        vertical-align: middle;\n",
       "    }\n",
       "\n",
       "    .dataframe tbody tr th {\n",
       "        vertical-align: top;\n",
       "    }\n",
       "\n",
       "    .dataframe thead th {\n",
       "        text-align: right;\n",
       "    }\n",
       "</style>\n",
       "<table border=\"1\" class=\"dataframe\">\n",
       "  <thead>\n",
       "    <tr style=\"text-align: right;\">\n",
       "      <th></th>\n",
       "    </tr>\n",
       "  </thead>\n",
       "  <tbody>\n",
       "  </tbody>\n",
       "</table>\n",
       "</div>"
      ],
      "text/plain": [
       "Empty DataFrame\n",
       "Columns: []\n",
       "Index: []"
      ]
     },
     "execution_count": 12,
     "metadata": {},
     "output_type": "execute_result"
    }
   ],
   "source": [
    "data = ts.get_k_data(['600030','000001'])    #tushare API接口不支持多股票数据；\n",
    "data"
   ]
  },
  {
   "cell_type": "markdown",
   "metadata": {},
   "source": [
    "#### Tushare获得历史逐笔交易数据"
   ]
  },
  {
   "cell_type": "code",
   "execution_count": 13,
   "metadata": {},
   "outputs": [
    {
     "ename": "AttributeError",
     "evalue": "'NoneType' object has no attribute 'sort_index'",
     "output_type": "error",
     "traceback": [
      "\u001b[1;31m---------------------------------------------------------------------------\u001b[0m",
      "\u001b[1;31mAttributeError\u001b[0m                            Traceback (most recent call last)",
      "\u001b[1;32m<ipython-input-13-36dde0de1769>\u001b[0m in \u001b[0;36m<module>\u001b[1;34m\u001b[0m\n\u001b[0;32m      1\u001b[0m \u001b[0mdf\u001b[0m \u001b[1;33m=\u001b[0m \u001b[0mts\u001b[0m\u001b[1;33m.\u001b[0m\u001b[0mget_tick_data\u001b[0m\u001b[1;33m(\u001b[0m\u001b[1;34m'600030'\u001b[0m\u001b[1;33m,\u001b[0m\u001b[0mdate\u001b[0m\u001b[1;33m=\u001b[0m\u001b[1;34m'2017-07-28'\u001b[0m\u001b[1;33m)\u001b[0m    \u001b[1;31m#get_tick_data()\u001b[0m\u001b[1;33m\u001b[0m\u001b[1;33m\u001b[0m\u001b[0m\n\u001b[1;32m----> 2\u001b[1;33m \u001b[0mdf\u001b[0m\u001b[1;33m.\u001b[0m\u001b[0msort_index\u001b[0m\u001b[1;33m(\u001b[0m\u001b[0minplace\u001b[0m \u001b[1;33m=\u001b[0m \u001b[1;32mTrue\u001b[0m\u001b[1;33m,\u001b[0m \u001b[0mascending\u001b[0m \u001b[1;33m=\u001b[0m \u001b[1;32mFalse\u001b[0m\u001b[1;33m)\u001b[0m\u001b[1;33m\u001b[0m\u001b[1;33m\u001b[0m\u001b[0m\n\u001b[0m\u001b[0;32m      3\u001b[0m \u001b[0mdf\u001b[0m\u001b[1;33m.\u001b[0m\u001b[0mhead\u001b[0m\u001b[1;33m(\u001b[0m\u001b[1;36m10\u001b[0m\u001b[1;33m)\u001b[0m\u001b[1;33m\u001b[0m\u001b[1;33m\u001b[0m\u001b[0m\n",
      "\u001b[1;31mAttributeError\u001b[0m: 'NoneType' object has no attribute 'sort_index'"
     ]
    }
   ],
   "source": [
    "df = ts.get_tick_data('600030',date='2017-07-28')    #get_tick_data()\n",
    "df.sort_index(inplace = True, ascending = False)\n",
    "df.head(10)"
   ]
  },
  {
   "cell_type": "markdown",
   "metadata": {
    "collapsed": true
   },
   "source": [
    "#### Tushare获得当前主流指数列表"
   ]
  },
  {
   "cell_type": "code",
   "execution_count": null,
   "metadata": {},
   "outputs": [],
   "source": [
    "df = ts.get_index()\n",
    "df.head()   #显示部分主流指数"
   ]
  },
  {
   "cell_type": "markdown",
   "metadata": {
    "collapsed": true
   },
   "source": [
    "#### Tushare获得股票的基本面信息"
   ]
  },
  {
   "cell_type": "code",
   "execution_count": null,
   "metadata": {},
   "outputs": [],
   "source": [
    "df = ts.get_stock_basics()         #基本面数据\n",
    "date = df.ix['600848']['timeToMarket']\n",
    "date"
   ]
  },
  {
   "cell_type": "code",
   "execution_count": null,
   "metadata": {},
   "outputs": [],
   "source": [
    "date = df.loc['600030']['timeToMarket']        #ix即将要被取消；\n",
    "date"
   ]
  },
  {
   "cell_type": "markdown",
   "metadata": {
    "collapsed": true
   },
   "source": [
    "#### 获得所有股票基本面数据"
   ]
  },
  {
   "cell_type": "code",
   "execution_count": null,
   "metadata": {},
   "outputs": [],
   "source": [
    "data = ts.get_stock_basics()     #get_stocl_basics()\n",
    "data.head()"
   ]
  },
  {
   "cell_type": "code",
   "execution_count": null,
   "metadata": {},
   "outputs": [],
   "source": [
    "data.info()"
   ]
  },
  {
   "cell_type": "code",
   "execution_count": null,
   "metadata": {},
   "outputs": [],
   "source": [
    "data.ix['600030'][['pe','esp']]     #pandas数据选择的复习；"
   ]
  },
  {
   "cell_type": "code",
   "execution_count": null,
   "metadata": {},
   "outputs": [],
   "source": [
    "data.loc['600030'][['pe','esp']]"
   ]
  },
  {
   "cell_type": "code",
   "execution_count": null,
   "metadata": {},
   "outputs": [],
   "source": [
    "data = ts.get_profit_data(2017,1)    #获得公司盈利数据；"
   ]
  },
  {
   "cell_type": "code",
   "execution_count": null,
   "metadata": {},
   "outputs": [],
   "source": [
    "data.head()"
   ]
  },
  {
   "cell_type": "code",
   "execution_count": null,
   "metadata": {},
   "outputs": [],
   "source": [
    "data.set_index('code', inplace = True)"
   ]
  },
  {
   "cell_type": "code",
   "execution_count": null,
   "metadata": {},
   "outputs": [],
   "source": [
    "data.head()"
   ]
  },
  {
   "cell_type": "code",
   "execution_count": null,
   "metadata": {
    "scrolled": true
   },
   "outputs": [],
   "source": [
    "data.ix['600030'][['roe','net_profit_ratio']]"
   ]
  },
  {
   "cell_type": "markdown",
   "metadata": {},
   "source": [
    "#### 获得非结构化新闻、舆情数据"
   ]
  },
  {
   "cell_type": "code",
   "execution_count": null,
   "metadata": {},
   "outputs": [],
   "source": [
    "ts.get_latest_news(top=5,show_content=True) #显示最新5条新闻，并打印出新闻内容"
   ]
  },
  {
   "cell_type": "markdown",
   "metadata": {
    "collapsed": true
   },
   "source": [
    "#### 获取龙虎榜信息"
   ]
  },
  {
   "cell_type": "code",
   "execution_count": null,
   "metadata": {},
   "outputs": [],
   "source": [
    "top_list = ts.top_list('2017-08-11')\n",
    "top_list.head()"
   ]
  },
  {
   "cell_type": "markdown",
   "metadata": {},
   "source": [
    "### 2.4 常用：优矿"
   ]
  },
  {
   "cell_type": "markdown",
   "metadata": {
    "collapsed": true
   },
   "source": [
    "可以通过优矿下载数据，并保存成CSV文件下载再导入；"
   ]
  },
  {
   "cell_type": "code",
   "execution_count": null,
   "metadata": {
    "collapsed": true
   },
   "outputs": [],
   "source": [
    "# 获得某一只当天的tick数据；\n",
    "data=DataAPI.MktTickRTIntraDayGet(securityID=u\"000001.XSHE\",startTime=u\"09:30\",endTime=u\"15:00\",field=u\"\",pandas=\"1\")\n",
    "data.to_csv('tick_data.csv')   #下载并保存数据以供分析；"
   ]
  },
  {
   "cell_type": "code",
   "execution_count": null,
   "metadata": {
    "collapsed": true
   },
   "outputs": [],
   "source": [
    "# 获得某一些股票具体某一天的因子数据；\n",
    "DataAPI.MktStockFactorsOneDayGet(tradeDate=u\"20170630\",secID=u\"\",ticker=u\"000001,600030\",field=u\"ticker,ROE,PE,PB\",pandas=\"1\")"
   ]
  },
  {
   "cell_type": "code",
   "execution_count": null,
   "metadata": {
    "collapsed": true
   },
   "outputs": [],
   "source": [
    "#某一只股票一段时间之内的因子数据；\n",
    "DataAPI.MktStockFactorsDateRangeGet(secID=u\"\",ticker=u\"000001\",beginDate=u\"20100101\",endDate=u\"20170616\",field=u\"tradeDate,ROE,PE,PB\",pandas=\"1\")"
   ]
  },
  {
   "cell_type": "code",
   "execution_count": null,
   "metadata": {
    "collapsed": true
   },
   "outputs": [],
   "source": [
    "# 获取交易日历\n",
    "start_date = '2014-01-01'\n",
    "end_date = '2017-07-01'\n",
    "trading_date = DataAPI.TradeCalGet(exchangeCD=u\"XSHG\",beginDate=u\"\",endDate=u\"\",field=u\"\",pandas=\"1\")\n",
    "# trading_date.to_csv('trading_date.csv')\n",
    "# 筛选2013年到2016年每月最后一个交易日的日期\n",
    "print(trading_date)\n",
    "month_end = trading_date[(trading_date['isMonthEnd']==1) & (trading_date['calendarDate']>start_date) & (trading_date['calendarDate']<end_date)]['calendarDate'].tolist()\n",
    "print month_end"
   ]
  },
  {
   "cell_type": "code",
   "execution_count": null,
   "metadata": {
    "collapsed": true
   },
   "outputs": [],
   "source": [
    "# 获取某个日期以前上市的，正常交易或暂停交易的股票代码，格式为xxxxxx.XSHE或xxxxxx.XSHG\n",
    "date = '2017-10-01'\n",
    "stock_basics = DataAPI.EquGet(equTypeCD=u\"A\",secID=u\"\",ticker=u\"\",listStatusCD=u\"\",field=u\"\",pandas=\"1\")\n",
    "# stock_basics.to_csv('data/stock_basics.csv', encoding='GB18030')\n",
    "valid_stocks = stock_basics.loc[(stock_basics['listDate']<date) & (stock_basics['listStatusCD'].isin(['L','S']))]['secID']\n",
    "# valid_stocks.to_csv('data/valid_stocks.csv', encoding='GB18030')\n",
    "print valid_stocks"
   ]
  },
  {
   "cell_type": "code",
   "execution_count": null,
   "metadata": {
    "collapsed": true
   },
   "outputs": [],
   "source": [
    "# 获取对应股票在对应日期的多个因子值\n",
    "import pandas as pd\n",
    "\n",
    "mkt_value = [DataAPI.MktStockFactorsOneDayGet(tradeDate=date,secID=valid_stocks,ticker=u\"\",field=[\"secID\", 'LCAP','PE', 'REVS20', 'tradeDate'],pandas=\"1\").set_index(['tradeDate', 'secID']) for date in month_end]\n",
    "lcap = pd.concat(mkt_value, axis=0)\n",
    "# lcap.to_csv('data/raw_factors.csv')\n",
    "print lcap.head(5)"
   ]
  },
  {
   "cell_type": "code",
   "execution_count": null,
   "metadata": {
    "collapsed": true
   },
   "outputs": [],
   "source": [
    "# 每个月最后一个交易日计算市值最小的20只股票\n",
    "import pandas as pd\n",
    "\n",
    "min_cap_pool = {date: lcap['LCAP'][date].sort_values(ascending=True).index[:20] for date in month_end}\n",
    "min_cap_pool = pd.DataFrame(min_cap_pool)\n",
    "print min_cap_pool"
   ]
  },
  {
   "cell_type": "markdown",
   "metadata": {},
   "source": [
    "## 3. 数据存储"
   ]
  },
  {
   "cell_type": "markdown",
   "metadata": {},
   "source": [
    "HDF5\n",
    "\n",
    "Hierarchical Data Format(HDF)是一种针对大量数据进行组织和存储的文件格式。\n",
    "\n",
    "经历了20多年的发展，HDF格式的最新版本是HDF5"
   ]
  },
  {
   "cell_type": "code",
   "execution_count": 22,
   "metadata": {},
   "outputs": [],
   "source": [
    "import numpy as np\n",
    "import pandas as pd\n",
    "import tushare as ts"
   ]
  },
  {
   "cell_type": "code",
   "execution_count": 23,
   "metadata": {},
   "outputs": [
    {
     "name": "stdout",
     "output_type": "stream",
     "text": [
      "Wall time: 304 ms\n"
     ]
    }
   ],
   "source": [
    "%time data = np.random.randn(500000,10)"
   ]
  },
  {
   "cell_type": "code",
   "execution_count": 24,
   "metadata": {},
   "outputs": [
    {
     "data": {
      "text/plain": [
       "(500000, 10)"
      ]
     },
     "execution_count": 24,
     "metadata": {},
     "output_type": "execute_result"
    }
   ],
   "source": [
    "data.shape"
   ]
  },
  {
   "cell_type": "code",
   "execution_count": 25,
   "metadata": {},
   "outputs": [],
   "source": [
    "data = pd.DataFrame(data)"
   ]
  },
  {
   "cell_type": "code",
   "execution_count": 26,
   "metadata": {},
   "outputs": [
    {
     "data": {
      "text/html": [
       "<div>\n",
       "<style scoped>\n",
       "    .dataframe tbody tr th:only-of-type {\n",
       "        vertical-align: middle;\n",
       "    }\n",
       "\n",
       "    .dataframe tbody tr th {\n",
       "        vertical-align: top;\n",
       "    }\n",
       "\n",
       "    .dataframe thead th {\n",
       "        text-align: right;\n",
       "    }\n",
       "</style>\n",
       "<table border=\"1\" class=\"dataframe\">\n",
       "  <thead>\n",
       "    <tr style=\"text-align: right;\">\n",
       "      <th></th>\n",
       "      <th>0</th>\n",
       "      <th>1</th>\n",
       "      <th>2</th>\n",
       "      <th>3</th>\n",
       "      <th>4</th>\n",
       "      <th>5</th>\n",
       "      <th>6</th>\n",
       "      <th>7</th>\n",
       "      <th>8</th>\n",
       "      <th>9</th>\n",
       "    </tr>\n",
       "  </thead>\n",
       "  <tbody>\n",
       "    <tr>\n",
       "      <th>0</th>\n",
       "      <td>2.386067</td>\n",
       "      <td>-0.254622</td>\n",
       "      <td>0.130420</td>\n",
       "      <td>-0.241325</td>\n",
       "      <td>-1.488019</td>\n",
       "      <td>-1.836847</td>\n",
       "      <td>-1.311110</td>\n",
       "      <td>0.725937</td>\n",
       "      <td>1.249995</td>\n",
       "      <td>0.781971</td>\n",
       "    </tr>\n",
       "    <tr>\n",
       "      <th>1</th>\n",
       "      <td>0.183811</td>\n",
       "      <td>1.513753</td>\n",
       "      <td>0.872931</td>\n",
       "      <td>-0.486893</td>\n",
       "      <td>1.172449</td>\n",
       "      <td>1.069957</td>\n",
       "      <td>-1.479120</td>\n",
       "      <td>-0.040270</td>\n",
       "      <td>-0.220112</td>\n",
       "      <td>-0.843574</td>\n",
       "    </tr>\n",
       "    <tr>\n",
       "      <th>2</th>\n",
       "      <td>0.884520</td>\n",
       "      <td>-1.307929</td>\n",
       "      <td>0.476709</td>\n",
       "      <td>1.247367</td>\n",
       "      <td>-0.245793</td>\n",
       "      <td>0.666674</td>\n",
       "      <td>-0.739754</td>\n",
       "      <td>-0.197210</td>\n",
       "      <td>0.435242</td>\n",
       "      <td>-0.859887</td>\n",
       "    </tr>\n",
       "    <tr>\n",
       "      <th>3</th>\n",
       "      <td>-0.790487</td>\n",
       "      <td>-1.551270</td>\n",
       "      <td>0.399693</td>\n",
       "      <td>0.067506</td>\n",
       "      <td>-1.039020</td>\n",
       "      <td>1.698144</td>\n",
       "      <td>0.448952</td>\n",
       "      <td>-0.278088</td>\n",
       "      <td>1.295625</td>\n",
       "      <td>0.512486</td>\n",
       "    </tr>\n",
       "    <tr>\n",
       "      <th>4</th>\n",
       "      <td>-0.489582</td>\n",
       "      <td>-0.454216</td>\n",
       "      <td>-0.515507</td>\n",
       "      <td>2.508829</td>\n",
       "      <td>0.519723</td>\n",
       "      <td>0.232606</td>\n",
       "      <td>1.219748</td>\n",
       "      <td>1.459025</td>\n",
       "      <td>-0.151214</td>\n",
       "      <td>1.433428</td>\n",
       "    </tr>\n",
       "  </tbody>\n",
       "</table>\n",
       "</div>"
      ],
      "text/plain": [
       "          0         1         2         3         4         5         6  \\\n",
       "0  2.386067 -0.254622  0.130420 -0.241325 -1.488019 -1.836847 -1.311110   \n",
       "1  0.183811  1.513753  0.872931 -0.486893  1.172449  1.069957 -1.479120   \n",
       "2  0.884520 -1.307929  0.476709  1.247367 -0.245793  0.666674 -0.739754   \n",
       "3 -0.790487 -1.551270  0.399693  0.067506 -1.039020  1.698144  0.448952   \n",
       "4 -0.489582 -0.454216 -0.515507  2.508829  0.519723  0.232606  1.219748   \n",
       "\n",
       "          7         8         9  \n",
       "0  0.725937  1.249995  0.781971  \n",
       "1 -0.040270 -0.220112 -0.843574  \n",
       "2 -0.197210  0.435242 -0.859887  \n",
       "3 -0.278088  1.295625  0.512486  \n",
       "4  1.459025 -0.151214  1.433428  "
      ]
     },
     "execution_count": 26,
     "metadata": {},
     "output_type": "execute_result"
    }
   ],
   "source": [
    "data.head()"
   ]
  },
  {
   "cell_type": "code",
   "execution_count": 27,
   "metadata": {},
   "outputs": [
    {
     "ename": "OSError",
     "evalue": "``data`` does not exist",
     "output_type": "error",
     "traceback": [
      "\u001b[1;31m---------------------------------------------------------------------------\u001b[0m",
      "\u001b[1;31mOSError\u001b[0m                                   Traceback (most recent call last)",
      "\u001b[1;32m<ipython-input-27-188b16004fc0>\u001b[0m in \u001b[0;36m<module>\u001b[1;34m\u001b[0m\n\u001b[1;32m----> 1\u001b[1;33m \u001b[0mhdf5\u001b[0m \u001b[1;33m=\u001b[0m \u001b[0mpd\u001b[0m\u001b[1;33m.\u001b[0m\u001b[0mHDFStore\u001b[0m\u001b[1;33m(\u001b[0m\u001b[1;34m'data/random_number.h5'\u001b[0m\u001b[1;33m,\u001b[0m \u001b[1;34m'w'\u001b[0m\u001b[1;33m)\u001b[0m        \u001b[1;31m#pd.HDFStore(),'w':write模式；知识生成了HDF5对象/文件；\u001b[0m\u001b[1;33m\u001b[0m\u001b[1;33m\u001b[0m\u001b[0m\n\u001b[0m",
      "\u001b[1;32me:\\python3\\lib\\site-packages\\pandas\\io\\pytables.py\u001b[0m in \u001b[0;36m__init__\u001b[1;34m(self, path, mode, complevel, complib, fletcher32, **kwargs)\u001b[0m\n\u001b[0;32m    489\u001b[0m         \u001b[0mself\u001b[0m\u001b[1;33m.\u001b[0m\u001b[0m_fletcher32\u001b[0m \u001b[1;33m=\u001b[0m \u001b[0mfletcher32\u001b[0m\u001b[1;33m\u001b[0m\u001b[1;33m\u001b[0m\u001b[0m\n\u001b[0;32m    490\u001b[0m         \u001b[0mself\u001b[0m\u001b[1;33m.\u001b[0m\u001b[0m_filters\u001b[0m \u001b[1;33m=\u001b[0m \u001b[1;32mNone\u001b[0m\u001b[1;33m\u001b[0m\u001b[1;33m\u001b[0m\u001b[0m\n\u001b[1;32m--> 491\u001b[1;33m         \u001b[0mself\u001b[0m\u001b[1;33m.\u001b[0m\u001b[0mopen\u001b[0m\u001b[1;33m(\u001b[0m\u001b[0mmode\u001b[0m\u001b[1;33m=\u001b[0m\u001b[0mmode\u001b[0m\u001b[1;33m,\u001b[0m \u001b[1;33m**\u001b[0m\u001b[0mkwargs\u001b[0m\u001b[1;33m)\u001b[0m\u001b[1;33m\u001b[0m\u001b[1;33m\u001b[0m\u001b[0m\n\u001b[0m\u001b[0;32m    492\u001b[0m \u001b[1;33m\u001b[0m\u001b[0m\n\u001b[0;32m    493\u001b[0m     \u001b[1;32mdef\u001b[0m \u001b[0m__fspath__\u001b[0m\u001b[1;33m(\u001b[0m\u001b[0mself\u001b[0m\u001b[1;33m)\u001b[0m\u001b[1;33m:\u001b[0m\u001b[1;33m\u001b[0m\u001b[1;33m\u001b[0m\u001b[0m\n",
      "\u001b[1;32me:\\python3\\lib\\site-packages\\pandas\\io\\pytables.py\u001b[0m in \u001b[0;36mopen\u001b[1;34m(self, mode, **kwargs)\u001b[0m\n\u001b[0;32m    602\u001b[0m \u001b[1;33m\u001b[0m\u001b[0m\n\u001b[0;32m    603\u001b[0m         \u001b[1;32mtry\u001b[0m\u001b[1;33m:\u001b[0m\u001b[1;33m\u001b[0m\u001b[1;33m\u001b[0m\u001b[0m\n\u001b[1;32m--> 604\u001b[1;33m             \u001b[0mself\u001b[0m\u001b[1;33m.\u001b[0m\u001b[0m_handle\u001b[0m \u001b[1;33m=\u001b[0m \u001b[0mtables\u001b[0m\u001b[1;33m.\u001b[0m\u001b[0mopen_file\u001b[0m\u001b[1;33m(\u001b[0m\u001b[0mself\u001b[0m\u001b[1;33m.\u001b[0m\u001b[0m_path\u001b[0m\u001b[1;33m,\u001b[0m \u001b[0mself\u001b[0m\u001b[1;33m.\u001b[0m\u001b[0m_mode\u001b[0m\u001b[1;33m,\u001b[0m \u001b[1;33m**\u001b[0m\u001b[0mkwargs\u001b[0m\u001b[1;33m)\u001b[0m\u001b[1;33m\u001b[0m\u001b[1;33m\u001b[0m\u001b[0m\n\u001b[0m\u001b[0;32m    605\u001b[0m         \u001b[1;32mexcept\u001b[0m \u001b[1;33m(\u001b[0m\u001b[0mIOError\u001b[0m\u001b[1;33m)\u001b[0m \u001b[1;32mas\u001b[0m \u001b[0me\u001b[0m\u001b[1;33m:\u001b[0m  \u001b[1;31m# pragma: no cover\u001b[0m\u001b[1;33m\u001b[0m\u001b[1;33m\u001b[0m\u001b[0m\n\u001b[0;32m    606\u001b[0m             \u001b[1;32mif\u001b[0m \u001b[1;34m'can not be written'\u001b[0m \u001b[1;32min\u001b[0m \u001b[0mstr\u001b[0m\u001b[1;33m(\u001b[0m\u001b[0me\u001b[0m\u001b[1;33m)\u001b[0m\u001b[1;33m:\u001b[0m\u001b[1;33m\u001b[0m\u001b[1;33m\u001b[0m\u001b[0m\n",
      "\u001b[1;32me:\\python3\\lib\\site-packages\\tables\\file.py\u001b[0m in \u001b[0;36mopen_file\u001b[1;34m(filename, mode, title, root_uep, filters, **kwargs)\u001b[0m\n\u001b[0;32m    318\u001b[0m \u001b[1;33m\u001b[0m\u001b[0m\n\u001b[0;32m    319\u001b[0m     \u001b[1;31m# Finally, create the File instance, and return it\u001b[0m\u001b[1;33m\u001b[0m\u001b[1;33m\u001b[0m\u001b[1;33m\u001b[0m\u001b[0m\n\u001b[1;32m--> 320\u001b[1;33m     \u001b[1;32mreturn\u001b[0m \u001b[0mFile\u001b[0m\u001b[1;33m(\u001b[0m\u001b[0mfilename\u001b[0m\u001b[1;33m,\u001b[0m \u001b[0mmode\u001b[0m\u001b[1;33m,\u001b[0m \u001b[0mtitle\u001b[0m\u001b[1;33m,\u001b[0m \u001b[0mroot_uep\u001b[0m\u001b[1;33m,\u001b[0m \u001b[0mfilters\u001b[0m\u001b[1;33m,\u001b[0m \u001b[1;33m**\u001b[0m\u001b[0mkwargs\u001b[0m\u001b[1;33m)\u001b[0m\u001b[1;33m\u001b[0m\u001b[1;33m\u001b[0m\u001b[0m\n\u001b[0m\u001b[0;32m    321\u001b[0m \u001b[1;33m\u001b[0m\u001b[0m\n\u001b[0;32m    322\u001b[0m \u001b[1;33m\u001b[0m\u001b[0m\n",
      "\u001b[1;32me:\\python3\\lib\\site-packages\\tables\\file.py\u001b[0m in \u001b[0;36m__init__\u001b[1;34m(self, filename, mode, title, root_uep, filters, **kwargs)\u001b[0m\n\u001b[0;32m    782\u001b[0m \u001b[1;33m\u001b[0m\u001b[0m\n\u001b[0;32m    783\u001b[0m         \u001b[1;31m# Now, it is time to initialize the File extension\u001b[0m\u001b[1;33m\u001b[0m\u001b[1;33m\u001b[0m\u001b[1;33m\u001b[0m\u001b[0m\n\u001b[1;32m--> 784\u001b[1;33m         \u001b[0mself\u001b[0m\u001b[1;33m.\u001b[0m\u001b[0m_g_new\u001b[0m\u001b[1;33m(\u001b[0m\u001b[0mfilename\u001b[0m\u001b[1;33m,\u001b[0m \u001b[0mmode\u001b[0m\u001b[1;33m,\u001b[0m \u001b[1;33m**\u001b[0m\u001b[0mparams\u001b[0m\u001b[1;33m)\u001b[0m\u001b[1;33m\u001b[0m\u001b[1;33m\u001b[0m\u001b[0m\n\u001b[0m\u001b[0;32m    785\u001b[0m \u001b[1;33m\u001b[0m\u001b[0m\n\u001b[0;32m    786\u001b[0m         \u001b[1;31m# Check filters and set PyTables format version for new files.\u001b[0m\u001b[1;33m\u001b[0m\u001b[1;33m\u001b[0m\u001b[1;33m\u001b[0m\u001b[0m\n",
      "\u001b[1;32mtables\\hdf5extension.pyx\u001b[0m in \u001b[0;36mtables.hdf5extension.File._g_new\u001b[1;34m()\u001b[0m\n",
      "\u001b[1;32me:\\python3\\lib\\site-packages\\tables\\utils.py\u001b[0m in \u001b[0;36mcheck_file_access\u001b[1;34m(filename, mode)\u001b[0m\n\u001b[0;32m    173\u001b[0m                 \u001b[0mparentname\u001b[0m \u001b[1;33m=\u001b[0m \u001b[1;34m'.'\u001b[0m\u001b[1;33m\u001b[0m\u001b[1;33m\u001b[0m\u001b[0m\n\u001b[0;32m    174\u001b[0m             \u001b[1;32mif\u001b[0m \u001b[1;32mnot\u001b[0m \u001b[0mos\u001b[0m\u001b[1;33m.\u001b[0m\u001b[0maccess\u001b[0m\u001b[1;33m(\u001b[0m\u001b[0mparentname\u001b[0m\u001b[1;33m,\u001b[0m \u001b[0mos\u001b[0m\u001b[1;33m.\u001b[0m\u001b[0mF_OK\u001b[0m\u001b[1;33m)\u001b[0m\u001b[1;33m:\u001b[0m\u001b[1;33m\u001b[0m\u001b[1;33m\u001b[0m\u001b[0m\n\u001b[1;32m--> 175\u001b[1;33m                 \u001b[1;32mraise\u001b[0m \u001b[0mIOError\u001b[0m\u001b[1;33m(\u001b[0m\u001b[1;34m\"``%s`` does not exist\"\u001b[0m \u001b[1;33m%\u001b[0m \u001b[1;33m(\u001b[0m\u001b[0mparentname\u001b[0m\u001b[1;33m,\u001b[0m\u001b[1;33m)\u001b[0m\u001b[1;33m)\u001b[0m\u001b[1;33m\u001b[0m\u001b[1;33m\u001b[0m\u001b[0m\n\u001b[0m\u001b[0;32m    176\u001b[0m             \u001b[1;32mif\u001b[0m \u001b[1;32mnot\u001b[0m \u001b[0mos\u001b[0m\u001b[1;33m.\u001b[0m\u001b[0mpath\u001b[0m\u001b[1;33m.\u001b[0m\u001b[0misdir\u001b[0m\u001b[1;33m(\u001b[0m\u001b[0mparentname\u001b[0m\u001b[1;33m)\u001b[0m\u001b[1;33m:\u001b[0m\u001b[1;33m\u001b[0m\u001b[1;33m\u001b[0m\u001b[0m\n\u001b[0;32m    177\u001b[0m                 \u001b[1;32mraise\u001b[0m \u001b[0mIOError\u001b[0m\u001b[1;33m(\u001b[0m\u001b[1;34m\"``%s`` is not a directory\"\u001b[0m \u001b[1;33m%\u001b[0m \u001b[1;33m(\u001b[0m\u001b[0mparentname\u001b[0m\u001b[1;33m,\u001b[0m\u001b[1;33m)\u001b[0m\u001b[1;33m)\u001b[0m\u001b[1;33m\u001b[0m\u001b[1;33m\u001b[0m\u001b[0m\n",
      "\u001b[1;31mOSError\u001b[0m: ``data`` does not exist"
     ]
    }
   ],
   "source": [
    "hdf5 = pd.HDFStore('data/random_number.h5', 'w')        #pd.HDFStore(),'w':write模式；知识生成了HDF5对象/文件；"
   ]
  },
  {
   "cell_type": "code",
   "execution_count": 28,
   "metadata": {},
   "outputs": [
    {
     "ename": "SyntaxError",
     "evalue": "invalid syntax (<ipython-input-28-b99f4f33961f>, line 1)",
     "output_type": "error",
     "traceback": [
      "\u001b[1;36m  File \u001b[1;32m\"<ipython-input-28-b99f4f33961f>\"\u001b[1;36m, line \u001b[1;32m1\u001b[0m\n\u001b[1;33m    hdf5.      #tab\u001b[0m\n\u001b[1;37m                   ^\u001b[0m\n\u001b[1;31mSyntaxError\u001b[0m\u001b[1;31m:\u001b[0m invalid syntax\n"
     ]
    }
   ],
   "source": [
    "hdf5.      #tab"
   ]
  },
  {
   "cell_type": "code",
   "execution_count": 11,
   "metadata": {
    "collapsed": true
   },
   "outputs": [],
   "source": [
    "hdf5.open()       #打开刚刚创建的HDF5的文件；"
   ]
  },
  {
   "cell_type": "code",
   "execution_count": 12,
   "metadata": {},
   "outputs": [],
   "source": [
    "hdf5['data'] = data      #设置主键的名字，名字叫做data；把data随机数数据已经存进HDF5文件；"
   ]
  },
  {
   "cell_type": "code",
   "execution_count": 13,
   "metadata": {},
   "outputs": [],
   "source": [
    "hdf5.close()"
   ]
  },
  {
   "cell_type": "code",
   "execution_count": 14,
   "metadata": {},
   "outputs": [],
   "source": [
    "hdf5 = pd.HDFStore('data/random_number.h5', 'r')      #'r'读取模式；"
   ]
  },
  {
   "cell_type": "code",
   "execution_count": 15,
   "metadata": {},
   "outputs": [],
   "source": [
    "data_read = hdf5['data']     #读取hdf5中的数据并赋值给data_read"
   ]
  },
  {
   "cell_type": "code",
   "execution_count": 16,
   "metadata": {},
   "outputs": [
    {
     "data": {
      "text/html": [
       "<div>\n",
       "<style>\n",
       "    .dataframe thead tr:only-child th {\n",
       "        text-align: right;\n",
       "    }\n",
       "\n",
       "    .dataframe thead th {\n",
       "        text-align: left;\n",
       "    }\n",
       "\n",
       "    .dataframe tbody tr th {\n",
       "        vertical-align: top;\n",
       "    }\n",
       "</style>\n",
       "<table border=\"1\" class=\"dataframe\">\n",
       "  <thead>\n",
       "    <tr style=\"text-align: right;\">\n",
       "      <th></th>\n",
       "      <th>0</th>\n",
       "      <th>1</th>\n",
       "      <th>2</th>\n",
       "      <th>3</th>\n",
       "      <th>4</th>\n",
       "      <th>5</th>\n",
       "      <th>6</th>\n",
       "      <th>7</th>\n",
       "      <th>8</th>\n",
       "      <th>9</th>\n",
       "    </tr>\n",
       "  </thead>\n",
       "  <tbody>\n",
       "    <tr>\n",
       "      <th>0</th>\n",
       "      <td>-0.205942</td>\n",
       "      <td>-0.280256</td>\n",
       "      <td>-1.671727</td>\n",
       "      <td>0.364285</td>\n",
       "      <td>-0.488249</td>\n",
       "      <td>-0.060461</td>\n",
       "      <td>1.861852</td>\n",
       "      <td>0.744359</td>\n",
       "      <td>0.818997</td>\n",
       "      <td>0.458245</td>\n",
       "    </tr>\n",
       "    <tr>\n",
       "      <th>1</th>\n",
       "      <td>-0.801891</td>\n",
       "      <td>0.102070</td>\n",
       "      <td>1.293319</td>\n",
       "      <td>1.254277</td>\n",
       "      <td>1.067564</td>\n",
       "      <td>0.261026</td>\n",
       "      <td>-1.077104</td>\n",
       "      <td>-0.274136</td>\n",
       "      <td>0.190381</td>\n",
       "      <td>-0.441855</td>\n",
       "    </tr>\n",
       "    <tr>\n",
       "      <th>2</th>\n",
       "      <td>0.236176</td>\n",
       "      <td>0.521590</td>\n",
       "      <td>1.321235</td>\n",
       "      <td>0.920120</td>\n",
       "      <td>-0.474281</td>\n",
       "      <td>0.037810</td>\n",
       "      <td>-0.636843</td>\n",
       "      <td>0.017675</td>\n",
       "      <td>0.768869</td>\n",
       "      <td>2.340724</td>\n",
       "    </tr>\n",
       "    <tr>\n",
       "      <th>3</th>\n",
       "      <td>-1.037212</td>\n",
       "      <td>-1.046202</td>\n",
       "      <td>1.970948</td>\n",
       "      <td>0.894232</td>\n",
       "      <td>-0.475212</td>\n",
       "      <td>2.401837</td>\n",
       "      <td>-0.893403</td>\n",
       "      <td>0.426868</td>\n",
       "      <td>-0.896778</td>\n",
       "      <td>-0.355959</td>\n",
       "    </tr>\n",
       "    <tr>\n",
       "      <th>4</th>\n",
       "      <td>1.148933</td>\n",
       "      <td>1.075020</td>\n",
       "      <td>-1.818066</td>\n",
       "      <td>1.162867</td>\n",
       "      <td>1.581717</td>\n",
       "      <td>0.681554</td>\n",
       "      <td>-0.607851</td>\n",
       "      <td>2.105613</td>\n",
       "      <td>1.508517</td>\n",
       "      <td>0.488335</td>\n",
       "    </tr>\n",
       "  </tbody>\n",
       "</table>\n",
       "</div>"
      ],
      "text/plain": [
       "          0         1         2         3         4         5         6  \\\n",
       "0 -0.205942 -0.280256 -1.671727  0.364285 -0.488249 -0.060461  1.861852   \n",
       "1 -0.801891  0.102070  1.293319  1.254277  1.067564  0.261026 -1.077104   \n",
       "2  0.236176  0.521590  1.321235  0.920120 -0.474281  0.037810 -0.636843   \n",
       "3 -1.037212 -1.046202  1.970948  0.894232 -0.475212  2.401837 -0.893403   \n",
       "4  1.148933  1.075020 -1.818066  1.162867  1.581717  0.681554 -0.607851   \n",
       "\n",
       "          7         8         9  \n",
       "0  0.744359  0.818997  0.458245  \n",
       "1 -0.274136  0.190381 -0.441855  \n",
       "2  0.017675  0.768869  2.340724  \n",
       "3  0.426868 -0.896778 -0.355959  \n",
       "4  2.105613  1.508517  0.488335  "
      ]
     },
     "execution_count": 16,
     "metadata": {},
     "output_type": "execute_result"
    }
   ],
   "source": [
    "data_read.head()"
   ]
  },
  {
   "cell_type": "code",
   "execution_count": 17,
   "metadata": {},
   "outputs": [],
   "source": [
    "hdf5.close()"
   ]
  },
  {
   "cell_type": "code",
   "execution_count": 20,
   "metadata": {},
   "outputs": [
    {
     "name": "stdout",
     "output_type": "stream",
     "text": [
      "[Getting data:]#######################################################"
     ]
    }
   ],
   "source": [
    "profit_data = ts.get_profit_data(2017,1)"
   ]
  },
  {
   "cell_type": "code",
   "execution_count": 21,
   "metadata": {},
   "outputs": [
    {
     "data": {
      "text/html": [
       "<div>\n",
       "<style>\n",
       "    .dataframe thead tr:only-child th {\n",
       "        text-align: right;\n",
       "    }\n",
       "\n",
       "    .dataframe thead th {\n",
       "        text-align: left;\n",
       "    }\n",
       "\n",
       "    .dataframe tbody tr th {\n",
       "        vertical-align: top;\n",
       "    }\n",
       "</style>\n",
       "<table border=\"1\" class=\"dataframe\">\n",
       "  <thead>\n",
       "    <tr style=\"text-align: right;\">\n",
       "      <th></th>\n",
       "      <th>code</th>\n",
       "      <th>name</th>\n",
       "      <th>roe</th>\n",
       "      <th>net_profit_ratio</th>\n",
       "      <th>gross_profit_rate</th>\n",
       "      <th>net_profits</th>\n",
       "      <th>eps</th>\n",
       "      <th>business_income</th>\n",
       "      <th>bips</th>\n",
       "    </tr>\n",
       "  </thead>\n",
       "  <tbody>\n",
       "    <tr>\n",
       "      <th>0</th>\n",
       "      <td>600423</td>\n",
       "      <td>*ST柳化</td>\n",
       "      <td>215.12</td>\n",
       "      <td>10.30</td>\n",
       "      <td>-1.3970</td>\n",
       "      <td>40.6863</td>\n",
       "      <td>0.1018</td>\n",
       "      <td>394.6887</td>\n",
       "      <td>0.9883</td>\n",
       "    </tr>\n",
       "    <tr>\n",
       "      <th>1</th>\n",
       "      <td>600306</td>\n",
       "      <td>商业城</td>\n",
       "      <td>71.97</td>\n",
       "      <td>71.48</td>\n",
       "      <td>17.3030</td>\n",
       "      <td>171.9346</td>\n",
       "      <td>0.9651</td>\n",
       "      <td>240.5080</td>\n",
       "      <td>1.3501</td>\n",
       "    </tr>\n",
       "    <tr>\n",
       "      <th>2</th>\n",
       "      <td>000717</td>\n",
       "      <td>韶钢松山</td>\n",
       "      <td>26.83</td>\n",
       "      <td>3.19</td>\n",
       "      <td>6.2247</td>\n",
       "      <td>168.1588</td>\n",
       "      <td>0.0695</td>\n",
       "      <td>5268.7636</td>\n",
       "      <td>2.1776</td>\n",
       "    </tr>\n",
       "    <tr>\n",
       "      <th>3</th>\n",
       "      <td>600133</td>\n",
       "      <td>东湖高新</td>\n",
       "      <td>26.81</td>\n",
       "      <td>55.22</td>\n",
       "      <td>11.6396</td>\n",
       "      <td>686.8356</td>\n",
       "      <td>1.0828</td>\n",
       "      <td>1243.7266</td>\n",
       "      <td>1.9609</td>\n",
       "    </tr>\n",
       "    <tr>\n",
       "      <th>4</th>\n",
       "      <td>600354</td>\n",
       "      <td>敦煌种业</td>\n",
       "      <td>23.40</td>\n",
       "      <td>302.21</td>\n",
       "      <td>25.0654</td>\n",
       "      <td>273.7035</td>\n",
       "      <td>0.5185</td>\n",
       "      <td>90.5655</td>\n",
       "      <td>0.1715</td>\n",
       "    </tr>\n",
       "  </tbody>\n",
       "</table>\n",
       "</div>"
      ],
      "text/plain": [
       "     code   name     roe  net_profit_ratio  gross_profit_rate  net_profits  \\\n",
       "0  600423  *ST柳化  215.12             10.30            -1.3970      40.6863   \n",
       "1  600306    商业城   71.97             71.48            17.3030     171.9346   \n",
       "2  000717   韶钢松山   26.83              3.19             6.2247     168.1588   \n",
       "3  600133   东湖高新   26.81             55.22            11.6396     686.8356   \n",
       "4  600354   敦煌种业   23.40            302.21            25.0654     273.7035   \n",
       "\n",
       "      eps  business_income    bips  \n",
       "0  0.1018         394.6887  0.9883  \n",
       "1  0.9651         240.5080  1.3501  \n",
       "2  0.0695        5268.7636  2.1776  \n",
       "3  1.0828        1243.7266  1.9609  \n",
       "4  0.5185          90.5655  0.1715  "
      ]
     },
     "execution_count": 21,
     "metadata": {},
     "output_type": "execute_result"
    }
   ],
   "source": [
    "profit_data.head()"
   ]
  },
  {
   "cell_type": "code",
   "execution_count": 22,
   "metadata": {},
   "outputs": [
    {
     "name": "stdout",
     "output_type": "stream",
     "text": [
      "<class 'pandas.core.frame.DataFrame'>\n",
      "RangeIndex: 3289 entries, 0 to 3288\n",
      "Data columns (total 9 columns):\n",
      "code                 3289 non-null object\n",
      "name                 3289 non-null object\n",
      "roe                  3281 non-null float64\n",
      "net_profit_ratio     3284 non-null float64\n",
      "gross_profit_rate    3284 non-null float64\n",
      "net_profits          3288 non-null float64\n",
      "eps                  3288 non-null float64\n",
      "business_income      3288 non-null float64\n",
      "bips                 3288 non-null float64\n",
      "dtypes: float64(7), object(2)\n",
      "memory usage: 231.3+ KB\n"
     ]
    }
   ],
   "source": [
    "profit_data.info()"
   ]
  },
  {
   "cell_type": "code",
   "execution_count": 23,
   "metadata": {
    "collapsed": true
   },
   "outputs": [],
   "source": [
    "hdf5 = pd.HDFStore('profit_data.h5', 'w')"
   ]
  },
  {
   "cell_type": "code",
   "execution_count": 24,
   "metadata": {
    "collapsed": true
   },
   "outputs": [],
   "source": [
    "hdf5['data'] = profit_data     #把刚刚从tushare上调取的利润数据存进HDF5文件里；"
   ]
  },
  {
   "cell_type": "code",
   "execution_count": 25,
   "metadata": {
    "collapsed": true
   },
   "outputs": [],
   "source": [
    "hdf5.close()"
   ]
  },
  {
   "cell_type": "code",
   "execution_count": 27,
   "metadata": {},
   "outputs": [],
   "source": [
    "hdf5 = pd.HDFStore('profit_data.h5', 'r')"
   ]
  },
  {
   "cell_type": "code",
   "execution_count": 28,
   "metadata": {
    "collapsed": true
   },
   "outputs": [],
   "source": [
    "data_profit = hdf5['data']"
   ]
  },
  {
   "cell_type": "code",
   "execution_count": 29,
   "metadata": {},
   "outputs": [
    {
     "data": {
      "text/html": [
       "<div>\n",
       "<style>\n",
       "    .dataframe thead tr:only-child th {\n",
       "        text-align: right;\n",
       "    }\n",
       "\n",
       "    .dataframe thead th {\n",
       "        text-align: left;\n",
       "    }\n",
       "\n",
       "    .dataframe tbody tr th {\n",
       "        vertical-align: top;\n",
       "    }\n",
       "</style>\n",
       "<table border=\"1\" class=\"dataframe\">\n",
       "  <thead>\n",
       "    <tr style=\"text-align: right;\">\n",
       "      <th></th>\n",
       "      <th>code</th>\n",
       "      <th>name</th>\n",
       "      <th>roe</th>\n",
       "      <th>net_profit_ratio</th>\n",
       "      <th>gross_profit_rate</th>\n",
       "      <th>net_profits</th>\n",
       "      <th>eps</th>\n",
       "      <th>business_income</th>\n",
       "      <th>bips</th>\n",
       "    </tr>\n",
       "  </thead>\n",
       "  <tbody>\n",
       "    <tr>\n",
       "      <th>0</th>\n",
       "      <td>600423</td>\n",
       "      <td>*ST柳化</td>\n",
       "      <td>215.12</td>\n",
       "      <td>10.30</td>\n",
       "      <td>-1.3970</td>\n",
       "      <td>40.6863</td>\n",
       "      <td>0.1018</td>\n",
       "      <td>394.6887</td>\n",
       "      <td>0.9883</td>\n",
       "    </tr>\n",
       "    <tr>\n",
       "      <th>1</th>\n",
       "      <td>600306</td>\n",
       "      <td>商业城</td>\n",
       "      <td>71.97</td>\n",
       "      <td>71.48</td>\n",
       "      <td>17.3030</td>\n",
       "      <td>171.9346</td>\n",
       "      <td>0.9651</td>\n",
       "      <td>240.5080</td>\n",
       "      <td>1.3501</td>\n",
       "    </tr>\n",
       "    <tr>\n",
       "      <th>2</th>\n",
       "      <td>000717</td>\n",
       "      <td>韶钢松山</td>\n",
       "      <td>26.83</td>\n",
       "      <td>3.19</td>\n",
       "      <td>6.2247</td>\n",
       "      <td>168.1588</td>\n",
       "      <td>0.0695</td>\n",
       "      <td>5268.7636</td>\n",
       "      <td>2.1776</td>\n",
       "    </tr>\n",
       "    <tr>\n",
       "      <th>3</th>\n",
       "      <td>600133</td>\n",
       "      <td>东湖高新</td>\n",
       "      <td>26.81</td>\n",
       "      <td>55.22</td>\n",
       "      <td>11.6396</td>\n",
       "      <td>686.8356</td>\n",
       "      <td>1.0828</td>\n",
       "      <td>1243.7266</td>\n",
       "      <td>1.9609</td>\n",
       "    </tr>\n",
       "    <tr>\n",
       "      <th>4</th>\n",
       "      <td>600354</td>\n",
       "      <td>敦煌种业</td>\n",
       "      <td>23.40</td>\n",
       "      <td>302.21</td>\n",
       "      <td>25.0654</td>\n",
       "      <td>273.7035</td>\n",
       "      <td>0.5185</td>\n",
       "      <td>90.5655</td>\n",
       "      <td>0.1715</td>\n",
       "    </tr>\n",
       "  </tbody>\n",
       "</table>\n",
       "</div>"
      ],
      "text/plain": [
       "     code   name     roe  net_profit_ratio  gross_profit_rate  net_profits  \\\n",
       "0  600423  *ST柳化  215.12             10.30            -1.3970      40.6863   \n",
       "1  600306    商业城   71.97             71.48            17.3030     171.9346   \n",
       "2  000717   韶钢松山   26.83              3.19             6.2247     168.1588   \n",
       "3  600133   东湖高新   26.81             55.22            11.6396     686.8356   \n",
       "4  600354   敦煌种业   23.40            302.21            25.0654     273.7035   \n",
       "\n",
       "      eps  business_income    bips  \n",
       "0  0.1018         394.6887  0.9883  \n",
       "1  0.9651         240.5080  1.3501  \n",
       "2  0.0695        5268.7636  2.1776  \n",
       "3  1.0828        1243.7266  1.9609  \n",
       "4  0.5185          90.5655  0.1715  "
      ]
     },
     "execution_count": 29,
     "metadata": {},
     "output_type": "execute_result"
    }
   ],
   "source": [
    "data_profit.head(5)"
   ]
  },
  {
   "cell_type": "code",
   "execution_count": 30,
   "metadata": {},
   "outputs": [
    {
     "data": {
      "text/html": [
       "<div>\n",
       "<style>\n",
       "    .dataframe thead tr:only-child th {\n",
       "        text-align: right;\n",
       "    }\n",
       "\n",
       "    .dataframe thead th {\n",
       "        text-align: left;\n",
       "    }\n",
       "\n",
       "    .dataframe tbody tr th {\n",
       "        vertical-align: top;\n",
       "    }\n",
       "</style>\n",
       "<table border=\"1\" class=\"dataframe\">\n",
       "  <thead>\n",
       "    <tr style=\"text-align: right;\">\n",
       "      <th></th>\n",
       "      <th>code</th>\n",
       "      <th>name</th>\n",
       "      <th>roe</th>\n",
       "      <th>net_profit_ratio</th>\n",
       "      <th>gross_profit_rate</th>\n",
       "      <th>net_profits</th>\n",
       "      <th>eps</th>\n",
       "      <th>business_income</th>\n",
       "      <th>bips</th>\n",
       "    </tr>\n",
       "  </thead>\n",
       "  <tbody>\n",
       "    <tr>\n",
       "      <th>0</th>\n",
       "      <td>600423</td>\n",
       "      <td>*ST柳化</td>\n",
       "      <td>215.12</td>\n",
       "      <td>10.30</td>\n",
       "      <td>-1.3970</td>\n",
       "      <td>40.6863</td>\n",
       "      <td>0.1018</td>\n",
       "      <td>394.6887</td>\n",
       "      <td>0.9883</td>\n",
       "    </tr>\n",
       "    <tr>\n",
       "      <th>1</th>\n",
       "      <td>600306</td>\n",
       "      <td>商业城</td>\n",
       "      <td>71.97</td>\n",
       "      <td>71.48</td>\n",
       "      <td>17.3030</td>\n",
       "      <td>171.9346</td>\n",
       "      <td>0.9651</td>\n",
       "      <td>240.5080</td>\n",
       "      <td>1.3501</td>\n",
       "    </tr>\n",
       "    <tr>\n",
       "      <th>2</th>\n",
       "      <td>000717</td>\n",
       "      <td>韶钢松山</td>\n",
       "      <td>26.83</td>\n",
       "      <td>3.19</td>\n",
       "      <td>6.2247</td>\n",
       "      <td>168.1588</td>\n",
       "      <td>0.0695</td>\n",
       "      <td>5268.7636</td>\n",
       "      <td>2.1776</td>\n",
       "    </tr>\n",
       "    <tr>\n",
       "      <th>3</th>\n",
       "      <td>600133</td>\n",
       "      <td>东湖高新</td>\n",
       "      <td>26.81</td>\n",
       "      <td>55.22</td>\n",
       "      <td>11.6396</td>\n",
       "      <td>686.8356</td>\n",
       "      <td>1.0828</td>\n",
       "      <td>1243.7266</td>\n",
       "      <td>1.9609</td>\n",
       "    </tr>\n",
       "    <tr>\n",
       "      <th>4</th>\n",
       "      <td>600354</td>\n",
       "      <td>敦煌种业</td>\n",
       "      <td>23.40</td>\n",
       "      <td>302.21</td>\n",
       "      <td>25.0654</td>\n",
       "      <td>273.7035</td>\n",
       "      <td>0.5185</td>\n",
       "      <td>90.5655</td>\n",
       "      <td>0.1715</td>\n",
       "    </tr>\n",
       "  </tbody>\n",
       "</table>\n",
       "</div>"
      ],
      "text/plain": [
       "     code   name     roe  net_profit_ratio  gross_profit_rate  net_profits  \\\n",
       "0  600423  *ST柳化  215.12             10.30            -1.3970      40.6863   \n",
       "1  600306    商业城   71.97             71.48            17.3030     171.9346   \n",
       "2  000717   韶钢松山   26.83              3.19             6.2247     168.1588   \n",
       "3  600133   东湖高新   26.81             55.22            11.6396     686.8356   \n",
       "4  600354   敦煌种业   23.40            302.21            25.0654     273.7035   \n",
       "\n",
       "      eps  business_income    bips  \n",
       "0  0.1018         394.6887  0.9883  \n",
       "1  0.9651         240.5080  1.3501  \n",
       "2  0.0695        5268.7636  2.1776  \n",
       "3  1.0828        1243.7266  1.9609  \n",
       "4  0.5185          90.5655  0.1715  "
      ]
     },
     "execution_count": 30,
     "metadata": {},
     "output_type": "execute_result"
    }
   ],
   "source": [
    "data_profit[data_profit['roe']>15].head()"
   ]
  },
  {
   "cell_type": "code",
   "execution_count": 31,
   "metadata": {},
   "outputs": [
    {
     "data": {
      "text/html": [
       "<div>\n",
       "<style>\n",
       "    .dataframe thead tr:only-child th {\n",
       "        text-align: right;\n",
       "    }\n",
       "\n",
       "    .dataframe thead th {\n",
       "        text-align: left;\n",
       "    }\n",
       "\n",
       "    .dataframe tbody tr th {\n",
       "        vertical-align: top;\n",
       "    }\n",
       "</style>\n",
       "<table border=\"1\" class=\"dataframe\">\n",
       "  <thead>\n",
       "    <tr style=\"text-align: right;\">\n",
       "      <th></th>\n",
       "      <th>code</th>\n",
       "      <th>name</th>\n",
       "      <th>roe</th>\n",
       "      <th>net_profit_ratio</th>\n",
       "      <th>gross_profit_rate</th>\n",
       "      <th>net_profits</th>\n",
       "      <th>eps</th>\n",
       "      <th>business_income</th>\n",
       "      <th>bips</th>\n",
       "    </tr>\n",
       "  </thead>\n",
       "  <tbody>\n",
       "    <tr>\n",
       "      <th>1</th>\n",
       "      <td>600306</td>\n",
       "      <td>商业城</td>\n",
       "      <td>71.97</td>\n",
       "      <td>71.48</td>\n",
       "      <td>17.3030</td>\n",
       "      <td>171.9346</td>\n",
       "      <td>0.9651</td>\n",
       "      <td>240.5080</td>\n",
       "      <td>1.3501</td>\n",
       "    </tr>\n",
       "    <tr>\n",
       "      <th>3</th>\n",
       "      <td>600133</td>\n",
       "      <td>东湖高新</td>\n",
       "      <td>26.81</td>\n",
       "      <td>55.22</td>\n",
       "      <td>11.6396</td>\n",
       "      <td>686.8356</td>\n",
       "      <td>1.0828</td>\n",
       "      <td>1243.7266</td>\n",
       "      <td>1.9609</td>\n",
       "    </tr>\n",
       "    <tr>\n",
       "      <th>4</th>\n",
       "      <td>600354</td>\n",
       "      <td>敦煌种业</td>\n",
       "      <td>23.40</td>\n",
       "      <td>302.21</td>\n",
       "      <td>25.0654</td>\n",
       "      <td>273.7035</td>\n",
       "      <td>0.5185</td>\n",
       "      <td>90.5655</td>\n",
       "      <td>0.1715</td>\n",
       "    </tr>\n",
       "    <tr>\n",
       "      <th>5</th>\n",
       "      <td>600225</td>\n",
       "      <td>*ST松江</td>\n",
       "      <td>22.84</td>\n",
       "      <td>146.43</td>\n",
       "      <td>24.9719</td>\n",
       "      <td>423.3024</td>\n",
       "      <td>0.4524</td>\n",
       "      <td>289.0652</td>\n",
       "      <td>0.3089</td>\n",
       "    </tr>\n",
       "    <tr>\n",
       "      <th>6</th>\n",
       "      <td>600230</td>\n",
       "      <td>沧州大化</td>\n",
       "      <td>21.94</td>\n",
       "      <td>39.66</td>\n",
       "      <td>55.6318</td>\n",
       "      <td>424.8125</td>\n",
       "      <td>1.4440</td>\n",
       "      <td>1070.9230</td>\n",
       "      <td>3.6402</td>\n",
       "    </tr>\n",
       "    <tr>\n",
       "      <th>7</th>\n",
       "      <td>600338</td>\n",
       "      <td>西藏珠峰</td>\n",
       "      <td>20.28</td>\n",
       "      <td>53.09</td>\n",
       "      <td>70.4140</td>\n",
       "      <td>305.8753</td>\n",
       "      <td>0.4684</td>\n",
       "      <td>576.0689</td>\n",
       "      <td>0.8821</td>\n",
       "    </tr>\n",
       "    <tr>\n",
       "      <th>8</th>\n",
       "      <td>000036</td>\n",
       "      <td>华联控股</td>\n",
       "      <td>18.32</td>\n",
       "      <td>42.51</td>\n",
       "      <td>71.4131</td>\n",
       "      <td>758.4114</td>\n",
       "      <td>0.6643</td>\n",
       "      <td>1783.7509</td>\n",
       "      <td>1.5625</td>\n",
       "    </tr>\n",
       "    <tr>\n",
       "      <th>9</th>\n",
       "      <td>300288</td>\n",
       "      <td>朗玛信息</td>\n",
       "      <td>18.30</td>\n",
       "      <td>85.96</td>\n",
       "      <td>26.9264</td>\n",
       "      <td>240.8041</td>\n",
       "      <td>0.7125</td>\n",
       "      <td>280.1342</td>\n",
       "      <td>0.8289</td>\n",
       "    </tr>\n",
       "    <tr>\n",
       "      <th>10</th>\n",
       "      <td>600291</td>\n",
       "      <td>西水股份</td>\n",
       "      <td>17.53</td>\n",
       "      <td>22.32</td>\n",
       "      <td>26.3018</td>\n",
       "      <td>2117.8868</td>\n",
       "      <td>1.9375</td>\n",
       "      <td>9488.7197</td>\n",
       "      <td>8.6808</td>\n",
       "    </tr>\n",
       "    <tr>\n",
       "      <th>13</th>\n",
       "      <td>600633</td>\n",
       "      <td>浙数文化</td>\n",
       "      <td>16.31</td>\n",
       "      <td>192.98</td>\n",
       "      <td>43.5107</td>\n",
       "      <td>1259.7513</td>\n",
       "      <td>0.9676</td>\n",
       "      <td>652.7781</td>\n",
       "      <td>0.5013</td>\n",
       "    </tr>\n",
       "    <tr>\n",
       "      <th>14</th>\n",
       "      <td>600167</td>\n",
       "      <td>联美控股</td>\n",
       "      <td>15.40</td>\n",
       "      <td>43.16</td>\n",
       "      <td>60.2320</td>\n",
       "      <td>451.5746</td>\n",
       "      <td>0.6639</td>\n",
       "      <td>1046.1494</td>\n",
       "      <td>1.5381</td>\n",
       "    </tr>\n",
       "    <tr>\n",
       "      <th>15</th>\n",
       "      <td>002207</td>\n",
       "      <td>*ST准油</td>\n",
       "      <td>15.38</td>\n",
       "      <td>300.95</td>\n",
       "      <td>-47.6736</td>\n",
       "      <td>62.6184</td>\n",
       "      <td>0.2618</td>\n",
       "      <td>20.8069</td>\n",
       "      <td>0.0869</td>\n",
       "    </tr>\n",
       "  </tbody>\n",
       "</table>\n",
       "</div>"
      ],
      "text/plain": [
       "      code   name    roe  net_profit_ratio  gross_profit_rate  net_profits  \\\n",
       "1   600306    商业城  71.97             71.48            17.3030     171.9346   \n",
       "3   600133   东湖高新  26.81             55.22            11.6396     686.8356   \n",
       "4   600354   敦煌种业  23.40            302.21            25.0654     273.7035   \n",
       "5   600225  *ST松江  22.84            146.43            24.9719     423.3024   \n",
       "6   600230   沧州大化  21.94             39.66            55.6318     424.8125   \n",
       "7   600338   西藏珠峰  20.28             53.09            70.4140     305.8753   \n",
       "8   000036   华联控股  18.32             42.51            71.4131     758.4114   \n",
       "9   300288   朗玛信息  18.30             85.96            26.9264     240.8041   \n",
       "10  600291   西水股份  17.53             22.32            26.3018    2117.8868   \n",
       "13  600633   浙数文化  16.31            192.98            43.5107    1259.7513   \n",
       "14  600167   联美控股  15.40             43.16            60.2320     451.5746   \n",
       "15  002207  *ST准油  15.38            300.95           -47.6736      62.6184   \n",
       "\n",
       "       eps  business_income    bips  \n",
       "1   0.9651         240.5080  1.3501  \n",
       "3   1.0828        1243.7266  1.9609  \n",
       "4   0.5185          90.5655  0.1715  \n",
       "5   0.4524         289.0652  0.3089  \n",
       "6   1.4440        1070.9230  3.6402  \n",
       "7   0.4684         576.0689  0.8821  \n",
       "8   0.6643        1783.7509  1.5625  \n",
       "9   0.7125         280.1342  0.8289  \n",
       "10  1.9375        9488.7197  8.6808  \n",
       "13  0.9676         652.7781  0.5013  \n",
       "14  0.6639        1046.1494  1.5381  \n",
       "15  0.2618          20.8069  0.0869  "
      ]
     },
     "execution_count": 31,
     "metadata": {},
     "output_type": "execute_result"
    }
   ],
   "source": [
    "data_profit[(data_profit['roe']>15) & (data_profit['net_profit_ratio']>20)]      #数据库调取数据并进行多条件选股；\n"
   ]
  },
  {
   "cell_type": "markdown",
   "metadata": {},
   "source": [
    "声明：本资料仅限内部研究使用，切勿外传。"
   ]
  }
 ],
 "metadata": {
  "anaconda-cloud": {},
  "kernelspec": {
   "display_name": "Python 3",
   "language": "python",
   "name": "python3"
  },
  "language_info": {
   "codemirror_mode": {
    "name": "ipython",
    "version": 3
   },
   "file_extension": ".py",
   "mimetype": "text/x-python",
   "name": "python",
   "nbconvert_exporter": "python",
   "pygments_lexer": "ipython3",
   "version": "3.7.1"
  }
 },
 "nbformat": 4,
 "nbformat_minor": 1
}
