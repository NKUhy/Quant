{
 "cells": [
  {
   "cell_type": "markdown",
   "metadata": {},
   "source": [
    "## 金融数据处理"
   ]
  },
  {
   "cell_type": "code",
   "execution_count": 2,
   "metadata": {},
   "outputs": [],
   "source": [
    "import pandas as pd\n",
    "import numpy as np\n",
    "import datetime\n",
    "import matplotlib.pyplot as plt\n",
    "import seaborn\n",
    "import tushare as ts\n",
    "%matplotlib inline\n",
    "import warnings; warnings.simplefilter('ignore') #忽略可能会出现的警告信息，警告并不是错误，可以忽略；"
   ]
  },
  {
   "cell_type": "markdown",
   "metadata": {},
   "source": [
    "### 1. 高效获得金融数据"
   ]
  },
  {
   "cell_type": "code",
   "execution_count": 3,
   "metadata": {},
   "outputs": [],
   "source": [
    "data = ts.get_k_data(['600030','300149'],  start = '2016-01-01', end = '2017-07-01')     #无法像yahoo一样同时调取多只股票；"
   ]
  },
  {
   "cell_type": "code",
   "execution_count": 4,
   "metadata": {},
   "outputs": [
    {
     "data": {
      "text/html": [
       "<div>\n",
       "<style scoped>\n",
       "    .dataframe tbody tr th:only-of-type {\n",
       "        vertical-align: middle;\n",
       "    }\n",
       "\n",
       "    .dataframe tbody tr th {\n",
       "        vertical-align: top;\n",
       "    }\n",
       "\n",
       "    .dataframe thead th {\n",
       "        text-align: right;\n",
       "    }\n",
       "</style>\n",
       "<table border=\"1\" class=\"dataframe\">\n",
       "  <thead>\n",
       "    <tr style=\"text-align: right;\">\n",
       "      <th></th>\n",
       "    </tr>\n",
       "  </thead>\n",
       "  <tbody>\n",
       "  </tbody>\n",
       "</table>\n",
       "</div>"
      ],
      "text/plain": [
       "Empty DataFrame\n",
       "Columns: []\n",
       "Index: []"
      ]
     },
     "execution_count": 4,
     "metadata": {},
     "output_type": "execute_result"
    }
   ],
   "source": [
    "data.head()"
   ]
  },
  {
   "cell_type": "markdown",
   "metadata": {},
   "source": [
    "**1.1 获取单个对象数据**"
   ]
  },
  {
   "cell_type": "code",
   "execution_count": 5,
   "metadata": {},
   "outputs": [
    {
     "data": {
      "text/html": [
       "<div>\n",
       "<style scoped>\n",
       "    .dataframe tbody tr th:only-of-type {\n",
       "        vertical-align: middle;\n",
       "    }\n",
       "\n",
       "    .dataframe tbody tr th {\n",
       "        vertical-align: top;\n",
       "    }\n",
       "\n",
       "    .dataframe thead th {\n",
       "        text-align: right;\n",
       "    }\n",
       "</style>\n",
       "<table border=\"1\" class=\"dataframe\">\n",
       "  <thead>\n",
       "    <tr style=\"text-align: right;\">\n",
       "      <th></th>\n",
       "      <th>date</th>\n",
       "      <th>open</th>\n",
       "      <th>close</th>\n",
       "      <th>high</th>\n",
       "      <th>low</th>\n",
       "      <th>volume</th>\n",
       "      <th>code</th>\n",
       "    </tr>\n",
       "  </thead>\n",
       "  <tbody>\n",
       "    <tr>\n",
       "      <th>0</th>\n",
       "      <td>2016-01-04</td>\n",
       "      <td>17.905</td>\n",
       "      <td>16.225</td>\n",
       "      <td>17.905</td>\n",
       "      <td>16.169</td>\n",
       "      <td>1960583.0</td>\n",
       "      <td>600030</td>\n",
       "    </tr>\n",
       "    <tr>\n",
       "      <th>1</th>\n",
       "      <td>2016-01-05</td>\n",
       "      <td>15.593</td>\n",
       "      <td>16.382</td>\n",
       "      <td>16.689</td>\n",
       "      <td>15.436</td>\n",
       "      <td>2333291.0</td>\n",
       "      <td>600030</td>\n",
       "    </tr>\n",
       "    <tr>\n",
       "      <th>2</th>\n",
       "      <td>2016-01-06</td>\n",
       "      <td>16.290</td>\n",
       "      <td>16.642</td>\n",
       "      <td>16.846</td>\n",
       "      <td>15.965</td>\n",
       "      <td>1972783.0</td>\n",
       "      <td>600030</td>\n",
       "    </tr>\n",
       "    <tr>\n",
       "      <th>3</th>\n",
       "      <td>2016-01-07</td>\n",
       "      <td>16.225</td>\n",
       "      <td>15.166</td>\n",
       "      <td>16.336</td>\n",
       "      <td>15.036</td>\n",
       "      <td>679037.0</td>\n",
       "      <td>600030</td>\n",
       "    </tr>\n",
       "    <tr>\n",
       "      <th>4</th>\n",
       "      <td>2016-01-08</td>\n",
       "      <td>15.631</td>\n",
       "      <td>15.621</td>\n",
       "      <td>16.187</td>\n",
       "      <td>14.851</td>\n",
       "      <td>2979253.0</td>\n",
       "      <td>600030</td>\n",
       "    </tr>\n",
       "  </tbody>\n",
       "</table>\n",
       "</div>"
      ],
      "text/plain": [
       "         date    open   close    high     low     volume    code\n",
       "0  2016-01-04  17.905  16.225  17.905  16.169  1960583.0  600030\n",
       "1  2016-01-05  15.593  16.382  16.689  15.436  2333291.0  600030\n",
       "2  2016-01-06  16.290  16.642  16.846  15.965  1972783.0  600030\n",
       "3  2016-01-07  16.225  15.166  16.336  15.036   679037.0  600030\n",
       "4  2016-01-08  15.631  15.621  16.187  14.851  2979253.0  600030"
      ]
     },
     "execution_count": 5,
     "metadata": {},
     "output_type": "execute_result"
    }
   ],
   "source": [
    "#获得中信证券的股价信息\n",
    "zxzq = ts.get_k_data('600030', start = '2016-01-01', end = '2017-07-01')\n",
    "zxzq.head()"
   ]
  },
  {
   "cell_type": "code",
   "execution_count": 6,
   "metadata": {},
   "outputs": [
    {
     "data": {
      "text/html": [
       "<div>\n",
       "<style scoped>\n",
       "    .dataframe tbody tr th:only-of-type {\n",
       "        vertical-align: middle;\n",
       "    }\n",
       "\n",
       "    .dataframe tbody tr th {\n",
       "        vertical-align: top;\n",
       "    }\n",
       "\n",
       "    .dataframe thead th {\n",
       "        text-align: right;\n",
       "    }\n",
       "</style>\n",
       "<table border=\"1\" class=\"dataframe\">\n",
       "  <thead>\n",
       "    <tr style=\"text-align: right;\">\n",
       "      <th></th>\n",
       "      <th>date</th>\n",
       "      <th>open</th>\n",
       "      <th>close</th>\n",
       "      <th>high</th>\n",
       "      <th>low</th>\n",
       "      <th>volume</th>\n",
       "      <th>code</th>\n",
       "    </tr>\n",
       "  </thead>\n",
       "  <tbody>\n",
       "    <tr>\n",
       "      <th>0</th>\n",
       "      <td>2016-01-04</td>\n",
       "      <td>3725.86</td>\n",
       "      <td>3470.41</td>\n",
       "      <td>3726.24</td>\n",
       "      <td>3469.01</td>\n",
       "      <td>115370674.0</td>\n",
       "      <td>hs300</td>\n",
       "    </tr>\n",
       "    <tr>\n",
       "      <th>1</th>\n",
       "      <td>2016-01-05</td>\n",
       "      <td>3382.18</td>\n",
       "      <td>3478.78</td>\n",
       "      <td>3518.22</td>\n",
       "      <td>3377.28</td>\n",
       "      <td>162116984.0</td>\n",
       "      <td>hs300</td>\n",
       "    </tr>\n",
       "    <tr>\n",
       "      <th>2</th>\n",
       "      <td>2016-01-06</td>\n",
       "      <td>3482.41</td>\n",
       "      <td>3539.81</td>\n",
       "      <td>3543.74</td>\n",
       "      <td>3468.47</td>\n",
       "      <td>145966144.0</td>\n",
       "      <td>hs300</td>\n",
       "    </tr>\n",
       "    <tr>\n",
       "      <th>3</th>\n",
       "      <td>2016-01-07</td>\n",
       "      <td>3481.15</td>\n",
       "      <td>3294.38</td>\n",
       "      <td>3481.15</td>\n",
       "      <td>3284.74</td>\n",
       "      <td>44102641.0</td>\n",
       "      <td>hs300</td>\n",
       "    </tr>\n",
       "    <tr>\n",
       "      <th>4</th>\n",
       "      <td>2016-01-08</td>\n",
       "      <td>3371.87</td>\n",
       "      <td>3361.56</td>\n",
       "      <td>3418.85</td>\n",
       "      <td>3237.93</td>\n",
       "      <td>185959451.0</td>\n",
       "      <td>hs300</td>\n",
       "    </tr>\n",
       "  </tbody>\n",
       "</table>\n",
       "</div>"
      ],
      "text/plain": [
       "         date     open    close     high      low       volume   code\n",
       "0  2016-01-04  3725.86  3470.41  3726.24  3469.01  115370674.0  hs300\n",
       "1  2016-01-05  3382.18  3478.78  3518.22  3377.28  162116984.0  hs300\n",
       "2  2016-01-06  3482.41  3539.81  3543.74  3468.47  145966144.0  hs300\n",
       "3  2016-01-07  3481.15  3294.38  3481.15  3284.74   44102641.0  hs300\n",
       "4  2016-01-08  3371.87  3361.56  3418.85  3237.93  185959451.0  hs300"
      ]
     },
     "execution_count": 6,
     "metadata": {},
     "output_type": "execute_result"
    }
   ],
   "source": [
    "# 获得指数数据\n",
    "hs300 = ts.get_k_data('hs300',start = '2016-01-01', end = '2017-07-01')\n",
    "hs300.head()"
   ]
  },
  {
   "cell_type": "code",
   "execution_count": 7,
   "metadata": {},
   "outputs": [
    {
     "data": {
      "text/html": [
       "<div>\n",
       "<style scoped>\n",
       "    .dataframe tbody tr th:only-of-type {\n",
       "        vertical-align: middle;\n",
       "    }\n",
       "\n",
       "    .dataframe tbody tr th {\n",
       "        vertical-align: top;\n",
       "    }\n",
       "\n",
       "    .dataframe thead th {\n",
       "        text-align: right;\n",
       "    }\n",
       "</style>\n",
       "<table border=\"1\" class=\"dataframe\">\n",
       "  <thead>\n",
       "    <tr style=\"text-align: right;\">\n",
       "      <th></th>\n",
       "      <th>open</th>\n",
       "      <th>close</th>\n",
       "      <th>high</th>\n",
       "      <th>low</th>\n",
       "      <th>volume</th>\n",
       "      <th>code</th>\n",
       "    </tr>\n",
       "    <tr>\n",
       "      <th>date</th>\n",
       "      <th></th>\n",
       "      <th></th>\n",
       "      <th></th>\n",
       "      <th></th>\n",
       "      <th></th>\n",
       "      <th></th>\n",
       "    </tr>\n",
       "  </thead>\n",
       "  <tbody>\n",
       "    <tr>\n",
       "      <th>2016-01-04</th>\n",
       "      <td>3725.86</td>\n",
       "      <td>3470.41</td>\n",
       "      <td>3726.24</td>\n",
       "      <td>3469.01</td>\n",
       "      <td>115370674.0</td>\n",
       "      <td>hs300</td>\n",
       "    </tr>\n",
       "    <tr>\n",
       "      <th>2016-01-05</th>\n",
       "      <td>3382.18</td>\n",
       "      <td>3478.78</td>\n",
       "      <td>3518.22</td>\n",
       "      <td>3377.28</td>\n",
       "      <td>162116984.0</td>\n",
       "      <td>hs300</td>\n",
       "    </tr>\n",
       "    <tr>\n",
       "      <th>2016-01-06</th>\n",
       "      <td>3482.41</td>\n",
       "      <td>3539.81</td>\n",
       "      <td>3543.74</td>\n",
       "      <td>3468.47</td>\n",
       "      <td>145966144.0</td>\n",
       "      <td>hs300</td>\n",
       "    </tr>\n",
       "    <tr>\n",
       "      <th>2016-01-07</th>\n",
       "      <td>3481.15</td>\n",
       "      <td>3294.38</td>\n",
       "      <td>3481.15</td>\n",
       "      <td>3284.74</td>\n",
       "      <td>44102641.0</td>\n",
       "      <td>hs300</td>\n",
       "    </tr>\n",
       "    <tr>\n",
       "      <th>2016-01-08</th>\n",
       "      <td>3371.87</td>\n",
       "      <td>3361.56</td>\n",
       "      <td>3418.85</td>\n",
       "      <td>3237.93</td>\n",
       "      <td>185959451.0</td>\n",
       "      <td>hs300</td>\n",
       "    </tr>\n",
       "  </tbody>\n",
       "</table>\n",
       "</div>"
      ],
      "text/plain": [
       "               open    close     high      low       volume   code\n",
       "date                                                              \n",
       "2016-01-04  3725.86  3470.41  3726.24  3469.01  115370674.0  hs300\n",
       "2016-01-05  3382.18  3478.78  3518.22  3377.28  162116984.0  hs300\n",
       "2016-01-06  3482.41  3539.81  3543.74  3468.47  145966144.0  hs300\n",
       "2016-01-07  3481.15  3294.38  3481.15  3284.74   44102641.0  hs300\n",
       "2016-01-08  3371.87  3361.56  3418.85  3237.93  185959451.0  hs300"
      ]
     },
     "execution_count": 7,
     "metadata": {},
     "output_type": "execute_result"
    }
   ],
   "source": [
    "# 设置日期为索引(看上去是日期，但实际并不是日期类型)\n",
    "hs300.set_index('date', inplace = True)\n",
    "hs300.index = pd.to_datetime(hs300.index)\n",
    "hs300.head()"
   ]
  },
  {
   "cell_type": "code",
   "execution_count": 8,
   "metadata": {},
   "outputs": [
    {
     "name": "stdout",
     "output_type": "stream",
     "text": [
      "<class 'pandas.core.frame.DataFrame'>\n",
      "DatetimeIndex: 363 entries, 2016-01-04 to 2017-06-30\n",
      "Data columns (total 6 columns):\n",
      "open      363 non-null float64\n",
      "close     363 non-null float64\n",
      "high      363 non-null float64\n",
      "low       363 non-null float64\n",
      "volume    363 non-null float64\n",
      "code      363 non-null object\n",
      "dtypes: float64(5), object(1)\n",
      "memory usage: 19.9+ KB\n"
     ]
    }
   ],
   "source": [
    "hs300.info()"
   ]
  },
  {
   "cell_type": "markdown",
   "metadata": {},
   "source": [
    "####  1.2 同时获取多只股价信息"
   ]
  },
  {
   "cell_type": "code",
   "execution_count": 9,
   "metadata": {},
   "outputs": [],
   "source": [
    "# 编写函数同时获得多只股票的数据\n",
    "def multiple_stocks(tickers):\n",
    "    def data(ticker):\n",
    "        stocks = ts.get_k_data(ticker,start = '2016-01-01', end = '2017-07-01')    #定义了stocks这个daraFrame；\n",
    "        stocks.set_index('date',inplace = True)\n",
    "        stocks.index = pd.to_datetime(stocks.index)      #要把日期时间parse成python支持的datetime格式，不然很多python层面的操作无法完成；\n",
    "        return  stocks             #返回的是进行完处理的stcoks这个DataFrame；\n",
    "        \n",
    "    datas = map(data, tickers)#    map（函数，序列）  映射  将tickers一个个拿出来用data函数调用\n",
    "    \n",
    "    return pd.concat(datas, keys=tickers, names=['Ticker', 'Date'])    #multiple_stocks函数返回的是拼接后的大DataFrame"
   ]
  },
  {
   "cell_type": "code",
   "execution_count": 10,
   "metadata": {},
   "outputs": [
    {
     "data": {
      "text/html": [
       "<div>\n",
       "<style scoped>\n",
       "    .dataframe tbody tr th:only-of-type {\n",
       "        vertical-align: middle;\n",
       "    }\n",
       "\n",
       "    .dataframe tbody tr th {\n",
       "        vertical-align: top;\n",
       "    }\n",
       "\n",
       "    .dataframe thead th {\n",
       "        text-align: right;\n",
       "    }\n",
       "</style>\n",
       "<table border=\"1\" class=\"dataframe\">\n",
       "  <thead>\n",
       "    <tr style=\"text-align: right;\">\n",
       "      <th></th>\n",
       "      <th></th>\n",
       "      <th>open</th>\n",
       "      <th>close</th>\n",
       "      <th>high</th>\n",
       "      <th>low</th>\n",
       "      <th>volume</th>\n",
       "      <th>code</th>\n",
       "    </tr>\n",
       "    <tr>\n",
       "      <th>Ticker</th>\n",
       "      <th>Date</th>\n",
       "      <th></th>\n",
       "      <th></th>\n",
       "      <th></th>\n",
       "      <th></th>\n",
       "      <th></th>\n",
       "      <th></th>\n",
       "    </tr>\n",
       "  </thead>\n",
       "  <tbody>\n",
       "    <tr>\n",
       "      <th rowspan=\"5\" valign=\"top\">600030</th>\n",
       "      <th>2016-01-04</th>\n",
       "      <td>17.905</td>\n",
       "      <td>16.225</td>\n",
       "      <td>17.905</td>\n",
       "      <td>16.169</td>\n",
       "      <td>1960583.0</td>\n",
       "      <td>600030</td>\n",
       "    </tr>\n",
       "    <tr>\n",
       "      <th>2016-01-05</th>\n",
       "      <td>15.593</td>\n",
       "      <td>16.382</td>\n",
       "      <td>16.689</td>\n",
       "      <td>15.436</td>\n",
       "      <td>2333291.0</td>\n",
       "      <td>600030</td>\n",
       "    </tr>\n",
       "    <tr>\n",
       "      <th>2016-01-06</th>\n",
       "      <td>16.290</td>\n",
       "      <td>16.642</td>\n",
       "      <td>16.846</td>\n",
       "      <td>15.965</td>\n",
       "      <td>1972783.0</td>\n",
       "      <td>600030</td>\n",
       "    </tr>\n",
       "    <tr>\n",
       "      <th>2016-01-07</th>\n",
       "      <td>16.225</td>\n",
       "      <td>15.166</td>\n",
       "      <td>16.336</td>\n",
       "      <td>15.036</td>\n",
       "      <td>679037.0</td>\n",
       "      <td>600030</td>\n",
       "    </tr>\n",
       "    <tr>\n",
       "      <th>2016-01-08</th>\n",
       "      <td>15.631</td>\n",
       "      <td>15.621</td>\n",
       "      <td>16.187</td>\n",
       "      <td>14.851</td>\n",
       "      <td>2979253.0</td>\n",
       "      <td>600030</td>\n",
       "    </tr>\n",
       "  </tbody>\n",
       "</table>\n",
       "</div>"
      ],
      "text/plain": [
       "                     open   close    high     low     volume    code\n",
       "Ticker Date                                                         \n",
       "600030 2016-01-04  17.905  16.225  17.905  16.169  1960583.0  600030\n",
       "       2016-01-05  15.593  16.382  16.689  15.436  2333291.0  600030\n",
       "       2016-01-06  16.290  16.642  16.846  15.965  1972783.0  600030\n",
       "       2016-01-07  16.225  15.166  16.336  15.036   679037.0  600030\n",
       "       2016-01-08  15.631  15.621  16.187  14.851  2979253.0  600030"
      ]
     },
     "execution_count": 10,
     "metadata": {},
     "output_type": "execute_result"
    }
   ],
   "source": [
    "# 获得以下三只股票数据\n",
    "tickers = ['600030', '000001','600426']\n",
    "all_stocks = multiple_stocks(tickers)\n",
    "all_stocks.head()"
   ]
  },
  {
   "cell_type": "markdown",
   "metadata": {},
   "source": [
    "#### 1.3 Muliple_stocks函数的背后思想 "
   ]
  },
  {
   "cell_type": "code",
   "execution_count": 11,
   "metadata": {},
   "outputs": [
    {
     "data": {
      "text/html": [
       "<div>\n",
       "<style scoped>\n",
       "    .dataframe tbody tr th:only-of-type {\n",
       "        vertical-align: middle;\n",
       "    }\n",
       "\n",
       "    .dataframe tbody tr th {\n",
       "        vertical-align: top;\n",
       "    }\n",
       "\n",
       "    .dataframe thead th {\n",
       "        text-align: right;\n",
       "    }\n",
       "</style>\n",
       "<table border=\"1\" class=\"dataframe\">\n",
       "  <thead>\n",
       "    <tr style=\"text-align: right;\">\n",
       "      <th></th>\n",
       "      <th>open</th>\n",
       "      <th>close</th>\n",
       "      <th>high</th>\n",
       "      <th>low</th>\n",
       "      <th>volume</th>\n",
       "      <th>code</th>\n",
       "    </tr>\n",
       "    <tr>\n",
       "      <th>date</th>\n",
       "      <th></th>\n",
       "      <th></th>\n",
       "      <th></th>\n",
       "      <th></th>\n",
       "      <th></th>\n",
       "      <th></th>\n",
       "    </tr>\n",
       "  </thead>\n",
       "  <tbody>\n",
       "    <tr>\n",
       "      <th>2017-01-03</th>\n",
       "      <td>15.365</td>\n",
       "      <td>15.470</td>\n",
       "      <td>15.508</td>\n",
       "      <td>15.326</td>\n",
       "      <td>623069.0</td>\n",
       "      <td>600030</td>\n",
       "    </tr>\n",
       "    <tr>\n",
       "      <th>2017-01-04</th>\n",
       "      <td>15.460</td>\n",
       "      <td>15.498</td>\n",
       "      <td>15.546</td>\n",
       "      <td>15.412</td>\n",
       "      <td>516717.0</td>\n",
       "      <td>600030</td>\n",
       "    </tr>\n",
       "    <tr>\n",
       "      <th>2017-01-05</th>\n",
       "      <td>15.517</td>\n",
       "      <td>15.431</td>\n",
       "      <td>15.537</td>\n",
       "      <td>15.403</td>\n",
       "      <td>478622.0</td>\n",
       "      <td>600030</td>\n",
       "    </tr>\n",
       "    <tr>\n",
       "      <th>2017-01-06</th>\n",
       "      <td>15.451</td>\n",
       "      <td>15.298</td>\n",
       "      <td>15.451</td>\n",
       "      <td>15.279</td>\n",
       "      <td>516640.0</td>\n",
       "      <td>600030</td>\n",
       "    </tr>\n",
       "    <tr>\n",
       "      <th>2017-01-09</th>\n",
       "      <td>15.298</td>\n",
       "      <td>15.355</td>\n",
       "      <td>15.403</td>\n",
       "      <td>15.259</td>\n",
       "      <td>398407.0</td>\n",
       "      <td>600030</td>\n",
       "    </tr>\n",
       "  </tbody>\n",
       "</table>\n",
       "</div>"
      ],
      "text/plain": [
       "              open   close    high     low    volume    code\n",
       "date                                                        \n",
       "2017-01-03  15.365  15.470  15.508  15.326  623069.0  600030\n",
       "2017-01-04  15.460  15.498  15.546  15.412  516717.0  600030\n",
       "2017-01-05  15.517  15.431  15.537  15.403  478622.0  600030\n",
       "2017-01-06  15.451  15.298  15.451  15.279  516640.0  600030\n",
       "2017-01-09  15.298  15.355  15.403  15.259  398407.0  600030"
      ]
     },
     "execution_count": 11,
     "metadata": {},
     "output_type": "execute_result"
    }
   ],
   "source": [
    "stocks = ['600030', '002397', '000001']\n",
    "\n",
    "stock_data0 = ts.get_k_data(stocks[0], start='2017-01-01', end='2017-01-15')\n",
    "stock_data0.index = pd.to_datetime(stock_data0['date'])\n",
    "del stock_data0['date']\n",
    "stock_data0.head()"
   ]
  },
  {
   "cell_type": "code",
   "execution_count": 12,
   "metadata": {},
   "outputs": [
    {
     "data": {
      "text/html": [
       "<div>\n",
       "<style scoped>\n",
       "    .dataframe tbody tr th:only-of-type {\n",
       "        vertical-align: middle;\n",
       "    }\n",
       "\n",
       "    .dataframe tbody tr th {\n",
       "        vertical-align: top;\n",
       "    }\n",
       "\n",
       "    .dataframe thead th {\n",
       "        text-align: right;\n",
       "    }\n",
       "</style>\n",
       "<table border=\"1\" class=\"dataframe\">\n",
       "  <thead>\n",
       "    <tr style=\"text-align: right;\">\n",
       "      <th></th>\n",
       "      <th>open</th>\n",
       "      <th>close</th>\n",
       "      <th>high</th>\n",
       "      <th>low</th>\n",
       "      <th>volume</th>\n",
       "      <th>code</th>\n",
       "    </tr>\n",
       "    <tr>\n",
       "      <th>date</th>\n",
       "      <th></th>\n",
       "      <th></th>\n",
       "      <th></th>\n",
       "      <th></th>\n",
       "      <th></th>\n",
       "      <th></th>\n",
       "    </tr>\n",
       "  </thead>\n",
       "  <tbody>\n",
       "    <tr>\n",
       "      <th>2017-01-03</th>\n",
       "      <td>7.917</td>\n",
       "      <td>7.995</td>\n",
       "      <td>8.024</td>\n",
       "      <td>7.917</td>\n",
       "      <td>24060.0</td>\n",
       "      <td>002397</td>\n",
       "    </tr>\n",
       "    <tr>\n",
       "      <th>2017-01-04</th>\n",
       "      <td>8.014</td>\n",
       "      <td>8.102</td>\n",
       "      <td>8.102</td>\n",
       "      <td>7.975</td>\n",
       "      <td>21333.0</td>\n",
       "      <td>002397</td>\n",
       "    </tr>\n",
       "    <tr>\n",
       "      <th>2017-01-05</th>\n",
       "      <td>8.102</td>\n",
       "      <td>8.578</td>\n",
       "      <td>8.744</td>\n",
       "      <td>8.034</td>\n",
       "      <td>157711.0</td>\n",
       "      <td>002397</td>\n",
       "    </tr>\n",
       "    <tr>\n",
       "      <th>2017-01-06</th>\n",
       "      <td>8.423</td>\n",
       "      <td>8.238</td>\n",
       "      <td>8.530</td>\n",
       "      <td>8.228</td>\n",
       "      <td>80911.0</td>\n",
       "      <td>002397</td>\n",
       "    </tr>\n",
       "    <tr>\n",
       "      <th>2017-01-09</th>\n",
       "      <td>8.160</td>\n",
       "      <td>8.238</td>\n",
       "      <td>8.277</td>\n",
       "      <td>8.160</td>\n",
       "      <td>44401.0</td>\n",
       "      <td>002397</td>\n",
       "    </tr>\n",
       "  </tbody>\n",
       "</table>\n",
       "</div>"
      ],
      "text/plain": [
       "             open  close   high    low    volume    code\n",
       "date                                                    \n",
       "2017-01-03  7.917  7.995  8.024  7.917   24060.0  002397\n",
       "2017-01-04  8.014  8.102  8.102  7.975   21333.0  002397\n",
       "2017-01-05  8.102  8.578  8.744  8.034  157711.0  002397\n",
       "2017-01-06  8.423  8.238  8.530  8.228   80911.0  002397\n",
       "2017-01-09  8.160  8.238  8.277  8.160   44401.0  002397"
      ]
     },
     "execution_count": 12,
     "metadata": {},
     "output_type": "execute_result"
    }
   ],
   "source": [
    "stock_data1 = ts.get_k_data(stocks[1], start='2017-01-01', end='2017-01-15')\n",
    "stock_data1.index = pd.to_datetime(stock_data1['date'])\n",
    "del stock_data1['date']\n",
    "stock_data1.head()"
   ]
  },
  {
   "cell_type": "code",
   "execution_count": 13,
   "metadata": {},
   "outputs": [
    {
     "data": {
      "text/html": [
       "<div>\n",
       "<style scoped>\n",
       "    .dataframe tbody tr th:only-of-type {\n",
       "        vertical-align: middle;\n",
       "    }\n",
       "\n",
       "    .dataframe tbody tr th {\n",
       "        vertical-align: top;\n",
       "    }\n",
       "\n",
       "    .dataframe thead th {\n",
       "        text-align: right;\n",
       "    }\n",
       "</style>\n",
       "<table border=\"1\" class=\"dataframe\">\n",
       "  <thead>\n",
       "    <tr style=\"text-align: right;\">\n",
       "      <th></th>\n",
       "      <th>open</th>\n",
       "      <th>close</th>\n",
       "      <th>high</th>\n",
       "      <th>low</th>\n",
       "      <th>volume</th>\n",
       "      <th>code</th>\n",
       "    </tr>\n",
       "    <tr>\n",
       "      <th>date</th>\n",
       "      <th></th>\n",
       "      <th></th>\n",
       "      <th></th>\n",
       "      <th></th>\n",
       "      <th></th>\n",
       "      <th></th>\n",
       "    </tr>\n",
       "  </thead>\n",
       "  <tbody>\n",
       "    <tr>\n",
       "      <th>2017-01-03</th>\n",
       "      <td>8.834</td>\n",
       "      <td>8.883</td>\n",
       "      <td>8.902</td>\n",
       "      <td>8.815</td>\n",
       "      <td>459840.0</td>\n",
       "      <td>000001</td>\n",
       "    </tr>\n",
       "    <tr>\n",
       "      <th>2017-01-04</th>\n",
       "      <td>8.873</td>\n",
       "      <td>8.883</td>\n",
       "      <td>8.902</td>\n",
       "      <td>8.863</td>\n",
       "      <td>449329.0</td>\n",
       "      <td>000001</td>\n",
       "    </tr>\n",
       "    <tr>\n",
       "      <th>2017-01-05</th>\n",
       "      <td>8.892</td>\n",
       "      <td>8.892</td>\n",
       "      <td>8.902</td>\n",
       "      <td>8.873</td>\n",
       "      <td>344372.0</td>\n",
       "      <td>000001</td>\n",
       "    </tr>\n",
       "    <tr>\n",
       "      <th>2017-01-06</th>\n",
       "      <td>8.892</td>\n",
       "      <td>8.854</td>\n",
       "      <td>8.892</td>\n",
       "      <td>8.834</td>\n",
       "      <td>358154.0</td>\n",
       "      <td>000001</td>\n",
       "    </tr>\n",
       "    <tr>\n",
       "      <th>2017-01-09</th>\n",
       "      <td>8.854</td>\n",
       "      <td>8.873</td>\n",
       "      <td>8.892</td>\n",
       "      <td>8.834</td>\n",
       "      <td>361081.0</td>\n",
       "      <td>000001</td>\n",
       "    </tr>\n",
       "  </tbody>\n",
       "</table>\n",
       "</div>"
      ],
      "text/plain": [
       "             open  close   high    low    volume    code\n",
       "date                                                    \n",
       "2017-01-03  8.834  8.883  8.902  8.815  459840.0  000001\n",
       "2017-01-04  8.873  8.883  8.902  8.863  449329.0  000001\n",
       "2017-01-05  8.892  8.892  8.902  8.873  344372.0  000001\n",
       "2017-01-06  8.892  8.854  8.892  8.834  358154.0  000001\n",
       "2017-01-09  8.854  8.873  8.892  8.834  361081.0  000001"
      ]
     },
     "execution_count": 13,
     "metadata": {},
     "output_type": "execute_result"
    }
   ],
   "source": [
    "stock_data2 = ts.get_k_data(stocks[2], start='2017-01-01', end='2017-01-15')\n",
    "stock_data2.index = pd.to_datetime(stock_data2['date'])\n",
    "del stock_data2['date']\n",
    "stock_data2.head()"
   ]
  },
  {
   "cell_type": "code",
   "execution_count": 14,
   "metadata": {},
   "outputs": [
    {
     "data": {
      "text/html": [
       "<div>\n",
       "<style scoped>\n",
       "    .dataframe tbody tr th:only-of-type {\n",
       "        vertical-align: middle;\n",
       "    }\n",
       "\n",
       "    .dataframe tbody tr th {\n",
       "        vertical-align: top;\n",
       "    }\n",
       "\n",
       "    .dataframe thead th {\n",
       "        text-align: right;\n",
       "    }\n",
       "</style>\n",
       "<table border=\"1\" class=\"dataframe\">\n",
       "  <thead>\n",
       "    <tr style=\"text-align: right;\">\n",
       "      <th></th>\n",
       "      <th></th>\n",
       "      <th>open</th>\n",
       "      <th>close</th>\n",
       "      <th>high</th>\n",
       "      <th>low</th>\n",
       "      <th>volume</th>\n",
       "      <th>code</th>\n",
       "    </tr>\n",
       "    <tr>\n",
       "      <th>code</th>\n",
       "      <th>date</th>\n",
       "      <th></th>\n",
       "      <th></th>\n",
       "      <th></th>\n",
       "      <th></th>\n",
       "      <th></th>\n",
       "      <th></th>\n",
       "    </tr>\n",
       "  </thead>\n",
       "  <tbody>\n",
       "    <tr>\n",
       "      <th rowspan=\"9\" valign=\"top\">600030</th>\n",
       "      <th>2017-01-03</th>\n",
       "      <td>15.365</td>\n",
       "      <td>15.470</td>\n",
       "      <td>15.508</td>\n",
       "      <td>15.326</td>\n",
       "      <td>623069.0</td>\n",
       "      <td>600030</td>\n",
       "    </tr>\n",
       "    <tr>\n",
       "      <th>2017-01-04</th>\n",
       "      <td>15.460</td>\n",
       "      <td>15.498</td>\n",
       "      <td>15.546</td>\n",
       "      <td>15.412</td>\n",
       "      <td>516717.0</td>\n",
       "      <td>600030</td>\n",
       "    </tr>\n",
       "    <tr>\n",
       "      <th>2017-01-05</th>\n",
       "      <td>15.517</td>\n",
       "      <td>15.431</td>\n",
       "      <td>15.537</td>\n",
       "      <td>15.403</td>\n",
       "      <td>478622.0</td>\n",
       "      <td>600030</td>\n",
       "    </tr>\n",
       "    <tr>\n",
       "      <th>2017-01-06</th>\n",
       "      <td>15.451</td>\n",
       "      <td>15.298</td>\n",
       "      <td>15.451</td>\n",
       "      <td>15.279</td>\n",
       "      <td>516640.0</td>\n",
       "      <td>600030</td>\n",
       "    </tr>\n",
       "    <tr>\n",
       "      <th>2017-01-09</th>\n",
       "      <td>15.298</td>\n",
       "      <td>15.355</td>\n",
       "      <td>15.403</td>\n",
       "      <td>15.259</td>\n",
       "      <td>398407.0</td>\n",
       "      <td>600030</td>\n",
       "    </tr>\n",
       "    <tr>\n",
       "      <th>2017-01-10</th>\n",
       "      <td>15.317</td>\n",
       "      <td>15.393</td>\n",
       "      <td>15.489</td>\n",
       "      <td>15.307</td>\n",
       "      <td>454018.0</td>\n",
       "      <td>600030</td>\n",
       "    </tr>\n",
       "    <tr>\n",
       "      <th>2017-01-11</th>\n",
       "      <td>15.422</td>\n",
       "      <td>15.384</td>\n",
       "      <td>15.517</td>\n",
       "      <td>15.384</td>\n",
       "      <td>398776.0</td>\n",
       "      <td>600030</td>\n",
       "    </tr>\n",
       "    <tr>\n",
       "      <th>2017-01-12</th>\n",
       "      <td>15.393</td>\n",
       "      <td>15.431</td>\n",
       "      <td>15.556</td>\n",
       "      <td>15.374</td>\n",
       "      <td>559594.0</td>\n",
       "      <td>600030</td>\n",
       "    </tr>\n",
       "    <tr>\n",
       "      <th>2017-01-13</th>\n",
       "      <td>15.422</td>\n",
       "      <td>15.489</td>\n",
       "      <td>15.623</td>\n",
       "      <td>15.307</td>\n",
       "      <td>825208.0</td>\n",
       "      <td>600030</td>\n",
       "    </tr>\n",
       "    <tr>\n",
       "      <th rowspan=\"9\" valign=\"top\">002397</th>\n",
       "      <th>2017-01-03</th>\n",
       "      <td>7.917</td>\n",
       "      <td>7.995</td>\n",
       "      <td>8.024</td>\n",
       "      <td>7.917</td>\n",
       "      <td>24060.0</td>\n",
       "      <td>002397</td>\n",
       "    </tr>\n",
       "    <tr>\n",
       "      <th>2017-01-04</th>\n",
       "      <td>8.014</td>\n",
       "      <td>8.102</td>\n",
       "      <td>8.102</td>\n",
       "      <td>7.975</td>\n",
       "      <td>21333.0</td>\n",
       "      <td>002397</td>\n",
       "    </tr>\n",
       "    <tr>\n",
       "      <th>2017-01-05</th>\n",
       "      <td>8.102</td>\n",
       "      <td>8.578</td>\n",
       "      <td>8.744</td>\n",
       "      <td>8.034</td>\n",
       "      <td>157711.0</td>\n",
       "      <td>002397</td>\n",
       "    </tr>\n",
       "    <tr>\n",
       "      <th>2017-01-06</th>\n",
       "      <td>8.423</td>\n",
       "      <td>8.238</td>\n",
       "      <td>8.530</td>\n",
       "      <td>8.228</td>\n",
       "      <td>80911.0</td>\n",
       "      <td>002397</td>\n",
       "    </tr>\n",
       "    <tr>\n",
       "      <th>2017-01-09</th>\n",
       "      <td>8.160</td>\n",
       "      <td>8.238</td>\n",
       "      <td>8.277</td>\n",
       "      <td>8.160</td>\n",
       "      <td>44401.0</td>\n",
       "      <td>002397</td>\n",
       "    </tr>\n",
       "    <tr>\n",
       "      <th>2017-01-10</th>\n",
       "      <td>8.238</td>\n",
       "      <td>8.180</td>\n",
       "      <td>8.296</td>\n",
       "      <td>8.170</td>\n",
       "      <td>29406.0</td>\n",
       "      <td>002397</td>\n",
       "    </tr>\n",
       "    <tr>\n",
       "      <th>2017-01-11</th>\n",
       "      <td>8.180</td>\n",
       "      <td>8.092</td>\n",
       "      <td>8.180</td>\n",
       "      <td>8.073</td>\n",
       "      <td>26046.0</td>\n",
       "      <td>002397</td>\n",
       "    </tr>\n",
       "    <tr>\n",
       "      <th>2017-01-12</th>\n",
       "      <td>8.121</td>\n",
       "      <td>7.946</td>\n",
       "      <td>8.131</td>\n",
       "      <td>7.936</td>\n",
       "      <td>29279.0</td>\n",
       "      <td>002397</td>\n",
       "    </tr>\n",
       "    <tr>\n",
       "      <th>2017-01-13</th>\n",
       "      <td>7.946</td>\n",
       "      <td>7.907</td>\n",
       "      <td>7.995</td>\n",
       "      <td>7.888</td>\n",
       "      <td>18457.0</td>\n",
       "      <td>002397</td>\n",
       "    </tr>\n",
       "    <tr>\n",
       "      <th rowspan=\"9\" valign=\"top\">000001</th>\n",
       "      <th>2017-01-03</th>\n",
       "      <td>8.834</td>\n",
       "      <td>8.883</td>\n",
       "      <td>8.902</td>\n",
       "      <td>8.815</td>\n",
       "      <td>459840.0</td>\n",
       "      <td>000001</td>\n",
       "    </tr>\n",
       "    <tr>\n",
       "      <th>2017-01-04</th>\n",
       "      <td>8.873</td>\n",
       "      <td>8.883</td>\n",
       "      <td>8.902</td>\n",
       "      <td>8.863</td>\n",
       "      <td>449329.0</td>\n",
       "      <td>000001</td>\n",
       "    </tr>\n",
       "    <tr>\n",
       "      <th>2017-01-05</th>\n",
       "      <td>8.892</td>\n",
       "      <td>8.892</td>\n",
       "      <td>8.902</td>\n",
       "      <td>8.873</td>\n",
       "      <td>344372.0</td>\n",
       "      <td>000001</td>\n",
       "    </tr>\n",
       "    <tr>\n",
       "      <th>2017-01-06</th>\n",
       "      <td>8.892</td>\n",
       "      <td>8.854</td>\n",
       "      <td>8.892</td>\n",
       "      <td>8.834</td>\n",
       "      <td>358154.0</td>\n",
       "      <td>000001</td>\n",
       "    </tr>\n",
       "    <tr>\n",
       "      <th>2017-01-09</th>\n",
       "      <td>8.854</td>\n",
       "      <td>8.873</td>\n",
       "      <td>8.892</td>\n",
       "      <td>8.834</td>\n",
       "      <td>361081.0</td>\n",
       "      <td>000001</td>\n",
       "    </tr>\n",
       "    <tr>\n",
       "      <th>2017-01-10</th>\n",
       "      <td>8.873</td>\n",
       "      <td>8.873</td>\n",
       "      <td>8.883</td>\n",
       "      <td>8.863</td>\n",
       "      <td>241053.0</td>\n",
       "      <td>000001</td>\n",
       "    </tr>\n",
       "    <tr>\n",
       "      <th>2017-01-11</th>\n",
       "      <td>8.863</td>\n",
       "      <td>8.863</td>\n",
       "      <td>8.892</td>\n",
       "      <td>8.854</td>\n",
       "      <td>303430.0</td>\n",
       "      <td>000001</td>\n",
       "    </tr>\n",
       "    <tr>\n",
       "      <th>2017-01-12</th>\n",
       "      <td>8.854</td>\n",
       "      <td>8.873</td>\n",
       "      <td>8.892</td>\n",
       "      <td>8.854</td>\n",
       "      <td>428006.0</td>\n",
       "      <td>000001</td>\n",
       "    </tr>\n",
       "    <tr>\n",
       "      <th>2017-01-13</th>\n",
       "      <td>8.863</td>\n",
       "      <td>8.883</td>\n",
       "      <td>8.912</td>\n",
       "      <td>8.844</td>\n",
       "      <td>434301.0</td>\n",
       "      <td>000001</td>\n",
       "    </tr>\n",
       "  </tbody>\n",
       "</table>\n",
       "</div>"
      ],
      "text/plain": [
       "                     open   close    high     low    volume    code\n",
       "code   date                                                        \n",
       "600030 2017-01-03  15.365  15.470  15.508  15.326  623069.0  600030\n",
       "       2017-01-04  15.460  15.498  15.546  15.412  516717.0  600030\n",
       "       2017-01-05  15.517  15.431  15.537  15.403  478622.0  600030\n",
       "       2017-01-06  15.451  15.298  15.451  15.279  516640.0  600030\n",
       "       2017-01-09  15.298  15.355  15.403  15.259  398407.0  600030\n",
       "       2017-01-10  15.317  15.393  15.489  15.307  454018.0  600030\n",
       "       2017-01-11  15.422  15.384  15.517  15.384  398776.0  600030\n",
       "       2017-01-12  15.393  15.431  15.556  15.374  559594.0  600030\n",
       "       2017-01-13  15.422  15.489  15.623  15.307  825208.0  600030\n",
       "002397 2017-01-03   7.917   7.995   8.024   7.917   24060.0  002397\n",
       "       2017-01-04   8.014   8.102   8.102   7.975   21333.0  002397\n",
       "       2017-01-05   8.102   8.578   8.744   8.034  157711.0  002397\n",
       "       2017-01-06   8.423   8.238   8.530   8.228   80911.0  002397\n",
       "       2017-01-09   8.160   8.238   8.277   8.160   44401.0  002397\n",
       "       2017-01-10   8.238   8.180   8.296   8.170   29406.0  002397\n",
       "       2017-01-11   8.180   8.092   8.180   8.073   26046.0  002397\n",
       "       2017-01-12   8.121   7.946   8.131   7.936   29279.0  002397\n",
       "       2017-01-13   7.946   7.907   7.995   7.888   18457.0  002397\n",
       "000001 2017-01-03   8.834   8.883   8.902   8.815  459840.0  000001\n",
       "       2017-01-04   8.873   8.883   8.902   8.863  449329.0  000001\n",
       "       2017-01-05   8.892   8.892   8.902   8.873  344372.0  000001\n",
       "       2017-01-06   8.892   8.854   8.892   8.834  358154.0  000001\n",
       "       2017-01-09   8.854   8.873   8.892   8.834  361081.0  000001\n",
       "       2017-01-10   8.873   8.873   8.883   8.863  241053.0  000001\n",
       "       2017-01-11   8.863   8.863   8.892   8.854  303430.0  000001\n",
       "       2017-01-12   8.854   8.873   8.892   8.854  428006.0  000001\n",
       "       2017-01-13   8.863   8.883   8.912   8.844  434301.0  000001"
      ]
     },
     "execution_count": 14,
     "metadata": {},
     "output_type": "execute_result"
    }
   ],
   "source": [
    "pd.concat([stock_data0, stock_data1, stock_data2], keys=stocks, names=['code', 'date'])"
   ]
  },
  {
   "cell_type": "markdown",
   "metadata": {},
   "source": [
    "### 2. 金融数据可视化"
   ]
  },
  {
   "cell_type": "code",
   "execution_count": 15,
   "metadata": {},
   "outputs": [
    {
     "data": {
      "text/html": [
       "<div>\n",
       "<style scoped>\n",
       "    .dataframe tbody tr th:only-of-type {\n",
       "        vertical-align: middle;\n",
       "    }\n",
       "\n",
       "    .dataframe tbody tr th {\n",
       "        vertical-align: top;\n",
       "    }\n",
       "\n",
       "    .dataframe thead th {\n",
       "        text-align: right;\n",
       "    }\n",
       "</style>\n",
       "<table border=\"1\" class=\"dataframe\">\n",
       "  <thead>\n",
       "    <tr style=\"text-align: right;\">\n",
       "      <th></th>\n",
       "      <th>Ticker</th>\n",
       "      <th>Date</th>\n",
       "      <th>close</th>\n",
       "    </tr>\n",
       "  </thead>\n",
       "  <tbody>\n",
       "    <tr>\n",
       "      <th>0</th>\n",
       "      <td>600030</td>\n",
       "      <td>2016-01-04</td>\n",
       "      <td>16.225</td>\n",
       "    </tr>\n",
       "    <tr>\n",
       "      <th>1</th>\n",
       "      <td>600030</td>\n",
       "      <td>2016-01-05</td>\n",
       "      <td>16.382</td>\n",
       "    </tr>\n",
       "    <tr>\n",
       "      <th>2</th>\n",
       "      <td>600030</td>\n",
       "      <td>2016-01-06</td>\n",
       "      <td>16.642</td>\n",
       "    </tr>\n",
       "    <tr>\n",
       "      <th>3</th>\n",
       "      <td>600030</td>\n",
       "      <td>2016-01-07</td>\n",
       "      <td>15.166</td>\n",
       "    </tr>\n",
       "    <tr>\n",
       "      <th>4</th>\n",
       "      <td>600030</td>\n",
       "      <td>2016-01-08</td>\n",
       "      <td>15.621</td>\n",
       "    </tr>\n",
       "  </tbody>\n",
       "</table>\n",
       "</div>"
      ],
      "text/plain": [
       "   Ticker       Date   close\n",
       "0  600030 2016-01-04  16.225\n",
       "1  600030 2016-01-05  16.382\n",
       "2  600030 2016-01-06  16.642\n",
       "3  600030 2016-01-07  15.166\n",
       "4  600030 2016-01-08  15.621"
      ]
     },
     "execution_count": 15,
     "metadata": {},
     "output_type": "execute_result"
    }
   ],
   "source": [
    "close_price = all_stocks[['close']].reset_index()      #重置索引，让索引重新回到默认的0开始；\n",
    "close_price.head()"
   ]
  },
  {
   "cell_type": "code",
   "execution_count": 16,
   "metadata": {},
   "outputs": [
    {
     "data": {
      "text/html": [
       "<div>\n",
       "<style scoped>\n",
       "    .dataframe tbody tr th:only-of-type {\n",
       "        vertical-align: middle;\n",
       "    }\n",
       "\n",
       "    .dataframe tbody tr th {\n",
       "        vertical-align: top;\n",
       "    }\n",
       "\n",
       "    .dataframe thead th {\n",
       "        text-align: right;\n",
       "    }\n",
       "</style>\n",
       "<table border=\"1\" class=\"dataframe\">\n",
       "  <thead>\n",
       "    <tr style=\"text-align: right;\">\n",
       "      <th>Ticker</th>\n",
       "      <th>000001</th>\n",
       "      <th>600030</th>\n",
       "      <th>600426</th>\n",
       "    </tr>\n",
       "    <tr>\n",
       "      <th>Date</th>\n",
       "      <th></th>\n",
       "      <th></th>\n",
       "      <th></th>\n",
       "    </tr>\n",
       "  </thead>\n",
       "  <tbody>\n",
       "    <tr>\n",
       "      <th>2016-01-04</th>\n",
       "      <td>8.995</td>\n",
       "      <td>16.225</td>\n",
       "      <td>7.518</td>\n",
       "    </tr>\n",
       "    <tr>\n",
       "      <th>2016-01-05</th>\n",
       "      <td>9.075</td>\n",
       "      <td>16.382</td>\n",
       "      <td>7.552</td>\n",
       "    </tr>\n",
       "    <tr>\n",
       "      <th>2016-01-06</th>\n",
       "      <td>9.179</td>\n",
       "      <td>16.642</td>\n",
       "      <td>7.801</td>\n",
       "    </tr>\n",
       "    <tr>\n",
       "      <th>2016-01-07</th>\n",
       "      <td>8.709</td>\n",
       "      <td>15.166</td>\n",
       "      <td>7.049</td>\n",
       "    </tr>\n",
       "    <tr>\n",
       "      <th>2016-01-08</th>\n",
       "      <td>8.852</td>\n",
       "      <td>15.621</td>\n",
       "      <td>7.252</td>\n",
       "    </tr>\n",
       "  </tbody>\n",
       "</table>\n",
       "</div>"
      ],
      "text/plain": [
       "Ticker      000001  600030  600426\n",
       "Date                              \n",
       "2016-01-04   8.995  16.225   7.518\n",
       "2016-01-05   9.075  16.382   7.552\n",
       "2016-01-06   9.179  16.642   7.801\n",
       "2016-01-07   8.709  15.166   7.049\n",
       "2016-01-08   8.852  15.621   7.252"
      ]
     },
     "execution_count": 16,
     "metadata": {},
     "output_type": "execute_result"
    }
   ],
   "source": [
    "# 把所有的股价信息显示在一张表格里； 数据透视表 pivot；\n",
    "daily_close = close_price.pivot(index = 'Date', \n",
    "                                columns = 'Ticker', \n",
    "                                values= 'close')\n",
    "daily_close.head()"
   ]
  },
  {
   "cell_type": "code",
   "execution_count": 17,
   "metadata": {},
   "outputs": [
    {
     "data": {
      "text/plain": [
       "<matplotlib.axes._subplots.AxesSubplot at 0x21a7fe535c0>"
      ]
     },
     "execution_count": 17,
     "metadata": {},
     "output_type": "execute_result"
    },
    {
     "data": {
      "image/png": "[encoded data removed]",
      "text/plain": [
       "<Figure size 576x432 with 1 Axes>"
      ]
     },
     "metadata": {
      "needs_background": "light"
     },
     "output_type": "display_data"
    }
   ],
   "source": [
    "# plot 中信证券\n",
    "daily_close['600030'].plot(figsize=(8,6))"
   ]
  },
  {
   "cell_type": "code",
   "execution_count": 18,
   "metadata": {},
   "outputs": [
    {
     "data": {
      "text/plain": [
       "array([<matplotlib.axes._subplots.AxesSubplot object at 0x0000021A7FF9A0F0>,\n",
       "       <matplotlib.axes._subplots.AxesSubplot object at 0x0000021A7FFCC4A8>,\n",
       "       <matplotlib.axes._subplots.AxesSubplot object at 0x0000021A0EFF2518>],\n",
       "      dtype=object)"
      ]
     },
     "execution_count": 18,
     "metadata": {},
     "output_type": "execute_result"
    },
    {
     "data": {
      "image/png": "[encoded data removed]",
      "text/plain": [
       "<Figure size 720x576 with 3 Axes>"
      ]
     },
     "metadata": {
      "needs_background": "light"
     },
     "output_type": "display_data"
    }
   ],
   "source": [
    "# plot 三只股票的股价信息\n",
    "# daily_close.plot()\n",
    "daily_close.plot(subplots= True, figsize=(10, 8))"
   ]
  },
  {
   "cell_type": "markdown",
   "metadata": {},
   "source": [
    "### 3. 金融计算"
   ]
  },
  {
   "cell_type": "markdown",
   "metadata": {},
   "source": [
    "#### 3.1 计算每日收益"
   ]
  },
  {
   "cell_type": "code",
   "execution_count": 19,
   "metadata": {},
   "outputs": [
    {
     "data": {
      "text/html": [
       "<div>\n",
       "<style scoped>\n",
       "    .dataframe tbody tr th:only-of-type {\n",
       "        vertical-align: middle;\n",
       "    }\n",
       "\n",
       "    .dataframe tbody tr th {\n",
       "        vertical-align: top;\n",
       "    }\n",
       "\n",
       "    .dataframe thead th {\n",
       "        text-align: right;\n",
       "    }\n",
       "</style>\n",
       "<table border=\"1\" class=\"dataframe\">\n",
       "  <thead>\n",
       "    <tr style=\"text-align: right;\">\n",
       "      <th>Ticker</th>\n",
       "      <th>000001</th>\n",
       "      <th>600030</th>\n",
       "      <th>600426</th>\n",
       "    </tr>\n",
       "    <tr>\n",
       "      <th>Date</th>\n",
       "      <th></th>\n",
       "      <th></th>\n",
       "      <th></th>\n",
       "    </tr>\n",
       "  </thead>\n",
       "  <tbody>\n",
       "    <tr>\n",
       "      <th>2016-01-04</th>\n",
       "      <td>NaN</td>\n",
       "      <td>NaN</td>\n",
       "      <td>NaN</td>\n",
       "    </tr>\n",
       "    <tr>\n",
       "      <th>2016-01-05</th>\n",
       "      <td>0.008894</td>\n",
       "      <td>0.009676</td>\n",
       "      <td>0.004522</td>\n",
       "    </tr>\n",
       "    <tr>\n",
       "      <th>2016-01-06</th>\n",
       "      <td>0.011460</td>\n",
       "      <td>0.015871</td>\n",
       "      <td>0.032971</td>\n",
       "    </tr>\n",
       "    <tr>\n",
       "      <th>2016-01-07</th>\n",
       "      <td>-0.051204</td>\n",
       "      <td>-0.088691</td>\n",
       "      <td>-0.096398</td>\n",
       "    </tr>\n",
       "    <tr>\n",
       "      <th>2016-01-08</th>\n",
       "      <td>0.016420</td>\n",
       "      <td>0.030001</td>\n",
       "      <td>0.028798</td>\n",
       "    </tr>\n",
       "  </tbody>\n",
       "</table>\n",
       "</div>"
      ],
      "text/plain": [
       "Ticker        000001    600030    600426\n",
       "Date                                    \n",
       "2016-01-04       NaN       NaN       NaN\n",
       "2016-01-05  0.008894  0.009676  0.004522\n",
       "2016-01-06  0.011460  0.015871  0.032971\n",
       "2016-01-07 -0.051204 -0.088691 -0.096398\n",
       "2016-01-08  0.016420  0.030001  0.028798"
      ]
     },
     "execution_count": 19,
     "metadata": {},
     "output_type": "execute_result"
    }
   ],
   "source": [
    "# 用shift方法；\n",
    "price_change = daily_close / daily_close.shift(1) - 1 #今收/昨收-100%\n",
    "daily_close['yes_day'] = daily_close['000001'].shift(1)\n",
    "price_change.ix[:,0:5].head()"
   ]
  },
  {
   "cell_type": "code",
   "execution_count": 20,
   "metadata": {},
   "outputs": [],
   "source": [
    "del daily_close['yes_day'] "
   ]
  },
  {
   "cell_type": "code",
   "execution_count": 21,
   "metadata": {},
   "outputs": [
    {
     "data": {
      "text/html": [
       "<div>\n",
       "<style scoped>\n",
       "    .dataframe tbody tr th:only-of-type {\n",
       "        vertical-align: middle;\n",
       "    }\n",
       "\n",
       "    .dataframe tbody tr th {\n",
       "        vertical-align: top;\n",
       "    }\n",
       "\n",
       "    .dataframe thead th {\n",
       "        text-align: right;\n",
       "    }\n",
       "</style>\n",
       "<table border=\"1\" class=\"dataframe\">\n",
       "  <thead>\n",
       "    <tr style=\"text-align: right;\">\n",
       "      <th>Ticker</th>\n",
       "      <th>000001</th>\n",
       "      <th>600030</th>\n",
       "    </tr>\n",
       "    <tr>\n",
       "      <th>Date</th>\n",
       "      <th></th>\n",
       "      <th></th>\n",
       "    </tr>\n",
       "  </thead>\n",
       "  <tbody>\n",
       "    <tr>\n",
       "      <th>2016-01-04</th>\n",
       "      <td>NaN</td>\n",
       "      <td>NaN</td>\n",
       "    </tr>\n",
       "    <tr>\n",
       "      <th>2016-01-05</th>\n",
       "      <td>0.008894</td>\n",
       "      <td>0.009676</td>\n",
       "    </tr>\n",
       "    <tr>\n",
       "      <th>2016-01-06</th>\n",
       "      <td>0.011460</td>\n",
       "      <td>0.015871</td>\n",
       "    </tr>\n",
       "    <tr>\n",
       "      <th>2016-01-07</th>\n",
       "      <td>-0.051204</td>\n",
       "      <td>-0.088691</td>\n",
       "    </tr>\n",
       "    <tr>\n",
       "      <th>2016-01-08</th>\n",
       "      <td>0.016420</td>\n",
       "      <td>0.030001</td>\n",
       "    </tr>\n",
       "  </tbody>\n",
       "</table>\n",
       "</div>"
      ],
      "text/plain": [
       "Ticker        000001    600030\n",
       "Date                          \n",
       "2016-01-04       NaN       NaN\n",
       "2016-01-05  0.008894  0.009676\n",
       "2016-01-06  0.011460  0.015871\n",
       "2016-01-07 -0.051204 -0.088691\n",
       "2016-01-08  0.016420  0.030001"
      ]
     },
     "execution_count": 21,
     "metadata": {},
     "output_type": "execute_result"
    }
   ],
   "source": [
    "#  用.pct_change() 方法\n",
    "price_change2 = daily_close.pct_change()\n",
    "price_change2.ix[:,0:2].head()"
   ]
  },
  {
   "cell_type": "code",
   "execution_count": 22,
   "metadata": {},
   "outputs": [
    {
     "data": {
      "text/html": [
       "<div>\n",
       "<style scoped>\n",
       "    .dataframe tbody tr th:only-of-type {\n",
       "        vertical-align: middle;\n",
       "    }\n",
       "\n",
       "    .dataframe tbody tr th {\n",
       "        vertical-align: top;\n",
       "    }\n",
       "\n",
       "    .dataframe thead th {\n",
       "        text-align: right;\n",
       "    }\n",
       "</style>\n",
       "<table border=\"1\" class=\"dataframe\">\n",
       "  <thead>\n",
       "    <tr style=\"text-align: right;\">\n",
       "      <th>Ticker</th>\n",
       "      <th>000001</th>\n",
       "      <th>600030</th>\n",
       "      <th>600426</th>\n",
       "    </tr>\n",
       "    <tr>\n",
       "      <th>Date</th>\n",
       "      <th></th>\n",
       "      <th></th>\n",
       "      <th></th>\n",
       "    </tr>\n",
       "  </thead>\n",
       "  <tbody>\n",
       "    <tr>\n",
       "      <th>2016-01-04</th>\n",
       "      <td>0.000000</td>\n",
       "      <td>0.000000</td>\n",
       "      <td>0.000000</td>\n",
       "    </tr>\n",
       "    <tr>\n",
       "      <th>2016-01-05</th>\n",
       "      <td>0.008894</td>\n",
       "      <td>0.009676</td>\n",
       "      <td>0.004522</td>\n",
       "    </tr>\n",
       "    <tr>\n",
       "      <th>2016-01-06</th>\n",
       "      <td>0.011460</td>\n",
       "      <td>0.015871</td>\n",
       "      <td>0.032971</td>\n",
       "    </tr>\n",
       "    <tr>\n",
       "      <th>2016-01-07</th>\n",
       "      <td>-0.051204</td>\n",
       "      <td>-0.088691</td>\n",
       "      <td>-0.096398</td>\n",
       "    </tr>\n",
       "    <tr>\n",
       "      <th>2016-01-08</th>\n",
       "      <td>0.016420</td>\n",
       "      <td>0.030001</td>\n",
       "      <td>0.028798</td>\n",
       "    </tr>\n",
       "  </tbody>\n",
       "</table>\n",
       "</div>"
      ],
      "text/plain": [
       "Ticker        000001    600030    600426\n",
       "Date                                    \n",
       "2016-01-04  0.000000  0.000000  0.000000\n",
       "2016-01-05  0.008894  0.009676  0.004522\n",
       "2016-01-06  0.011460  0.015871  0.032971\n",
       "2016-01-07 -0.051204 -0.088691 -0.096398\n",
       "2016-01-08  0.016420  0.030001  0.028798"
      ]
     },
     "execution_count": 22,
     "metadata": {},
     "output_type": "execute_result"
    }
   ],
   "source": [
    "# 将NaN值替换为0\n",
    "price_change2.fillna(0, inplace=True)\n",
    "price_change2.ix[:5,:]"
   ]
  },
  {
   "cell_type": "markdown",
   "metadata": {},
   "source": [
    "#### 3.2 计算累积收益"
   ]
  },
  {
   "cell_type": "code",
   "execution_count": 23,
   "metadata": {},
   "outputs": [
    {
     "data": {
      "text/html": [
       "<div>\n",
       "<style scoped>\n",
       "    .dataframe tbody tr th:only-of-type {\n",
       "        vertical-align: middle;\n",
       "    }\n",
       "\n",
       "    .dataframe tbody tr th {\n",
       "        vertical-align: top;\n",
       "    }\n",
       "\n",
       "    .dataframe thead th {\n",
       "        text-align: right;\n",
       "    }\n",
       "</style>\n",
       "<table border=\"1\" class=\"dataframe\">\n",
       "  <thead>\n",
       "    <tr style=\"text-align: right;\">\n",
       "      <th>Ticker</th>\n",
       "      <th>000001</th>\n",
       "      <th>600030</th>\n",
       "      <th>600426</th>\n",
       "    </tr>\n",
       "    <tr>\n",
       "      <th>Date</th>\n",
       "      <th></th>\n",
       "      <th></th>\n",
       "      <th></th>\n",
       "    </tr>\n",
       "  </thead>\n",
       "  <tbody>\n",
       "    <tr>\n",
       "      <th>2016-01-04</th>\n",
       "      <td>1.000000</td>\n",
       "      <td>1.000000</td>\n",
       "      <td>1.000000</td>\n",
       "    </tr>\n",
       "    <tr>\n",
       "      <th>2016-01-05</th>\n",
       "      <td>1.008894</td>\n",
       "      <td>1.009676</td>\n",
       "      <td>1.004522</td>\n",
       "    </tr>\n",
       "    <tr>\n",
       "      <th>2016-01-06</th>\n",
       "      <td>1.020456</td>\n",
       "      <td>1.025701</td>\n",
       "      <td>1.037643</td>\n",
       "    </tr>\n",
       "    <tr>\n",
       "      <th>2016-01-07</th>\n",
       "      <td>0.968205</td>\n",
       "      <td>0.934730</td>\n",
       "      <td>0.937616</td>\n",
       "    </tr>\n",
       "    <tr>\n",
       "      <th>2016-01-08</th>\n",
       "      <td>0.984102</td>\n",
       "      <td>0.962773</td>\n",
       "      <td>0.964618</td>\n",
       "    </tr>\n",
       "  </tbody>\n",
       "</table>\n",
       "</div>"
      ],
      "text/plain": [
       "Ticker        000001    600030    600426\n",
       "Date                                    \n",
       "2016-01-04  1.000000  1.000000  1.000000\n",
       "2016-01-05  1.008894  1.009676  1.004522\n",
       "2016-01-06  1.020456  1.025701  1.037643\n",
       "2016-01-07  0.968205  0.934730  0.937616\n",
       "2016-01-08  0.984102  0.962773  0.964618"
      ]
     },
     "execution_count": 23,
     "metadata": {},
     "output_type": "execute_result"
    }
   ],
   "source": [
    "cum_daily_return = (1 + price_change2).cumprod()#cumprod 累乘\n",
    "cum_daily_return.head()"
   ]
  },
  {
   "cell_type": "code",
   "execution_count": 24,
   "metadata": {},
   "outputs": [
    {
     "data": {
      "text/plain": [
       "<matplotlib.axes._subplots.AxesSubplot at 0x21a0f29c860>"
      ]
     },
     "execution_count": 24,
     "metadata": {},
     "output_type": "execute_result"
    },
    {
     "data": {
      "image/png": "[encoded data removed]",
      "text/plain": [
       "<Figure size 576x432 with 1 Axes>"
      ]
     },
     "metadata": {
      "needs_background": "light"
     },
     "output_type": "display_data"
    }
   ],
   "source": [
    "cum_daily_return.plot(figsize=(8,6))"
   ]
  },
  {
   "cell_type": "markdown",
   "metadata": {},
   "source": [
    "### 4. 分析return分布"
   ]
  },
  {
   "cell_type": "markdown",
   "metadata": {},
   "source": [
    "#### 4.1 直方图"
   ]
  },
  {
   "cell_type": "code",
   "execution_count": 25,
   "metadata": {},
   "outputs": [
    {
     "data": {
      "image/png": "[encoded data removed]",
      "text/plain": [
       "<Figure size 576x432 with 1 Axes>"
      ]
     },
     "metadata": {
      "needs_background": "light"
     },
     "output_type": "display_data"
    }
   ],
   "source": [
    "# 绘制频数分布直方图，分析中信证券的return分布；\n",
    "zxzq = price_change['600030']\n",
    "zxzq.hist(bins=30, figsize=(8,6));# hist柱状图  bins颗粒度越大越精细"
   ]
  },
  {
   "cell_type": "code",
   "execution_count": 26,
   "metadata": {},
   "outputs": [
    {
     "data": {
      "text/plain": [
       "count    362.000000\n",
       "mean       0.000169\n",
       "std        0.018051\n",
       "min       -0.092504\n",
       "2.5%      -0.035293\n",
       "50%        0.000000\n",
       "97.5%      0.032923\n",
       "max        0.100299\n",
       "Name: 600030, dtype: float64"
      ]
     },
     "execution_count": 26,
     "metadata": {},
     "output_type": "execute_result"
    }
   ],
   "source": [
    "zxzq.describe(percentiles=[0.025, 0.5, 0.975])"
   ]
  },
  {
   "cell_type": "code",
   "execution_count": 27,
   "metadata": {},
   "outputs": [
    {
     "data": {
      "image/png": "[encoded data removed]",
      "text/plain": [
       "<Figure size 864x576 with 4 Axes>"
      ]
     },
     "metadata": {
      "needs_background": "light"
     },
     "output_type": "display_data"
    }
   ],
   "source": [
    "# 画出所有股票的股价分布：\n",
    "_ = price_change.hist(bins=20, sharex=True, figsize=(12,8));"
   ]
  },
  {
   "cell_type": "markdown",
   "metadata": {},
   "source": [
    "#### 4.2 QQ-Plots"
   ]
  },
  {
   "cell_type": "code",
   "execution_count": 28,
   "metadata": {},
   "outputs": [
    {
     "data": {
      "image/png": "[encoded data removed]",
      "text/plain": [
       "<Figure size 504x360 with 1 Axes>"
      ]
     },
     "metadata": {
      "needs_background": "light"
     },
     "output_type": "display_data"
    }
   ],
   "source": [
    "# 使用QQ图来验证股价retun分布；\n",
    "# 实际情况中间拟合好，两端（不满足正态分布）拟合不好\n",
    "import scipy.stats as stats\n",
    "fig = plt.figure(figsize=(7,5))\n",
    "ax = fig.add_subplot(111)\n",
    "stats.probplot(zxzq, dist='norm', plot=ax)   #stats.probplot()用来绘制QQ图；\n",
    "plt.show()"
   ]
  },
  {
   "cell_type": "code",
   "execution_count": 29,
   "metadata": {},
   "outputs": [
    {
     "data": {
      "image/png": "[encoded data removed]",
      "text/plain": [
       "<Figure size 432x288 with 1 Axes>"
      ]
     },
     "metadata": {
      "needs_background": "light"
     },
     "output_type": "display_data"
    }
   ],
   "source": [
    ">>> fig = plt.figure()\n",
    ">>> ax = fig.add_subplot(111)\n",
    ">>> x = stats.loggamma.rvs(c=2.5, size=500)\n",
    ">>> stats.probplot(x, dist=stats.loggamma, sparams=(2.5,), plot=ax)\n",
    ">>> ax.set_title(\"Probplot for loggamma dist with shape parameter 2.5\")\n",
    ">>> plt.show()"
   ]
  },
  {
   "cell_type": "markdown",
   "metadata": {},
   "source": [
    "### 5. 股价相关性"
   ]
  },
  {
   "cell_type": "code",
   "execution_count": 30,
   "metadata": {},
   "outputs": [
    {
     "data": {
      "text/plain": [
       "date\n",
       "2016-01-04    0.000000\n",
       "2016-01-05    0.002412\n",
       "2016-01-06    0.017544\n",
       "2016-01-07   -0.069334\n",
       "2016-01-08    0.020392\n",
       "Name: close, dtype: float64"
      ]
     },
     "execution_count": 30,
     "metadata": {},
     "output_type": "execute_result"
    }
   ],
   "source": [
    "# 计算沪深300指数收益\n",
    "hs300_return = hs300['close'].pct_change().fillna(0)\n",
    "hs300_return.head()"
   ]
  },
  {
   "cell_type": "code",
   "execution_count": 31,
   "metadata": {},
   "outputs": [
    {
     "data": {
      "text/html": [
       "<div>\n",
       "<style scoped>\n",
       "    .dataframe tbody tr th:only-of-type {\n",
       "        vertical-align: middle;\n",
       "    }\n",
       "\n",
       "    .dataframe tbody tr th {\n",
       "        vertical-align: top;\n",
       "    }\n",
       "\n",
       "    .dataframe thead th {\n",
       "        text-align: right;\n",
       "    }\n",
       "</style>\n",
       "<table border=\"1\" class=\"dataframe\">\n",
       "  <thead>\n",
       "    <tr style=\"text-align: right;\">\n",
       "      <th>Ticker</th>\n",
       "      <th>000001</th>\n",
       "      <th>600030</th>\n",
       "      <th>600426</th>\n",
       "    </tr>\n",
       "    <tr>\n",
       "      <th>Date</th>\n",
       "      <th></th>\n",
       "      <th></th>\n",
       "      <th></th>\n",
       "    </tr>\n",
       "  </thead>\n",
       "  <tbody>\n",
       "    <tr>\n",
       "      <th>2016-01-04</th>\n",
       "      <td>0.000000</td>\n",
       "      <td>0.000000</td>\n",
       "      <td>0.000000</td>\n",
       "    </tr>\n",
       "    <tr>\n",
       "      <th>2016-01-05</th>\n",
       "      <td>0.008894</td>\n",
       "      <td>0.009676</td>\n",
       "      <td>0.004522</td>\n",
       "    </tr>\n",
       "    <tr>\n",
       "      <th>2016-01-06</th>\n",
       "      <td>0.011460</td>\n",
       "      <td>0.015871</td>\n",
       "      <td>0.032971</td>\n",
       "    </tr>\n",
       "    <tr>\n",
       "      <th>2016-01-07</th>\n",
       "      <td>-0.051204</td>\n",
       "      <td>-0.088691</td>\n",
       "      <td>-0.096398</td>\n",
       "    </tr>\n",
       "    <tr>\n",
       "      <th>2016-01-08</th>\n",
       "      <td>0.016420</td>\n",
       "      <td>0.030001</td>\n",
       "      <td>0.028798</td>\n",
       "    </tr>\n",
       "  </tbody>\n",
       "</table>\n",
       "</div>"
      ],
      "text/plain": [
       "Ticker        000001    600030    600426\n",
       "Date                                    \n",
       "2016-01-04  0.000000  0.000000  0.000000\n",
       "2016-01-05  0.008894  0.009676  0.004522\n",
       "2016-01-06  0.011460  0.015871  0.032971\n",
       "2016-01-07 -0.051204 -0.088691 -0.096398\n",
       "2016-01-08  0.016420  0.030001  0.028798"
      ]
     },
     "execution_count": 31,
     "metadata": {},
     "output_type": "execute_result"
    }
   ],
   "source": [
    "price_change2.head()"
   ]
  },
  {
   "cell_type": "code",
   "execution_count": 34,
   "metadata": {},
   "outputs": [
    {
     "data": {
      "text/html": [
       "<div>\n",
       "<style scoped>\n",
       "    .dataframe tbody tr th:only-of-type {\n",
       "        vertical-align: middle;\n",
       "    }\n",
       "\n",
       "    .dataframe tbody tr th {\n",
       "        vertical-align: top;\n",
       "    }\n",
       "\n",
       "    .dataframe thead th {\n",
       "        text-align: right;\n",
       "    }\n",
       "</style>\n",
       "<table border=\"1\" class=\"dataframe\">\n",
       "  <thead>\n",
       "    <tr style=\"text-align: right;\">\n",
       "      <th></th>\n",
       "      <th>hs300</th>\n",
       "      <th>000001</th>\n",
       "      <th>600030</th>\n",
       "      <th>600426</th>\n",
       "    </tr>\n",
       "  </thead>\n",
       "  <tbody>\n",
       "    <tr>\n",
       "      <th>2016-01-04</th>\n",
       "      <td>0.000000</td>\n",
       "      <td>0.000000</td>\n",
       "      <td>0.000000</td>\n",
       "      <td>0.000000</td>\n",
       "    </tr>\n",
       "    <tr>\n",
       "      <th>2016-01-05</th>\n",
       "      <td>0.002412</td>\n",
       "      <td>0.008894</td>\n",
       "      <td>0.009676</td>\n",
       "      <td>0.004522</td>\n",
       "    </tr>\n",
       "    <tr>\n",
       "      <th>2016-01-06</th>\n",
       "      <td>0.017544</td>\n",
       "      <td>0.011460</td>\n",
       "      <td>0.015871</td>\n",
       "      <td>0.032971</td>\n",
       "    </tr>\n",
       "    <tr>\n",
       "      <th>2016-01-07</th>\n",
       "      <td>-0.069334</td>\n",
       "      <td>-0.051204</td>\n",
       "      <td>-0.088691</td>\n",
       "      <td>-0.096398</td>\n",
       "    </tr>\n",
       "    <tr>\n",
       "      <th>2016-01-08</th>\n",
       "      <td>0.020392</td>\n",
       "      <td>0.016420</td>\n",
       "      <td>0.030001</td>\n",
       "      <td>0.028798</td>\n",
       "    </tr>\n",
       "  </tbody>\n",
       "</table>\n",
       "</div>"
      ],
      "text/plain": [
       "               hs300    000001    600030    600426\n",
       "2016-01-04  0.000000  0.000000  0.000000  0.000000\n",
       "2016-01-05  0.002412  0.008894  0.009676  0.004522\n",
       "2016-01-06  0.017544  0.011460  0.015871  0.032971\n",
       "2016-01-07 -0.069334 -0.051204 -0.088691 -0.096398\n",
       "2016-01-08  0.020392  0.016420  0.030001  0.028798"
      ]
     },
     "execution_count": 34,
     "metadata": {},
     "output_type": "execute_result"
    }
   ],
   "source": [
    "# 把沪深300的收益拼接到前面得到的大表中\n",
    "return_all = pd.concat([hs300_return, price_change2], axis=1)\n",
    "return_all.rename(columns={'close': 'hs300'}, inplace=True)\n",
    "return_all.head()"
   ]
  },
  {
   "cell_type": "code",
   "execution_count": 35,
   "metadata": {},
   "outputs": [
    {
     "data": {
      "text/html": [
       "<div>\n",
       "<style scoped>\n",
       "    .dataframe tbody tr th:only-of-type {\n",
       "        vertical-align: middle;\n",
       "    }\n",
       "\n",
       "    .dataframe tbody tr th {\n",
       "        vertical-align: top;\n",
       "    }\n",
       "\n",
       "    .dataframe thead th {\n",
       "        text-align: right;\n",
       "    }\n",
       "</style>\n",
       "<table border=\"1\" class=\"dataframe\">\n",
       "  <thead>\n",
       "    <tr style=\"text-align: right;\">\n",
       "      <th></th>\n",
       "      <th>hs300</th>\n",
       "      <th>000001</th>\n",
       "      <th>600030</th>\n",
       "      <th>600426</th>\n",
       "    </tr>\n",
       "  </thead>\n",
       "  <tbody>\n",
       "    <tr>\n",
       "      <th>2016-01-04</th>\n",
       "      <td>1.000000</td>\n",
       "      <td>1.000000</td>\n",
       "      <td>1.000000</td>\n",
       "      <td>1.000000</td>\n",
       "    </tr>\n",
       "    <tr>\n",
       "      <th>2016-01-05</th>\n",
       "      <td>1.002412</td>\n",
       "      <td>1.008894</td>\n",
       "      <td>1.009676</td>\n",
       "      <td>1.004522</td>\n",
       "    </tr>\n",
       "    <tr>\n",
       "      <th>2016-01-06</th>\n",
       "      <td>1.019998</td>\n",
       "      <td>1.020456</td>\n",
       "      <td>1.025701</td>\n",
       "      <td>1.037643</td>\n",
       "    </tr>\n",
       "    <tr>\n",
       "      <th>2016-01-07</th>\n",
       "      <td>0.949277</td>\n",
       "      <td>0.968205</td>\n",
       "      <td>0.934730</td>\n",
       "      <td>0.937616</td>\n",
       "    </tr>\n",
       "    <tr>\n",
       "      <th>2016-01-08</th>\n",
       "      <td>0.968635</td>\n",
       "      <td>0.984102</td>\n",
       "      <td>0.962773</td>\n",
       "      <td>0.964618</td>\n",
       "    </tr>\n",
       "  </tbody>\n",
       "</table>\n",
       "</div>"
      ],
      "text/plain": [
       "               hs300    000001    600030    600426\n",
       "2016-01-04  1.000000  1.000000  1.000000  1.000000\n",
       "2016-01-05  1.002412  1.008894  1.009676  1.004522\n",
       "2016-01-06  1.019998  1.020456  1.025701  1.037643\n",
       "2016-01-07  0.949277  0.968205  0.934730  0.937616\n",
       "2016-01-08  0.968635  0.984102  0.962773  0.964618"
      ]
     },
     "execution_count": 35,
     "metadata": {},
     "output_type": "execute_result"
    }
   ],
   "source": [
    "# 计算累积收益\n",
    "cumreturn_all = (1 + return_all).cumprod()\n",
    "cumreturn_all.head()"
   ]
  },
  {
   "cell_type": "code",
   "execution_count": 36,
   "metadata": {},
   "outputs": [
    {
     "data": {
      "image/png": "[encoded data removed]",
      "text/plain": [
       "<Figure size 576x432 with 1 Axes>"
      ]
     },
     "metadata": {
      "needs_background": "light"
     },
     "output_type": "display_data"
    }
   ],
   "source": [
    "# 累积收益作图\n",
    "cumreturn_all[['hs300', '600030', '600426']].plot(figsize=(8,6));"
   ]
  },
  {
   "cell_type": "code",
   "execution_count": 38,
   "metadata": {},
   "outputs": [
    {
     "data": {
      "text/html": [
       "<div>\n",
       "<style scoped>\n",
       "    .dataframe tbody tr th:only-of-type {\n",
       "        vertical-align: middle;\n",
       "    }\n",
       "\n",
       "    .dataframe tbody tr th {\n",
       "        vertical-align: top;\n",
       "    }\n",
       "\n",
       "    .dataframe thead th {\n",
       "        text-align: right;\n",
       "    }\n",
       "</style>\n",
       "<table border=\"1\" class=\"dataframe\">\n",
       "  <thead>\n",
       "    <tr style=\"text-align: right;\">\n",
       "      <th></th>\n",
       "      <th>hs300</th>\n",
       "      <th>000001</th>\n",
       "      <th>600030</th>\n",
       "      <th>600426</th>\n",
       "    </tr>\n",
       "  </thead>\n",
       "  <tbody>\n",
       "    <tr>\n",
       "      <th>hs300</th>\n",
       "      <td>1.000000</td>\n",
       "      <td>0.863687</td>\n",
       "      <td>0.879131</td>\n",
       "      <td>0.729135</td>\n",
       "    </tr>\n",
       "    <tr>\n",
       "      <th>000001</th>\n",
       "      <td>0.863687</td>\n",
       "      <td>1.000000</td>\n",
       "      <td>0.780178</td>\n",
       "      <td>0.612255</td>\n",
       "    </tr>\n",
       "    <tr>\n",
       "      <th>600030</th>\n",
       "      <td>0.879131</td>\n",
       "      <td>0.780178</td>\n",
       "      <td>1.000000</td>\n",
       "      <td>0.619993</td>\n",
       "    </tr>\n",
       "    <tr>\n",
       "      <th>600426</th>\n",
       "      <td>0.729135</td>\n",
       "      <td>0.612255</td>\n",
       "      <td>0.619993</td>\n",
       "      <td>1.000000</td>\n",
       "    </tr>\n",
       "  </tbody>\n",
       "</table>\n",
       "</div>"
      ],
      "text/plain": [
       "           hs300    000001    600030    600426\n",
       "hs300   1.000000  0.863687  0.879131  0.729135\n",
       "000001  0.863687  1.000000  0.780178  0.612255\n",
       "600030  0.879131  0.780178  1.000000  0.619993\n",
       "600426  0.729135  0.612255  0.619993  1.000000"
      ]
     },
     "execution_count": 38,
     "metadata": {},
     "output_type": "execute_result"
    }
   ],
   "source": [
    "# 计算相关性#######################\n",
    "corrs = return_all.corr()\n",
    "corrs"
   ]
  },
  {
   "cell_type": "code",
   "execution_count": 39,
   "metadata": {},
   "outputs": [
    {
     "data": {
      "text/plain": [
       "hs300     1.000000\n",
       "000001    0.863687\n",
       "600030    0.879131\n",
       "600426    0.729135\n",
       "Name: hs300, dtype: float64"
      ]
     },
     "execution_count": 39,
     "metadata": {},
     "output_type": "execute_result"
    }
   ],
   "source": [
    "corrs.ix['hs300']"
   ]
  },
  {
   "cell_type": "code",
   "execution_count": 41,
   "metadata": {},
   "outputs": [
    {
     "data": {
      "text/plain": [
       "<matplotlib.axes._subplots.AxesSubplot at 0x21a0f60c160>"
      ]
     },
     "execution_count": 41,
     "metadata": {},
     "output_type": "execute_result"
    },
    {
     "data": {
      "image/png": "[encoded data removed]",
      "text/plain": [
       "<Figure size 576x432 with 2 Axes>"
      ]
     },
     "metadata": {
      "needs_background": "light"
     },
     "output_type": "display_data"
    }
   ],
   "source": [
    "import seaborn\n",
    "fig = plt.figure(figsize=(8,6))\n",
    "seaborn.heatmap(corrs)"
   ]
  },
  {
   "cell_type": "code",
   "execution_count": 42,
   "metadata": {},
   "outputs": [
    {
     "data": {
      "text/plain": [
       "Text(0, 0.5, '000001')"
      ]
     },
     "execution_count": 42,
     "metadata": {},
     "output_type": "execute_result"
    },
    {
     "data": {
      "image/png": "[encoded data removed]",
      "text/plain": [
       "<Figure size 576x432 with 1 Axes>"
      ]
     },
     "metadata": {
      "needs_background": "light"
     },
     "output_type": "display_data"
    }
   ],
   "source": [
    "# 两个股票的相关性：散点图\n",
    "plt.figure(figsize =(8,6))\n",
    "\n",
    "plt.title('Stock Correlation')\n",
    "plt.plot(daily_close['600030'], daily_close['000001'], '.')\n",
    "plt.xlabel('600030')\n",
    "plt.ylabel('000001')"
   ]
  }
 ],
 "metadata": {
  "kernelspec": {
   "display_name": "Python 3",
   "language": "python",
   "name": "python3"
  },
  "language_info": {
   "codemirror_mode": {
    "name": "ipython",
    "version": 3
   },
   "file_extension": ".py",
   "mimetype": "text/x-python",
   "name": "python",
   "nbconvert_exporter": "python",
   "pygments_lexer": "ipython3",
   "version": "3.7.1"
  }
 },
 "nbformat": 4,
 "nbformat_minor": 1
}
