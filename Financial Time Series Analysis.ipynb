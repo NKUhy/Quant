{
 "cells": [
  {
   "cell_type": "markdown",
   "metadata": {},
   "source": [
    "# 金融时间序列分析处理"
   ]
  },
  {
   "cell_type": "code",
   "execution_count": 1,
   "metadata": {},
   "outputs": [],
   "source": [
    "import numpy as np\n",
    "import pandas as pd\n",
    "import datetime               #  datetime比time高级一些\n",
    "from datetime import datetime\n",
    "import matplotlib.pyplot as plt\n",
    "%matplotlib inline \n",
    "import warnings; warnings.simplefilter('ignore') #忽略可能会出现的警告信息，警告并不是错误，可以忽略；"
   ]
  },
  {
   "cell_type": "markdown",
   "metadata": {},
   "source": [
    "Framework：四大模块"
   ]
  },
  {
   "cell_type": "markdown",
   "metadata": {},
   "source": [
    "### 1. Python下的日期格式——Datetime数据及相关转换"
   ]
  },
  {
   "cell_type": "markdown",
   "metadata": {},
   "source": [
    "--datetime  \n",
    "--timedelta：时间差；\n"
   ]
  },
  {
   "cell_type": "code",
   "execution_count": 10,
   "metadata": {},
   "outputs": [
    {
     "data": {
      "text/plain": [
       "<function datetime.now(tz=None)>"
      ]
     },
     "execution_count": 10,
     "metadata": {},
     "output_type": "execute_result"
    }
   ],
   "source": [
    "datetime.now #tab  from datetime import datetime  tz----时区 time zone"
   ]
  },
  {
   "cell_type": "code",
   "execution_count": 11,
   "metadata": {},
   "outputs": [
    {
     "name": "stdout",
     "output_type": "stream",
     "text": [
      "2019-06-10 15:40:56.088666\n",
      "<class 'datetime.datetime'>\n"
     ]
    }
   ],
   "source": [
    "now =datetime.now()\n",
    "print(now)\n",
    "print(type(now))"
   ]
  },
  {
   "cell_type": "code",
   "execution_count": 12,
   "metadata": {
    "scrolled": true
   },
   "outputs": [
    {
     "name": "stdout",
     "output_type": "stream",
     "text": [
      "2019-06-10 15:42:34.729186\n",
      "<class 'datetime.datetime'>\n"
     ]
    }
   ],
   "source": [
    "now = datetime.now()         #datetime以毫秒形式存储日期和时间；\n",
    "print(now)\n",
    "print(type(now))"
   ]
  },
  {
   "cell_type": "code",
   "execution_count": 13,
   "metadata": {},
   "outputs": [
    {
     "name": "stdout",
     "output_type": "stream",
     "text": [
      "2019年6月10日\n"
     ]
    }
   ],
   "source": [
    "print('{}年{}月{}日'.format(now.year, now.month, now.day))      #字符串格式化；"
   ]
  },
  {
   "cell_type": "code",
   "execution_count": 14,
   "metadata": {},
   "outputs": [
    {
     "data": {
      "text/plain": [
       "datetime.timedelta(days=660, seconds=56567, microseconds=844620)"
      ]
     },
     "execution_count": 14,
     "metadata": {},
     "output_type": "execute_result"
    }
   ],
   "source": [
    "datetime.now() - datetime(2017, 8, 19)"
   ]
  },
  {
   "cell_type": "markdown",
   "metadata": {},
   "source": [
    "#### 1.1 时间格式的转换"
   ]
  },
  {
   "cell_type": "code",
   "execution_count": 15,
   "metadata": {},
   "outputs": [
    {
     "data": {
      "text/plain": [
       "datetime.datetime(2017, 6, 18, 0, 0)"
      ]
     },
     "execution_count": 15,
     "metadata": {},
     "output_type": "execute_result"
    }
   ],
   "source": [
    "dt_time = datetime(2017, 6, 18)\n",
    "dt_time"
   ]
  },
  {
   "cell_type": "code",
   "execution_count": 16,
   "metadata": {},
   "outputs": [
    {
     "name": "stdout",
     "output_type": "stream",
     "text": [
      "<class 'str'>\n",
      "<class 'datetime.datetime'>\n"
     ]
    }
   ],
   "source": [
    "# 把时间格式的数据转换成为str格式的数据\n",
    "str_time = str(dt_time)\n",
    "print(type(str_time))\n",
    "print(type(dt_time))"
   ]
  },
  {
   "cell_type": "code",
   "execution_count": 17,
   "metadata": {},
   "outputs": [
    {
     "data": {
      "text/plain": [
       "'2017-06-18 00:00:00'"
      ]
     },
     "execution_count": 17,
     "metadata": {},
     "output_type": "execute_result"
    }
   ],
   "source": [
    "str_time"
   ]
  },
  {
   "cell_type": "code",
   "execution_count": 18,
   "metadata": {},
   "outputs": [
    {
     "name": "stdout",
     "output_type": "stream",
     "text": [
      "18/06/2017\n",
      "<class 'str'>\n"
     ]
    }
   ],
   "source": [
    "str_time2 = dt_time.strftime('%d/%m/%Y')       #用.strftime()方法可以调整年月日的格式；f：format；\n",
    "print(str_time2)\n",
    "print(type(str_time2))"
   ]
  },
  {
   "cell_type": "markdown",
   "metadata": {},
   "source": [
    "#### 1.2 将字符串转化为datetime格式3种方法"
   ]
  },
  {
   "cell_type": "markdown",
   "metadata": {},
   "source": [
    "非常重要，如果不是时间类型的数据的话，很多操作是无法完成的"
   ]
  },
  {
   "cell_type": "code",
   "execution_count": 14,
   "metadata": {},
   "outputs": [
    {
     "name": "stdout",
     "output_type": "stream",
     "text": [
      "<class 'datetime.datetime'>\n",
      "2017-06-18 00:00:00\n"
     ]
    }
   ],
   "source": [
    "# 方法1\n",
    "dt_str = '2017-06-18'\n",
    "dt_time = datetime.strptime(dt_str, '%Y-%m-%d')     #datetime.strptime(),p:parse:解析\n",
    "print(type(dt_time)) \n",
    "print(dt_time)"
   ]
  },
  {
   "cell_type": "code",
   "execution_count": 23,
   "metadata": {},
   "outputs": [
    {
     "name": "stdout",
     "output_type": "stream",
     "text": [
      "<class 'datetime.datetime'>\n",
      "2017-06-01 00:00:00\n"
     ]
    }
   ],
   "source": [
    "# 方法2\n",
    "from dateutil.parser import parse\n",
    "dt_str2 = '01-06-2017'\n",
    "#dt_time2 = parse(dt_str2)    \n",
    "dt_time2 = parse(dt_str2, dayfirst = True)   #dayfirst代表原来字符串日期开头\n",
    "print(type(dt_time2)) \n",
    "print(dt_time2)"
   ]
  },
  {
   "cell_type": "code",
   "execution_count": 20,
   "metadata": {},
   "outputs": [
    {
     "data": {
      "text/plain": [
       "0    2017/06/18\n",
       "1    2017/06/19\n",
       "2    2017-06-20\n",
       "3    2017-06-21\n",
       "Name: Course_time, dtype: object"
      ]
     },
     "execution_count": 20,
     "metadata": {},
     "output_type": "execute_result"
    }
   ],
   "source": [
    "# 方法3\n",
    "str_time = pd.Series(['2017/06/18', '2017/06/19', '2017-06-20', '2017-06-21'], name='Course_time')\n",
    "str_time"
   ]
  },
  {
   "cell_type": "code",
   "execution_count": 21,
   "metadata": {},
   "outputs": [
    {
     "data": {
      "text/plain": [
       "0   2017-06-18\n",
       "1   2017-06-19\n",
       "2   2017-06-20\n",
       "3   2017-06-21\n",
       "Name: Course_time, dtype: datetime64[ns]"
      ]
     },
     "execution_count": 21,
     "metadata": {},
     "output_type": "execute_result"
    }
   ],
   "source": [
    "dt_time = pd.to_datetime(str_time)\n",
    "dt_time"
   ]
  },
  {
   "cell_type": "markdown",
   "metadata": {},
   "source": [
    "### 2. Pandas下的时间格式"
   ]
  },
  {
   "cell_type": "markdown",
   "metadata": {},
   "source": [
    "--timestamp：pandas 最基本的时间日期对象是TimeStamp，这个对象与 datetime 对象保有高度兼容性，可通过.to_datetime() 函数转换。  \n",
    "--DatetimeIndex: pandas下的时间索引格式；  \n",
    "--pd.date_range() 可用于生成指定长度的 DatetimeIndex。参数可以是起始结束日期，或单给一个日期，加一个时间段参数。日期是包含的。  \n",
    "--Period：时期（period）概念不同于前面的时间戳（timestamp），指的是一个时间段。但在使用上并没有太多不同，pd.Period 类的构造函数仍需要一个时间戳，以及一个 freq 参数。\n",
    "\n"
   ]
  },
  {
   "cell_type": "markdown",
   "metadata": {},
   "source": [
    "#### 2.1 DatetimeIndex和TImestamp"
   ]
  },
  {
   "cell_type": "code",
   "execution_count": 25,
   "metadata": {},
   "outputs": [
    {
     "data": {
      "text/plain": [
       "DatetimeIndex(['2016-08-01', '2016-08-02'], dtype='datetime64[ns]', freq=None)"
      ]
     },
     "execution_count": 25,
     "metadata": {},
     "output_type": "execute_result"
    }
   ],
   "source": [
    "# 使用datetime格式列表创建DatetimeIndex\n",
    "dates = [datetime(2016, 8, 1), datetime(2016, 8, 2)]\n",
    "# dates = ['2016, 8, 1', '2016, 8, 2']\n",
    "dates = pd.DatetimeIndex(dates)   #把python下的datetime转换成为pandas下的时间索引DatatimeIndex；\n",
    "dates"
   ]
  },
  {
   "cell_type": "code",
   "execution_count": 26,
   "metadata": {},
   "outputs": [
    {
     "data": {
      "text/plain": [
       "2016-08-01   -0.084659\n",
       "2016-08-02    0.363637\n",
       "dtype: float64"
      ]
     },
     "execution_count": 26,
     "metadata": {},
     "output_type": "execute_result"
    }
   ],
   "source": [
    "# 如果一个Series创建时参数输入一个datetime列表，那么会自动将其转化为 DatetimeIndex并以其作为索引\n",
    "df = pd.Series(np.random.randn(2), index = dates)\n",
    "df"
   ]
  },
  {
   "cell_type": "code",
   "execution_count": 27,
   "metadata": {},
   "outputs": [
    {
     "data": {
      "text/plain": [
       "DatetimeIndex(['2016-08-01', '2016-08-02'], dtype='datetime64[ns]', freq=None)"
      ]
     },
     "execution_count": 27,
     "metadata": {},
     "output_type": "execute_result"
    }
   ],
   "source": [
    "df.index"
   ]
  },
  {
   "cell_type": "code",
   "execution_count": 28,
   "metadata": {},
   "outputs": [
    {
     "data": {
      "text/plain": [
       "Timestamp('2016-08-01 00:00:00')"
      ]
     },
     "execution_count": 28,
     "metadata": {},
     "output_type": "execute_result"
    }
   ],
   "source": [
    "df.index[0]"
   ]
  },
  {
   "cell_type": "code",
   "execution_count": 31,
   "metadata": {},
   "outputs": [
    {
     "data": {
      "text/plain": [
       "-0.08465931292329704"
      ]
     },
     "execution_count": 31,
     "metadata": {},
     "output_type": "execute_result"
    }
   ],
   "source": [
    "# 使用字符串进行索引\n",
    "df['2016-08-01']"
   ]
  },
  {
   "cell_type": "code",
   "execution_count": 32,
   "metadata": {},
   "outputs": [
    {
     "data": {
      "text/plain": [
       "2016-08-01   -0.084659\n",
       "2016-08-02    0.363637\n",
       "dtype: float64"
      ]
     },
     "execution_count": 32,
     "metadata": {},
     "output_type": "execute_result"
    }
   ],
   "source": [
    "df['2016-08']"
   ]
  },
  {
   "cell_type": "code",
   "execution_count": 33,
   "metadata": {},
   "outputs": [
    {
     "data": {
      "text/plain": [
       "DatetimeIndex(['2017-06-18', '2016-06-19', '2016-06-20', 'NaT'], dtype='datetime64[ns]', freq=None)"
      ]
     },
     "execution_count": 33,
     "metadata": {},
     "output_type": "execute_result"
    }
   ],
   "source": [
    "# 将字符串列表转化为DatetimeIndex\n",
    "date_time = pd.to_datetime(['June 18, 2017', '2016-06-19', \n",
    "                      '2016.6.20', None])\n",
    "date_time"
   ]
  },
  {
   "cell_type": "code",
   "execution_count": 34,
   "metadata": {},
   "outputs": [
    {
     "data": {
      "text/plain": [
       "2014-08-01   -1.547152\n",
       "2014-08-02    0.122931\n",
       "2014-08-03    0.197364\n",
       "2014-08-04   -0.749573\n",
       "2014-08-05   -1.559151\n",
       "Freq: D, dtype: float64"
      ]
     },
     "execution_count": 34,
     "metadata": {},
     "output_type": "execute_result"
    }
   ],
   "source": [
    "# 创建一个连续10天的DatetimeIndex并以其为索引创建Series. pd.date_range()专门用于生产datetimeIndex；\n",
    "dates = pd.date_range('8/1/2014', periods=10)\n",
    "df = pd.Series(np.random.randn(10), index = dates)\n",
    "df.head()"
   ]
  },
  {
   "cell_type": "code",
   "execution_count": 35,
   "metadata": {},
   "outputs": [
    {
     "data": {
      "text/plain": [
       "DatetimeIndex(['2014-08-01', '2014-08-02', '2014-08-03', '2014-08-04',\n",
       "               '2014-08-05', '2014-08-06', '2014-08-07', '2014-08-08',\n",
       "               '2014-08-09', '2014-08-10'],\n",
       "              dtype='datetime64[ns]', freq='D')"
      ]
     },
     "execution_count": 35,
     "metadata": {},
     "output_type": "execute_result"
    }
   ],
   "source": [
    "df.index"
   ]
  },
  {
   "cell_type": "markdown",
   "metadata": {},
   "source": [
    "#### 2.2 Period"
   ]
  },
  {
   "cell_type": "code",
   "execution_count": 36,
   "metadata": {},
   "outputs": [
    {
     "data": {
      "text/plain": [
       "PeriodIndex(['2017-01', '2017-02', '2017-03', '2017-04', '2017-05', '2017-06',\n",
       "             '2017-07', '2017-08', '2017-09', '2017-10', '2017-11', '2017-12'],\n",
       "            dtype='period[M]', freq='M')"
      ]
     },
     "execution_count": 36,
     "metadata": {},
     "output_type": "execute_result"
    }
   ],
   "source": [
    "# 创建period\n",
    "time_period = pd.period_range('2017-01-01', periods = 12, freq='M')#freq='M' 按月为频率，默认为日\n",
    "time_period"
   ]
  },
  {
   "cell_type": "code",
   "execution_count": 37,
   "metadata": {},
   "outputs": [
    {
     "data": {
      "text/plain": [
       "DatetimeIndex(['2017-01-31', '2017-02-28', '2017-03-31', '2017-04-30',\n",
       "               '2017-05-31', '2017-06-30', '2017-07-31', '2017-08-31',\n",
       "               '2017-09-30', '2017-10-31', '2017-11-30', '2017-12-31'],\n",
       "              dtype='datetime64[ns]', freq='M')"
      ]
     },
     "execution_count": 37,
     "metadata": {},
     "output_type": "execute_result"
    }
   ],
   "source": [
    "date_range = pd.date_range('2017-01-01', periods = 12, freq='M')\n",
    "date_range"
   ]
  },
  {
   "cell_type": "code",
   "execution_count": 38,
   "metadata": {},
   "outputs": [
    {
     "data": {
      "text/plain": [
       "PeriodIndex(['2017-02', '2017-03', '2017-04', '2017-05', '2017-06', '2017-07',\n",
       "             '2017-08', '2017-09', '2017-10', '2017-11', '2017-12', '2018-01'],\n",
       "            dtype='period[M]', freq='M')"
      ]
     },
     "execution_count": 38,
     "metadata": {},
     "output_type": "execute_result"
    }
   ],
   "source": [
    "# period对象的起始时间和终止时间\n",
    "time_period + 1"
   ]
  },
  {
   "cell_type": "code",
   "execution_count": 39,
   "metadata": {},
   "outputs": [
    {
     "data": {
      "text/plain": [
       "PeriodIndex(['2017-01', '2017-02', '2017-03', '2017-04', '2017-05', '2017-06',\n",
       "             '2017-07', '2017-08', '2017-09', '2017-10', '2017-11', '2017-12'],\n",
       "            dtype='period[M]', freq='M')"
      ]
     },
     "execution_count": 39,
     "metadata": {},
     "output_type": "execute_result"
    }
   ],
   "source": [
    "# 创建PeriodIndex\n",
    "period_index = pd.period_range('1/1/2017', '12/31/2017', freq='M')\n",
    "period_index"
   ]
  },
  {
   "cell_type": "code",
   "execution_count": 40,
   "metadata": {},
   "outputs": [
    {
     "data": {
      "text/plain": [
       "2017-01   -1.197605\n",
       "2017-02    0.994873\n",
       "2017-03   -0.573108\n",
       "2017-04    0.032697\n",
       "2017-05    1.383001\n",
       "2017-06   -0.433137\n",
       "2017-07   -0.721980\n",
       "2017-08   -0.800307\n",
       "2017-09    0.606493\n",
       "2017-10   -1.452899\n",
       "2017-11    0.246058\n",
       "2017-12   -1.109009\n",
       "Freq: M, dtype: float64"
      ]
     },
     "execution_count": 40,
     "metadata": {},
     "output_type": "execute_result"
    }
   ],
   "source": [
    "# 以PeriodIndex为索引创建Series\n",
    "ps = pd.Series(np.random.randn(12), index = period_index)\n",
    "ps"
   ]
  },
  {
   "cell_type": "markdown",
   "metadata": {},
   "source": [
    "#### 2.3 应用举例"
   ]
  },
  {
   "cell_type": "code",
   "execution_count": 41,
   "metadata": {
    "scrolled": true
   },
   "outputs": [
    {
     "data": {
      "text/html": [
       "<div>\n",
       "<style scoped>\n",
       "    .dataframe tbody tr th:only-of-type {\n",
       "        vertical-align: middle;\n",
       "    }\n",
       "\n",
       "    .dataframe tbody tr th {\n",
       "        vertical-align: top;\n",
       "    }\n",
       "\n",
       "    .dataframe thead th {\n",
       "        text-align: right;\n",
       "    }\n",
       "</style>\n",
       "<table border=\"1\" class=\"dataframe\">\n",
       "  <thead>\n",
       "    <tr style=\"text-align: right;\">\n",
       "      <th></th>\n",
       "      <th>open</th>\n",
       "      <th>close</th>\n",
       "      <th>high</th>\n",
       "      <th>low</th>\n",
       "      <th>volume</th>\n",
       "      <th>code</th>\n",
       "    </tr>\n",
       "    <tr>\n",
       "      <th>date</th>\n",
       "      <th></th>\n",
       "      <th></th>\n",
       "      <th></th>\n",
       "      <th></th>\n",
       "      <th></th>\n",
       "      <th></th>\n",
       "    </tr>\n",
       "  </thead>\n",
       "  <tbody>\n",
       "    <tr>\n",
       "      <th>2015-01-05</th>\n",
       "      <td>10.518</td>\n",
       "      <td>10.538</td>\n",
       "      <td>10.709</td>\n",
       "      <td>10.261</td>\n",
       "      <td>2860436.0</td>\n",
       "      <td>000001</td>\n",
       "    </tr>\n",
       "    <tr>\n",
       "      <th>2015-01-06</th>\n",
       "      <td>10.426</td>\n",
       "      <td>10.380</td>\n",
       "      <td>10.781</td>\n",
       "      <td>10.229</td>\n",
       "      <td>2166421.0</td>\n",
       "      <td>000001</td>\n",
       "    </tr>\n",
       "    <tr>\n",
       "      <th>2015-01-07</th>\n",
       "      <td>10.235</td>\n",
       "      <td>10.182</td>\n",
       "      <td>10.413</td>\n",
       "      <td>10.064</td>\n",
       "      <td>1700120.0</td>\n",
       "      <td>000001</td>\n",
       "    </tr>\n",
       "    <tr>\n",
       "      <th>2015-01-08</th>\n",
       "      <td>10.196</td>\n",
       "      <td>9.840</td>\n",
       "      <td>10.242</td>\n",
       "      <td>9.801</td>\n",
       "      <td>1407714.0</td>\n",
       "      <td>000001</td>\n",
       "    </tr>\n",
       "    <tr>\n",
       "      <th>2015-01-09</th>\n",
       "      <td>9.801</td>\n",
       "      <td>9.919</td>\n",
       "      <td>10.439</td>\n",
       "      <td>9.676</td>\n",
       "      <td>2508500.0</td>\n",
       "      <td>000001</td>\n",
       "    </tr>\n",
       "  </tbody>\n",
       "</table>\n",
       "</div>"
      ],
      "text/plain": [
       "              open   close    high     low     volume    code\n",
       "date                                                         \n",
       "2015-01-05  10.518  10.538  10.709  10.261  2860436.0  000001\n",
       "2015-01-06  10.426  10.380  10.781  10.229  2166421.0  000001\n",
       "2015-01-07  10.235  10.182  10.413  10.064  1700120.0  000001\n",
       "2015-01-08  10.196   9.840  10.242   9.801  1407714.0  000001\n",
       "2015-01-09   9.801   9.919  10.439   9.676  2508500.0  000001"
      ]
     },
     "execution_count": 41,
     "metadata": {},
     "output_type": "execute_result"
    }
   ],
   "source": [
    "import tushare as ts\n",
    "data = ts.get_k_data('000001', '2015-01-01', '2016-12-30')\n",
    "data.index = pd.to_datetime(data['date'])\n",
    "del data['date']\n",
    "data.head(5)"
   ]
  },
  {
   "cell_type": "code",
   "execution_count": 42,
   "metadata": {},
   "outputs": [
    {
     "name": "stdout",
     "output_type": "stream",
     "text": [
      "<class 'pandas.core.frame.DataFrame'>\n",
      "DatetimeIndex: 488 entries, 2015-01-05 to 2016-12-30\n",
      "Data columns (total 6 columns):\n",
      "open      488 non-null float64\n",
      "close     488 non-null float64\n",
      "high      488 non-null float64\n",
      "low       488 non-null float64\n",
      "volume    488 non-null float64\n",
      "code      488 non-null object\n",
      "dtypes: float64(5), object(1)\n",
      "memory usage: 26.7+ KB\n"
     ]
    }
   ],
   "source": [
    "data.info()"
   ]
  },
  {
   "cell_type": "code",
   "execution_count": 43,
   "metadata": {},
   "outputs": [
    {
     "data": {
      "text/plain": [
       "date\n",
       "2015-01-05    10.538\n",
       "2015-01-06    10.380\n",
       "2015-01-07    10.182\n",
       "2015-01-08     9.840\n",
       "2015-01-09     9.919\n",
       "Name: close, dtype: float64"
      ]
     },
     "execution_count": 43,
     "metadata": {},
     "output_type": "execute_result"
    }
   ],
   "source": [
    "# 提取close价格\n",
    "data_close_price = data['close']\n",
    "data_close_price.head(5)"
   ]
  },
  {
   "cell_type": "code",
   "execution_count": 44,
   "metadata": {},
   "outputs": [
    {
     "data": {
      "text/html": [
       "<div>\n",
       "<style scoped>\n",
       "    .dataframe tbody tr th:only-of-type {\n",
       "        vertical-align: middle;\n",
       "    }\n",
       "\n",
       "    .dataframe tbody tr th {\n",
       "        vertical-align: top;\n",
       "    }\n",
       "\n",
       "    .dataframe thead th {\n",
       "        text-align: right;\n",
       "    }\n",
       "</style>\n",
       "<table border=\"1\" class=\"dataframe\">\n",
       "  <thead>\n",
       "    <tr style=\"text-align: right;\">\n",
       "      <th></th>\n",
       "      <th>open</th>\n",
       "      <th>close</th>\n",
       "      <th>high</th>\n",
       "      <th>low</th>\n",
       "      <th>volume</th>\n",
       "      <th>code</th>\n",
       "    </tr>\n",
       "    <tr>\n",
       "      <th>date</th>\n",
       "      <th></th>\n",
       "      <th></th>\n",
       "      <th></th>\n",
       "      <th></th>\n",
       "      <th></th>\n",
       "      <th></th>\n",
       "    </tr>\n",
       "  </thead>\n",
       "  <tbody>\n",
       "    <tr>\n",
       "      <th>2016-01-04</th>\n",
       "      <td>9.553</td>\n",
       "      <td>8.995</td>\n",
       "      <td>9.577</td>\n",
       "      <td>8.940</td>\n",
       "      <td>563497.0</td>\n",
       "      <td>000001</td>\n",
       "    </tr>\n",
       "    <tr>\n",
       "      <th>2016-01-05</th>\n",
       "      <td>8.972</td>\n",
       "      <td>9.075</td>\n",
       "      <td>9.210</td>\n",
       "      <td>8.876</td>\n",
       "      <td>663269.0</td>\n",
       "      <td>000001</td>\n",
       "    </tr>\n",
       "  </tbody>\n",
       "</table>\n",
       "</div>"
      ],
      "text/plain": [
       "             open  close   high    low    volume    code\n",
       "date                                                    \n",
       "2016-01-04  9.553  8.995  9.577  8.940  563497.0  000001\n",
       "2016-01-05  8.972  9.075  9.210  8.876  663269.0  000001"
      ]
     },
     "execution_count": 44,
     "metadata": {},
     "output_type": "execute_result"
    }
   ],
   "source": [
    "# 使用字符串进行切片\n",
    "data['2016-01-01':'2016-01-05']"
   ]
  },
  {
   "cell_type": "code",
   "execution_count": 45,
   "metadata": {},
   "outputs": [
    {
     "data": {
      "text/plain": [
       "open       9.553\n",
       "close      8.995\n",
       "high       9.577\n",
       "low         8.94\n",
       "volume    563497\n",
       "code      000001\n",
       "Name: 2016-01-04 00:00:00, dtype: object"
      ]
     },
     "execution_count": 45,
     "metadata": {},
     "output_type": "execute_result"
    }
   ],
   "source": [
    "# 使用字符串索引返回以列明为索引的Series\n",
    "data.loc['2016-01-04']"
   ]
  },
  {
   "cell_type": "code",
   "execution_count": 46,
   "metadata": {},
   "outputs": [
    {
     "data": {
      "text/plain": [
       "8.995"
      ]
     },
     "execution_count": 46,
     "metadata": {},
     "output_type": "execute_result"
    }
   ],
   "source": [
    "data_close_price['2016-01-04']     "
   ]
  },
  {
   "cell_type": "code",
   "execution_count": 51,
   "metadata": {},
   "outputs": [
    {
     "data": {
      "text/html": [
       "<div>\n",
       "<style scoped>\n",
       "    .dataframe tbody tr th:only-of-type {\n",
       "        vertical-align: middle;\n",
       "    }\n",
       "\n",
       "    .dataframe tbody tr th {\n",
       "        vertical-align: top;\n",
       "    }\n",
       "\n",
       "    .dataframe thead th {\n",
       "        text-align: right;\n",
       "    }\n",
       "</style>\n",
       "<table border=\"1\" class=\"dataframe\">\n",
       "  <thead>\n",
       "    <tr style=\"text-align: right;\">\n",
       "      <th></th>\n",
       "      <th>open</th>\n",
       "      <th>close</th>\n",
       "      <th>high</th>\n",
       "      <th>low</th>\n",
       "      <th>volume</th>\n",
       "      <th>code</th>\n",
       "    </tr>\n",
       "    <tr>\n",
       "      <th>date</th>\n",
       "      <th></th>\n",
       "      <th></th>\n",
       "      <th></th>\n",
       "      <th></th>\n",
       "      <th></th>\n",
       "      <th></th>\n",
       "    </tr>\n",
       "  </thead>\n",
       "  <tbody>\n",
       "    <tr>\n",
       "      <th>2016-02-01</th>\n",
       "      <td>7.945</td>\n",
       "      <td>7.801</td>\n",
       "      <td>7.969</td>\n",
       "      <td>7.754</td>\n",
       "      <td>417732.0</td>\n",
       "      <td>000001</td>\n",
       "    </tr>\n",
       "    <tr>\n",
       "      <th>2016-02-02</th>\n",
       "      <td>7.801</td>\n",
       "      <td>7.921</td>\n",
       "      <td>7.984</td>\n",
       "      <td>7.785</td>\n",
       "      <td>369104.0</td>\n",
       "      <td>000001</td>\n",
       "    </tr>\n",
       "    <tr>\n",
       "      <th>2016-02-03</th>\n",
       "      <td>7.841</td>\n",
       "      <td>7.841</td>\n",
       "      <td>7.873</td>\n",
       "      <td>7.777</td>\n",
       "      <td>274572.0</td>\n",
       "      <td>000001</td>\n",
       "    </tr>\n",
       "    <tr>\n",
       "      <th>2016-02-04</th>\n",
       "      <td>7.873</td>\n",
       "      <td>7.921</td>\n",
       "      <td>7.961</td>\n",
       "      <td>7.865</td>\n",
       "      <td>373099.0</td>\n",
       "      <td>000001</td>\n",
       "    </tr>\n",
       "    <tr>\n",
       "      <th>2016-02-05</th>\n",
       "      <td>7.929</td>\n",
       "      <td>7.897</td>\n",
       "      <td>7.937</td>\n",
       "      <td>7.889</td>\n",
       "      <td>270893.0</td>\n",
       "      <td>000001</td>\n",
       "    </tr>\n",
       "  </tbody>\n",
       "</table>\n",
       "</div>"
      ],
      "text/plain": [
       "             open  close   high    low    volume    code\n",
       "date                                                    \n",
       "2016-02-01  7.945  7.801  7.969  7.754  417732.0  000001\n",
       "2016-02-02  7.801  7.921  7.984  7.785  369104.0  000001\n",
       "2016-02-03  7.841  7.841  7.873  7.777  274572.0  000001\n",
       "2016-02-04  7.873  7.921  7.961  7.865  373099.0  000001\n",
       "2016-02-05  7.929  7.897  7.937  7.889  270893.0  000001"
      ]
     },
     "execution_count": 51,
     "metadata": {},
     "output_type": "execute_result"
    }
   ],
   "source": [
    "# 使用更高一级的时间（月）进行索引\n",
    "data['2016-02'].head()"
   ]
  },
  {
   "cell_type": "code",
   "execution_count": 54,
   "metadata": {},
   "outputs": [
    {
     "data": {
      "text/plain": [
       "open       7.945\n",
       "close      7.801\n",
       "high       7.969\n",
       "low        7.754\n",
       "volume    417732\n",
       "code      000001\n",
       "Name: 2016-02-01 00:00:00, dtype: object"
      ]
     },
     "execution_count": 54,
     "metadata": {},
     "output_type": "execute_result"
    }
   ],
   "source": [
    "#data['2016-02-01']    # 具体某一行是不行的，要用.loc\n",
    "data.loc['2016-02-01']"
   ]
  },
  {
   "cell_type": "code",
   "execution_count": 48,
   "metadata": {},
   "outputs": [
    {
     "data": {
      "text/html": [
       "<div>\n",
       "<style scoped>\n",
       "    .dataframe tbody tr th:only-of-type {\n",
       "        vertical-align: middle;\n",
       "    }\n",
       "\n",
       "    .dataframe tbody tr th {\n",
       "        vertical-align: top;\n",
       "    }\n",
       "\n",
       "    .dataframe thead th {\n",
       "        text-align: right;\n",
       "    }\n",
       "</style>\n",
       "<table border=\"1\" class=\"dataframe\">\n",
       "  <thead>\n",
       "    <tr style=\"text-align: right;\">\n",
       "      <th></th>\n",
       "      <th>open</th>\n",
       "      <th>close</th>\n",
       "      <th>high</th>\n",
       "      <th>low</th>\n",
       "      <th>volume</th>\n",
       "      <th>code</th>\n",
       "    </tr>\n",
       "    <tr>\n",
       "      <th>date</th>\n",
       "      <th></th>\n",
       "      <th></th>\n",
       "      <th></th>\n",
       "      <th></th>\n",
       "      <th></th>\n",
       "      <th></th>\n",
       "    </tr>\n",
       "  </thead>\n",
       "  <tbody>\n",
       "    <tr>\n",
       "      <th>2016-02-01</th>\n",
       "      <td>7.945</td>\n",
       "      <td>7.801</td>\n",
       "      <td>7.969</td>\n",
       "      <td>7.754</td>\n",
       "      <td>417732.0</td>\n",
       "      <td>000001</td>\n",
       "    </tr>\n",
       "    <tr>\n",
       "      <th>2016-02-02</th>\n",
       "      <td>7.801</td>\n",
       "      <td>7.921</td>\n",
       "      <td>7.984</td>\n",
       "      <td>7.785</td>\n",
       "      <td>369104.0</td>\n",
       "      <td>000001</td>\n",
       "    </tr>\n",
       "    <tr>\n",
       "      <th>2016-02-03</th>\n",
       "      <td>7.841</td>\n",
       "      <td>7.841</td>\n",
       "      <td>7.873</td>\n",
       "      <td>7.777</td>\n",
       "      <td>274572.0</td>\n",
       "      <td>000001</td>\n",
       "    </tr>\n",
       "    <tr>\n",
       "      <th>2016-02-04</th>\n",
       "      <td>7.873</td>\n",
       "      <td>7.921</td>\n",
       "      <td>7.961</td>\n",
       "      <td>7.865</td>\n",
       "      <td>373099.0</td>\n",
       "      <td>000001</td>\n",
       "    </tr>\n",
       "    <tr>\n",
       "      <th>2016-02-05</th>\n",
       "      <td>7.929</td>\n",
       "      <td>7.897</td>\n",
       "      <td>7.937</td>\n",
       "      <td>7.889</td>\n",
       "      <td>270893.0</td>\n",
       "      <td>000001</td>\n",
       "    </tr>\n",
       "  </tbody>\n",
       "</table>\n",
       "</div>"
      ],
      "text/plain": [
       "             open  close   high    low    volume    code\n",
       "date                                                    \n",
       "2016-02-01  7.945  7.801  7.969  7.754  417732.0  000001\n",
       "2016-02-02  7.801  7.921  7.984  7.785  369104.0  000001\n",
       "2016-02-03  7.841  7.841  7.873  7.777  274572.0  000001\n",
       "2016-02-04  7.873  7.921  7.961  7.865  373099.0  000001\n",
       "2016-02-05  7.929  7.897  7.937  7.889  270893.0  000001"
      ]
     },
     "execution_count": 48,
     "metadata": {},
     "output_type": "execute_result"
    }
   ],
   "source": [
    "data.ix['2016-02'].head()"
   ]
  },
  {
   "cell_type": "code",
   "execution_count": 49,
   "metadata": {
    "scrolled": true
   },
   "outputs": [
    {
     "data": {
      "text/html": [
       "<div>\n",
       "<style scoped>\n",
       "    .dataframe tbody tr th:only-of-type {\n",
       "        vertical-align: middle;\n",
       "    }\n",
       "\n",
       "    .dataframe tbody tr th {\n",
       "        vertical-align: top;\n",
       "    }\n",
       "\n",
       "    .dataframe thead th {\n",
       "        text-align: right;\n",
       "    }\n",
       "</style>\n",
       "<table border=\"1\" class=\"dataframe\">\n",
       "  <thead>\n",
       "    <tr style=\"text-align: right;\">\n",
       "      <th></th>\n",
       "      <th>open</th>\n",
       "      <th>close</th>\n",
       "      <th>high</th>\n",
       "      <th>low</th>\n",
       "      <th>volume</th>\n",
       "      <th>code</th>\n",
       "    </tr>\n",
       "    <tr>\n",
       "      <th>date</th>\n",
       "      <th></th>\n",
       "      <th></th>\n",
       "      <th></th>\n",
       "      <th></th>\n",
       "      <th></th>\n",
       "      <th></th>\n",
       "    </tr>\n",
       "  </thead>\n",
       "  <tbody>\n",
       "    <tr>\n",
       "      <th>2016-02-02</th>\n",
       "      <td>7.801</td>\n",
       "      <td>7.921</td>\n",
       "      <td>7.984</td>\n",
       "      <td>7.785</td>\n",
       "      <td>369104.0</td>\n",
       "      <td>000001</td>\n",
       "    </tr>\n",
       "    <tr>\n",
       "      <th>2016-02-03</th>\n",
       "      <td>7.841</td>\n",
       "      <td>7.841</td>\n",
       "      <td>7.873</td>\n",
       "      <td>7.777</td>\n",
       "      <td>274572.0</td>\n",
       "      <td>000001</td>\n",
       "    </tr>\n",
       "    <tr>\n",
       "      <th>2016-02-04</th>\n",
       "      <td>7.873</td>\n",
       "      <td>7.921</td>\n",
       "      <td>7.961</td>\n",
       "      <td>7.865</td>\n",
       "      <td>373099.0</td>\n",
       "      <td>000001</td>\n",
       "    </tr>\n",
       "    <tr>\n",
       "      <th>2016-02-05</th>\n",
       "      <td>7.929</td>\n",
       "      <td>7.897</td>\n",
       "      <td>7.937</td>\n",
       "      <td>7.889</td>\n",
       "      <td>270893.0</td>\n",
       "      <td>000001</td>\n",
       "    </tr>\n",
       "    <tr>\n",
       "      <th>2016-02-15</th>\n",
       "      <td>7.690</td>\n",
       "      <td>7.793</td>\n",
       "      <td>7.841</td>\n",
       "      <td>7.682</td>\n",
       "      <td>278499.0</td>\n",
       "      <td>000001</td>\n",
       "    </tr>\n",
       "  </tbody>\n",
       "</table>\n",
       "</div>"
      ],
      "text/plain": [
       "             open  close   high    low    volume    code\n",
       "date                                                    \n",
       "2016-02-02  7.801  7.921  7.984  7.785  369104.0  000001\n",
       "2016-02-03  7.841  7.841  7.873  7.777  274572.0  000001\n",
       "2016-02-04  7.873  7.921  7.961  7.865  373099.0  000001\n",
       "2016-02-05  7.929  7.897  7.937  7.889  270893.0  000001\n",
       "2016-02-15  7.690  7.793  7.841  7.682  278499.0  000001"
      ]
     },
     "execution_count": 49,
     "metadata": {},
     "output_type": "execute_result"
    }
   ],
   "source": [
    "# 使用更高一级的时间（月）和第一级的时间（日）同时进行切片\n",
    "data['2016-01':'2016-02-15'].tail()"
   ]
  },
  {
   "cell_type": "markdown",
   "metadata": {},
   "source": [
    "### 3. 时间序列数据的前后移动"
   ]
  },
  {
   "cell_type": "code",
   "execution_count": 55,
   "metadata": {},
   "outputs": [
    {
     "data": {
      "text/plain": [
       "date\n",
       "2015-01-05    10.538\n",
       "2015-01-06    10.380\n",
       "2015-01-07    10.182\n",
       "2015-01-08     9.840\n",
       "2015-01-09     9.919\n",
       "Name: close, dtype: float64"
      ]
     },
     "execution_count": 55,
     "metadata": {},
     "output_type": "execute_result"
    }
   ],
   "source": [
    "# 回顾数据\n",
    "data_close_price.head()"
   ]
  },
  {
   "cell_type": "code",
   "execution_count": 1,
   "metadata": {},
   "outputs": [
    {
     "ename": "NameError",
     "evalue": "name 'data_close_price' is not defined",
     "output_type": "error",
     "traceback": [
      "\u001b[1;31m---------------------------------------------------------------------------\u001b[0m",
      "\u001b[1;31mNameError\u001b[0m                                 Traceback (most recent call last)",
      "\u001b[1;32m<ipython-input-1-c2cf08888ed9>\u001b[0m in \u001b[0;36m<module>\u001b[1;34m\u001b[0m\n\u001b[0;32m      1\u001b[0m \u001b[1;31m# 向前平移数据，距离为一个index\u001b[0m\u001b[1;33m\u001b[0m\u001b[1;33m\u001b[0m\u001b[1;33m\u001b[0m\u001b[0m\n\u001b[1;32m----> 2\u001b[1;33m \u001b[0myes_close_price\u001b[0m \u001b[1;33m=\u001b[0m \u001b[0mdata_close_price\u001b[0m\u001b[1;33m.\u001b[0m\u001b[0mshift\u001b[0m\u001b[1;33m(\u001b[0m\u001b[1;36m1\u001b[0m\u001b[1;33m)\u001b[0m       \u001b[1;31m#1是往下移动，这是很多同学容易搞错的，那如果是-1的话则是向上移动；\u001b[0m\u001b[1;33m\u001b[0m\u001b[1;33m\u001b[0m\u001b[0m\n\u001b[0m\u001b[0;32m      3\u001b[0m \u001b[0myes_close_price\u001b[0m\u001b[1;33m.\u001b[0m\u001b[0mhead\u001b[0m\u001b[1;33m(\u001b[0m\u001b[1;33m)\u001b[0m\u001b[1;33m\u001b[0m\u001b[1;33m\u001b[0m\u001b[0m\n",
      "\u001b[1;31mNameError\u001b[0m: name 'data_close_price' is not defined"
     ]
    }
   ],
   "source": [
    "# 向前平移数据，距离为一个index\n",
    "yes_close_price = data_close_price.shift(1)       #1是往下移动，这是很多同学容易搞错的，那如果是-1的话则是向上移动；\n",
    "yes_close_price.head()"
   ]
  },
  {
   "cell_type": "code",
   "execution_count": 57,
   "metadata": {},
   "outputs": [
    {
     "data": {
      "text/plain": [
       "date\n",
       "2015-01-05         NaN\n",
       "2015-01-06   -0.014993\n",
       "2015-01-07   -0.019075\n",
       "2015-01-08   -0.033589\n",
       "2015-01-09    0.008028\n",
       "Name: close, dtype: float64"
      ]
     },
     "execution_count": 57,
     "metadata": {},
     "output_type": "execute_result"
    }
   ],
   "source": [
    "# 计算收盘价百分比\n",
    "(data_close_price / data_close_price.shift(1) - 1).head()"
   ]
  },
  {
   "cell_type": "code",
   "execution_count": 58,
   "metadata": {},
   "outputs": [
    {
     "data": {
      "text/plain": [
       "date\n",
       "2015-01-05    10.538\n",
       "2015-01-06    10.380\n",
       "Name: close, dtype: float64"
      ]
     },
     "execution_count": 58,
     "metadata": {},
     "output_type": "execute_result"
    }
   ],
   "source": [
    "# 选取两个数据\n",
    "sample = data_close_price.head(2)\n",
    "sample"
   ]
  },
  {
   "cell_type": "code",
   "execution_count": 59,
   "metadata": {},
   "outputs": [
    {
     "data": {
      "text/plain": [
       "date\n",
       "2015-01-05         NaN\n",
       "2015-01-06    0.985007\n",
       "2015-01-07    0.966217\n",
       "2015-01-08    0.933764\n",
       "2015-01-09    0.941260\n",
       "Name: close, dtype: float64"
      ]
     },
     "execution_count": 59,
     "metadata": {},
     "output_type": "execute_result"
    }
   ],
   "source": [
    "# 计算累积收益率\n",
    "cum_return = (1 + (data_close_price / data_close_price.shift() - 1)).cumprod()\n",
    "cum_return.head()"
   ]
  },
  {
   "cell_type": "markdown",
   "metadata": {},
   "source": [
    "### 4.时间序列数据的频率调整"
   ]
  },
  {
   "cell_type": "markdown",
   "metadata": {},
   "source": [
    "#### 4.1 时间数据的聚合"
   ]
  },
  {
   "cell_type": "code",
   "execution_count": 60,
   "metadata": {},
   "outputs": [
    {
     "data": {
      "text/plain": [
       "0.862181312076928"
      ]
     },
     "execution_count": 60,
     "metadata": {},
     "output_type": "execute_result"
    }
   ],
   "source": [
    "# 计算某月中每日收益率的平均值1\n",
    "cum_return['2015-02'].mean()"
   ]
  },
  {
   "cell_type": "code",
   "execution_count": 61,
   "metadata": {},
   "outputs": [
    {
     "data": {
      "text/plain": [
       "date\n",
       "2015-01-31    0.910924\n",
       "2015-02-28    0.862181\n",
       "2015-03-31    0.917895\n",
       "2015-04-30    1.193445\n",
       "2015-05-31    1.200807\n",
       "Freq: M, Name: close, dtype: float64"
      ]
     },
     "execution_count": 61,
     "metadata": {},
     "output_type": "execute_result"
    }
   ],
   "source": [
    "# 计算某月中每日收益率的平均值2\n",
    "cum_return.resample('M', how= 'mean').head()"
   ]
  },
  {
   "cell_type": "code",
   "execution_count": 122,
   "metadata": {},
   "outputs": [
    {
     "data": {
      "text/html": [
       "<div>\n",
       "<style>\n",
       "    .dataframe thead tr:only-child th {\n",
       "        text-align: right;\n",
       "    }\n",
       "\n",
       "    .dataframe thead th {\n",
       "        text-align: left;\n",
       "    }\n",
       "\n",
       "    .dataframe tbody tr th {\n",
       "        vertical-align: top;\n",
       "    }\n",
       "</style>\n",
       "<table border=\"1\" class=\"dataframe\">\n",
       "  <thead>\n",
       "    <tr style=\"text-align: right;\">\n",
       "      <th></th>\n",
       "      <th>open</th>\n",
       "      <th>high</th>\n",
       "      <th>low</th>\n",
       "      <th>close</th>\n",
       "    </tr>\n",
       "    <tr>\n",
       "      <th>date</th>\n",
       "      <th></th>\n",
       "      <th></th>\n",
       "      <th></th>\n",
       "      <th></th>\n",
       "    </tr>\n",
       "  </thead>\n",
       "  <tbody>\n",
       "    <tr>\n",
       "      <th>2015-01-31</th>\n",
       "      <td>10.708</td>\n",
       "      <td>10.708</td>\n",
       "      <td>9.244</td>\n",
       "      <td>9.311</td>\n",
       "    </tr>\n",
       "    <tr>\n",
       "      <th>2015-02-28</th>\n",
       "      <td>9.110</td>\n",
       "      <td>9.405</td>\n",
       "      <td>9.030</td>\n",
       "      <td>9.351</td>\n",
       "    </tr>\n",
       "    <tr>\n",
       "      <th>2015-03-31</th>\n",
       "      <td>9.378</td>\n",
       "      <td>10.527</td>\n",
       "      <td>8.943</td>\n",
       "      <td>10.527</td>\n",
       "    </tr>\n",
       "    <tr>\n",
       "      <th>2015-04-30</th>\n",
       "      <td>10.668</td>\n",
       "      <td>13.752</td>\n",
       "      <td>10.561</td>\n",
       "      <td>13.509</td>\n",
       "    </tr>\n",
       "    <tr>\n",
       "      <th>2015-05-31</th>\n",
       "      <td>13.363</td>\n",
       "      <td>13.444</td>\n",
       "      <td>12.279</td>\n",
       "      <td>12.393</td>\n",
       "    </tr>\n",
       "  </tbody>\n",
       "</table>\n",
       "</div>"
      ],
      "text/plain": [
       "              open    high     low   close\n",
       "date                                      \n",
       "2015-01-31  10.708  10.708   9.244   9.311\n",
       "2015-02-28   9.110   9.405   9.030   9.351\n",
       "2015-03-31   9.378  10.527   8.943  10.527\n",
       "2015-04-30  10.668  13.752  10.561  13.509\n",
       "2015-05-31  13.363  13.444  12.279  12.393"
      ]
     },
     "execution_count": 122,
     "metadata": {},
     "output_type": "execute_result"
    }
   ],
   "source": [
    "data_close_price.resample('M', how='ohlc').head()        #升采样和降采样：resample；  ohlc开高低收"
   ]
  },
  {
   "cell_type": "markdown",
   "metadata": {},
   "source": [
    "#### 4.2 时间数据的频率转换"
   ]
  },
  {
   "cell_type": "code",
   "execution_count": 67,
   "metadata": {
    "scrolled": false
   },
   "outputs": [
    {
     "data": {
      "text/plain": [
       "date\n",
       "2015-01-06    0.985007\n",
       "2015-01-07    0.966217\n",
       "Name: close, dtype: float64"
      ]
     },
     "execution_count": 67,
     "metadata": {},
     "output_type": "execute_result"
    }
   ],
   "source": [
    "sample2 = cum_return[1:3]\n",
    "sample2"
   ]
  },
  {
   "cell_type": "code",
   "execution_count": 74,
   "metadata": {},
   "outputs": [
    {
     "data": {
      "text/plain": [
       "DatetimeIndexResampler [freq=<Hour>, axis=0, closed=left, label=left, convention=start, base=0]"
      ]
     },
     "execution_count": 74,
     "metadata": {},
     "output_type": "execute_result"
    }
   ],
   "source": [
    "sample2_by_hour = sample2.resample('H')\n",
    "sample2_by_hour"
   ]
  },
  {
   "cell_type": "code",
   "execution_count": 75,
   "metadata": {},
   "outputs": [
    {
     "data": {
      "text/plain": [
       "date\n",
       "2015-01-06 00:00:00    0.985007\n",
       "2015-01-06 01:00:00    0.985007\n",
       "2015-01-06 02:00:00    0.985007\n",
       "2015-01-06 03:00:00    0.985007\n",
       "2015-01-06 04:00:00    0.985007\n",
       "2015-01-06 05:00:00    0.985007\n",
       "2015-01-06 06:00:00    0.985007\n",
       "2015-01-06 07:00:00    0.985007\n",
       "2015-01-06 08:00:00    0.985007\n",
       "2015-01-06 09:00:00    0.985007\n",
       "2015-01-06 10:00:00    0.985007\n",
       "2015-01-06 11:00:00    0.985007\n",
       "2015-01-06 12:00:00    0.985007\n",
       "2015-01-06 13:00:00    0.985007\n",
       "2015-01-06 14:00:00    0.985007\n",
       "2015-01-06 15:00:00    0.985007\n",
       "2015-01-06 16:00:00    0.985007\n",
       "2015-01-06 17:00:00    0.985007\n",
       "2015-01-06 18:00:00    0.985007\n",
       "2015-01-06 19:00:00    0.985007\n",
       "2015-01-06 20:00:00    0.985007\n",
       "2015-01-06 21:00:00    0.985007\n",
       "2015-01-06 22:00:00    0.985007\n",
       "2015-01-06 23:00:00    0.985007\n",
       "2015-01-07 00:00:00    0.966217\n",
       "Freq: H, Name: close, dtype: float64"
      ]
     },
     "execution_count": 75,
     "metadata": {},
     "output_type": "execute_result"
    }
   ],
   "source": [
    "sample2_by_hour.fillna(method = 'ffill')"
   ]
  },
  {
   "cell_type": "code",
   "execution_count": 76,
   "metadata": {},
   "outputs": [
    {
     "data": {
      "text/plain": [
       "date\n",
       "2015-01-06 00:00:00    0.985007\n",
       "2015-01-06 01:00:00    0.984224\n",
       "2015-01-06 02:00:00    0.983441\n",
       "2015-01-06 03:00:00    0.982658\n",
       "2015-01-06 04:00:00    0.981875\n",
       "2015-01-06 05:00:00    0.981092\n",
       "2015-01-06 06:00:00    0.980309\n",
       "2015-01-06 07:00:00    0.979526\n",
       "2015-01-06 08:00:00    0.978744\n",
       "2015-01-06 09:00:00    0.977961\n",
       "2015-01-06 10:00:00    0.977178\n",
       "2015-01-06 11:00:00    0.976395\n",
       "2015-01-06 12:00:00    0.975612\n",
       "2015-01-06 13:00:00    0.974829\n",
       "2015-01-06 14:00:00    0.974046\n",
       "2015-01-06 15:00:00    0.973263\n",
       "2015-01-06 16:00:00    0.972481\n",
       "2015-01-06 17:00:00    0.971698\n",
       "2015-01-06 18:00:00    0.970915\n",
       "2015-01-06 19:00:00    0.970132\n",
       "2015-01-06 20:00:00    0.969349\n",
       "2015-01-06 21:00:00    0.968566\n",
       "2015-01-06 22:00:00    0.967783\n",
       "2015-01-06 23:00:00    0.967000\n",
       "2015-01-07 00:00:00    0.966217\n",
       "Freq: H, Name: close, dtype: float64"
      ]
     },
     "execution_count": 76,
     "metadata": {},
     "output_type": "execute_result"
    }
   ],
   "source": [
    "# 以线性插值方式填充空值\n",
    "sample2_by_hour.interpolate()"
   ]
  },
  {
   "cell_type": "markdown",
   "metadata": {},
   "source": [
    "#### 4.3 数据频率转换的实战应用"
   ]
  },
  {
   "cell_type": "code",
   "execution_count": 85,
   "metadata": {},
   "outputs": [],
   "source": [
    "data = ts.get_tick_data('600030','2017-08-18')\n",
    "data.head()"
   ]
  },
  {
   "cell_type": "code",
   "execution_count": 131,
   "metadata": {},
   "outputs": [
    {
     "data": {
      "text/html": [
       "<div>\n",
       "<style>\n",
       "    .dataframe thead tr:only-child th {\n",
       "        text-align: right;\n",
       "    }\n",
       "\n",
       "    .dataframe thead th {\n",
       "        text-align: left;\n",
       "    }\n",
       "\n",
       "    .dataframe tbody tr th {\n",
       "        vertical-align: top;\n",
       "    }\n",
       "</style>\n",
       "<table border=\"1\" class=\"dataframe\">\n",
       "  <thead>\n",
       "    <tr style=\"text-align: right;\">\n",
       "      <th></th>\n",
       "      <th>price</th>\n",
       "      <th>change</th>\n",
       "      <th>volume</th>\n",
       "      <th>amount</th>\n",
       "      <th>type</th>\n",
       "    </tr>\n",
       "    <tr>\n",
       "      <th>time</th>\n",
       "      <th></th>\n",
       "      <th></th>\n",
       "      <th></th>\n",
       "      <th></th>\n",
       "      <th></th>\n",
       "    </tr>\n",
       "  </thead>\n",
       "  <tbody>\n",
       "    <tr>\n",
       "      <th>09:25:03</th>\n",
       "      <td>16.84</td>\n",
       "      <td>16.84</td>\n",
       "      <td>7696</td>\n",
       "      <td>12960064</td>\n",
       "      <td>买盘</td>\n",
       "    </tr>\n",
       "    <tr>\n",
       "      <th>09:28:42</th>\n",
       "      <td>16.84</td>\n",
       "      <td>--</td>\n",
       "      <td>0</td>\n",
       "      <td>0</td>\n",
       "      <td>买盘</td>\n",
       "    </tr>\n",
       "    <tr>\n",
       "      <th>09:30:01</th>\n",
       "      <td>16.80</td>\n",
       "      <td>-0.04</td>\n",
       "      <td>1442</td>\n",
       "      <td>2422560</td>\n",
       "      <td>卖盘</td>\n",
       "    </tr>\n",
       "    <tr>\n",
       "      <th>09:30:04</th>\n",
       "      <td>16.80</td>\n",
       "      <td>--</td>\n",
       "      <td>1895</td>\n",
       "      <td>3183600</td>\n",
       "      <td>卖盘</td>\n",
       "    </tr>\n",
       "    <tr>\n",
       "      <th>09:30:07</th>\n",
       "      <td>16.81</td>\n",
       "      <td>0.01</td>\n",
       "      <td>2688</td>\n",
       "      <td>4518528</td>\n",
       "      <td>买盘</td>\n",
       "    </tr>\n",
       "    <tr>\n",
       "      <th>09:30:10</th>\n",
       "      <td>16.78</td>\n",
       "      <td>-0.03</td>\n",
       "      <td>352</td>\n",
       "      <td>590656</td>\n",
       "      <td>卖盘</td>\n",
       "    </tr>\n",
       "    <tr>\n",
       "      <th>09:30:13</th>\n",
       "      <td>16.78</td>\n",
       "      <td>--</td>\n",
       "      <td>79</td>\n",
       "      <td>132562</td>\n",
       "      <td>卖盘</td>\n",
       "    </tr>\n",
       "    <tr>\n",
       "      <th>09:30:16</th>\n",
       "      <td>16.79</td>\n",
       "      <td>0.01</td>\n",
       "      <td>166</td>\n",
       "      <td>278714</td>\n",
       "      <td>买盘</td>\n",
       "    </tr>\n",
       "    <tr>\n",
       "      <th>09:30:19</th>\n",
       "      <td>16.77</td>\n",
       "      <td>-0.02</td>\n",
       "      <td>574</td>\n",
       "      <td>962598</td>\n",
       "      <td>卖盘</td>\n",
       "    </tr>\n",
       "    <tr>\n",
       "      <th>09:30:22</th>\n",
       "      <td>16.78</td>\n",
       "      <td>0.01</td>\n",
       "      <td>241</td>\n",
       "      <td>404398</td>\n",
       "      <td>中性盘</td>\n",
       "    </tr>\n",
       "  </tbody>\n",
       "</table>\n",
       "</div>"
      ],
      "text/plain": [
       "          price change  volume    amount type\n",
       "time                                         \n",
       "09:25:03  16.84  16.84    7696  12960064   买盘\n",
       "09:28:42  16.84     --       0         0   买盘\n",
       "09:30:01  16.80  -0.04    1442   2422560   卖盘\n",
       "09:30:04  16.80     --    1895   3183600   卖盘\n",
       "09:30:07  16.81   0.01    2688   4518528   买盘\n",
       "09:30:10  16.78  -0.03     352    590656   卖盘\n",
       "09:30:13  16.78     --      79    132562   卖盘\n",
       "09:30:16  16.79   0.01     166    278714   买盘\n",
       "09:30:19  16.77  -0.02     574    962598   卖盘\n",
       "09:30:22  16.78   0.01     241    404398  中性盘"
      ]
     },
     "execution_count": 131,
     "metadata": {},
     "output_type": "execute_result"
    }
   ],
   "source": [
    "data.set_index('time', inplace = True)\n",
    "data.sort_index(ascending=True, inplace = True)     #对索引进行排序；逆序\n",
    "data.head(10)"
   ]
  },
  {
   "cell_type": "code",
   "execution_count": 132,
   "metadata": {},
   "outputs": [
    {
     "name": "stdout",
     "output_type": "stream",
     "text": [
      "<class 'pandas.core.frame.DataFrame'>\n",
      "Index: 4110 entries, 09:25:03 to 15:00:00\n",
      "Data columns (total 5 columns):\n",
      "price     4110 non-null float64\n",
      "change    4110 non-null object\n",
      "volume    4110 non-null int64\n",
      "amount    4110 non-null int64\n",
      "type      4110 non-null object\n",
      "dtypes: float64(1), int64(2), object(2)\n",
      "memory usage: 192.7+ KB\n"
     ]
    }
   ],
   "source": [
    "data.info()"
   ]
  },
  {
   "cell_type": "code",
   "execution_count": 133,
   "metadata": {
    "collapsed": true
   },
   "outputs": [],
   "source": [
    "data.index = pd.to_datetime(data.index)"
   ]
  },
  {
   "cell_type": "code",
   "execution_count": 134,
   "metadata": {},
   "outputs": [
    {
     "name": "stdout",
     "output_type": "stream",
     "text": [
      "<class 'pandas.core.frame.DataFrame'>\n",
      "DatetimeIndex: 4110 entries, 2017-08-19 09:25:03 to 2017-08-19 15:00:00\n",
      "Data columns (total 5 columns):\n",
      "price     4110 non-null float64\n",
      "change    4110 non-null object\n",
      "volume    4110 non-null int64\n",
      "amount    4110 non-null int64\n",
      "type      4110 non-null object\n",
      "dtypes: float64(1), int64(2), object(2)\n",
      "memory usage: 192.7+ KB\n"
     ]
    }
   ],
   "source": [
    "data.info()"
   ]
  },
  {
   "cell_type": "code",
   "execution_count": 136,
   "metadata": {},
   "outputs": [
    {
     "data": {
      "text/html": [
       "<div>\n",
       "<style>\n",
       "    .dataframe thead tr:only-child th {\n",
       "        text-align: right;\n",
       "    }\n",
       "\n",
       "    .dataframe thead th {\n",
       "        text-align: left;\n",
       "    }\n",
       "\n",
       "    .dataframe tbody tr th {\n",
       "        vertical-align: top;\n",
       "    }\n",
       "</style>\n",
       "<table border=\"1\" class=\"dataframe\">\n",
       "  <thead>\n",
       "    <tr style=\"text-align: right;\">\n",
       "      <th></th>\n",
       "      <th>price</th>\n",
       "      <th>volume</th>\n",
       "      <th>amount</th>\n",
       "    </tr>\n",
       "    <tr>\n",
       "      <th>time</th>\n",
       "      <th></th>\n",
       "      <th></th>\n",
       "      <th></th>\n",
       "    </tr>\n",
       "  </thead>\n",
       "  <tbody>\n",
       "    <tr>\n",
       "      <th>2017-08-19 09:25:00</th>\n",
       "      <td>16.840000</td>\n",
       "      <td>3848.000000</td>\n",
       "      <td>6.480032e+06</td>\n",
       "    </tr>\n",
       "    <tr>\n",
       "      <th>2017-08-19 09:30:00</th>\n",
       "      <td>16.782700</td>\n",
       "      <td>353.340000</td>\n",
       "      <td>5.931655e+05</td>\n",
       "    </tr>\n",
       "    <tr>\n",
       "      <th>2017-08-19 09:35:00</th>\n",
       "      <td>16.780505</td>\n",
       "      <td>158.656566</td>\n",
       "      <td>2.662220e+05</td>\n",
       "    </tr>\n",
       "    <tr>\n",
       "      <th>2017-08-19 09:40:00</th>\n",
       "      <td>16.784000</td>\n",
       "      <td>88.440000</td>\n",
       "      <td>1.484336e+05</td>\n",
       "    </tr>\n",
       "    <tr>\n",
       "      <th>2017-08-19 09:45:00</th>\n",
       "      <td>16.811237</td>\n",
       "      <td>130.896907</td>\n",
       "      <td>2.200446e+05</td>\n",
       "    </tr>\n",
       "    <tr>\n",
       "      <th>2017-08-19 09:50:00</th>\n",
       "      <td>16.806146</td>\n",
       "      <td>70.312500</td>\n",
       "      <td>1.181785e+05</td>\n",
       "    </tr>\n",
       "    <tr>\n",
       "      <th>2017-08-19 09:55:00</th>\n",
       "      <td>16.786702</td>\n",
       "      <td>146.361702</td>\n",
       "      <td>2.456697e+05</td>\n",
       "    </tr>\n",
       "    <tr>\n",
       "      <th>2017-08-19 10:00:00</th>\n",
       "      <td>16.774719</td>\n",
       "      <td>58.584270</td>\n",
       "      <td>9.825688e+04</td>\n",
       "    </tr>\n",
       "    <tr>\n",
       "      <th>2017-08-19 10:05:00</th>\n",
       "      <td>16.796977</td>\n",
       "      <td>102.058140</td>\n",
       "      <td>1.714395e+05</td>\n",
       "    </tr>\n",
       "    <tr>\n",
       "      <th>2017-08-19 10:10:00</th>\n",
       "      <td>16.800430</td>\n",
       "      <td>84.559140</td>\n",
       "      <td>1.420706e+05</td>\n",
       "    </tr>\n",
       "  </tbody>\n",
       "</table>\n",
       "</div>"
      ],
      "text/plain": [
       "                         price       volume        amount\n",
       "time                                                     \n",
       "2017-08-19 09:25:00  16.840000  3848.000000  6.480032e+06\n",
       "2017-08-19 09:30:00  16.782700   353.340000  5.931655e+05\n",
       "2017-08-19 09:35:00  16.780505   158.656566  2.662220e+05\n",
       "2017-08-19 09:40:00  16.784000    88.440000  1.484336e+05\n",
       "2017-08-19 09:45:00  16.811237   130.896907  2.200446e+05\n",
       "2017-08-19 09:50:00  16.806146    70.312500  1.181785e+05\n",
       "2017-08-19 09:55:00  16.786702   146.361702  2.456697e+05\n",
       "2017-08-19 10:00:00  16.774719    58.584270  9.825688e+04\n",
       "2017-08-19 10:05:00  16.796977   102.058140  1.714395e+05\n",
       "2017-08-19 10:10:00  16.800430    84.559140  1.420706e+05"
      ]
     },
     "execution_count": 136,
     "metadata": {},
     "output_type": "execute_result"
    }
   ],
   "source": [
    "# 转化为5分钟数据\n",
    "data_5m = data.resample('5T')\n",
    "data_5m.head(10)"
   ]
  },
  {
   "cell_type": "code",
   "execution_count": 139,
   "metadata": {
    "scrolled": true
   },
   "outputs": [
    {
     "data": {
      "text/html": [
       "<div>\n",
       "<style>\n",
       "    .dataframe thead tr:only-child th {\n",
       "        text-align: right;\n",
       "    }\n",
       "\n",
       "    .dataframe thead th {\n",
       "        text-align: left;\n",
       "    }\n",
       "\n",
       "    .dataframe tbody tr th {\n",
       "        vertical-align: top;\n",
       "    }\n",
       "</style>\n",
       "<table border=\"1\" class=\"dataframe\">\n",
       "  <thead>\n",
       "    <tr style=\"text-align: right;\">\n",
       "      <th></th>\n",
       "      <th>open</th>\n",
       "      <th>high</th>\n",
       "      <th>low</th>\n",
       "      <th>close</th>\n",
       "    </tr>\n",
       "    <tr>\n",
       "      <th>time</th>\n",
       "      <th></th>\n",
       "      <th></th>\n",
       "      <th></th>\n",
       "      <th></th>\n",
       "    </tr>\n",
       "  </thead>\n",
       "  <tbody>\n",
       "    <tr>\n",
       "      <th>2017-08-19 09:25:00</th>\n",
       "      <td>16.84</td>\n",
       "      <td>16.84</td>\n",
       "      <td>16.84</td>\n",
       "      <td>16.84</td>\n",
       "    </tr>\n",
       "    <tr>\n",
       "      <th>2017-08-19 09:26:00</th>\n",
       "      <td>NaN</td>\n",
       "      <td>NaN</td>\n",
       "      <td>NaN</td>\n",
       "      <td>NaN</td>\n",
       "    </tr>\n",
       "    <tr>\n",
       "      <th>2017-08-19 09:27:00</th>\n",
       "      <td>NaN</td>\n",
       "      <td>NaN</td>\n",
       "      <td>NaN</td>\n",
       "      <td>NaN</td>\n",
       "    </tr>\n",
       "    <tr>\n",
       "      <th>2017-08-19 09:28:00</th>\n",
       "      <td>16.84</td>\n",
       "      <td>16.84</td>\n",
       "      <td>16.84</td>\n",
       "      <td>16.84</td>\n",
       "    </tr>\n",
       "    <tr>\n",
       "      <th>2017-08-19 09:29:00</th>\n",
       "      <td>NaN</td>\n",
       "      <td>NaN</td>\n",
       "      <td>NaN</td>\n",
       "      <td>NaN</td>\n",
       "    </tr>\n",
       "    <tr>\n",
       "      <th>2017-08-19 09:30:00</th>\n",
       "      <td>16.80</td>\n",
       "      <td>16.81</td>\n",
       "      <td>16.74</td>\n",
       "      <td>16.74</td>\n",
       "    </tr>\n",
       "    <tr>\n",
       "      <th>2017-08-19 09:31:00</th>\n",
       "      <td>16.74</td>\n",
       "      <td>16.78</td>\n",
       "      <td>16.74</td>\n",
       "      <td>16.78</td>\n",
       "    </tr>\n",
       "    <tr>\n",
       "      <th>2017-08-19 09:32:00</th>\n",
       "      <td>16.79</td>\n",
       "      <td>16.80</td>\n",
       "      <td>16.79</td>\n",
       "      <td>16.80</td>\n",
       "    </tr>\n",
       "    <tr>\n",
       "      <th>2017-08-19 09:33:00</th>\n",
       "      <td>16.80</td>\n",
       "      <td>16.81</td>\n",
       "      <td>16.79</td>\n",
       "      <td>16.79</td>\n",
       "    </tr>\n",
       "    <tr>\n",
       "      <th>2017-08-19 09:34:00</th>\n",
       "      <td>16.79</td>\n",
       "      <td>16.79</td>\n",
       "      <td>16.78</td>\n",
       "      <td>16.78</td>\n",
       "    </tr>\n",
       "  </tbody>\n",
       "</table>\n",
       "</div>"
      ],
      "text/plain": [
       "                      open   high    low  close\n",
       "time                                           \n",
       "2017-08-19 09:25:00  16.84  16.84  16.84  16.84\n",
       "2017-08-19 09:26:00    NaN    NaN    NaN    NaN\n",
       "2017-08-19 09:27:00    NaN    NaN    NaN    NaN\n",
       "2017-08-19 09:28:00  16.84  16.84  16.84  16.84\n",
       "2017-08-19 09:29:00    NaN    NaN    NaN    NaN\n",
       "2017-08-19 09:30:00  16.80  16.81  16.74  16.74\n",
       "2017-08-19 09:31:00  16.74  16.78  16.74  16.78\n",
       "2017-08-19 09:32:00  16.79  16.80  16.79  16.80\n",
       "2017-08-19 09:33:00  16.80  16.81  16.79  16.79\n",
       "2017-08-19 09:34:00  16.79  16.79  16.78  16.78"
      ]
     },
     "execution_count": 139,
     "metadata": {},
     "output_type": "execute_result"
    }
   ],
   "source": [
    "data_5m = data['price'].resample('1T',how='ohlc')\n",
    "data_5m.head(10)"
   ]
  },
  {
   "cell_type": "markdown",
   "metadata": {},
   "source": [
    
   ]
  }
 ],
 "metadata": {
  "kernelspec": {
   "display_name": "Python 3",
   "language": "python",
   "name": "python3"
  },
  "language_info": {
   "codemirror_mode": {
    "name": "ipython",
    "version": 3
   },
   "file_extension": ".py",
   "mimetype": "text/x-python",
   "name": "python",
   "nbconvert_exporter": "python",
   "pygments_lexer": "ipython3",
   "version": "3.7.1"
  }
 },
 "nbformat": 4,
 "nbformat_minor": 1
}
